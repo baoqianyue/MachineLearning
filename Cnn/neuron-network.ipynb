{
 "cells": [
  {
   "cell_type": "markdown",
   "metadata": {},
   "source": [
    "## 卷积神经网络"
   ]
  },
  {
   "cell_type": "code",
   "execution_count": 1,
   "metadata": {},
   "outputs": [
    {
     "name": "stdout",
     "output_type": "stream",
     "text": [
      "['batches.meta', 'data_batch_1', 'data_batch_2', 'data_batch_3', 'data_batch_4', 'data_batch_5', 'readme.html', 'test_batch']\n"
     ]
    }
   ],
   "source": [
    "import tensorflow as tf\n",
    "import os\n",
    "import pickle\n",
    "import numpy as np\n",
    "\n",
    "CIFAR_DIR = \"./data/cifar-10-batches-py\"\n",
    "print(os.listdir(CIFAR_DIR))"
   ]
  },
  {
   "cell_type": "code",
   "execution_count": 2,
   "metadata": {},
   "outputs": [],
   "source": [
    "def load_data(filename):\n",
    "    with open(filename, 'rb') as f:\n",
    "        data = pickle.load(f, encoding='latin1')\n",
    "        return data['data'], data['labels']\n",
    "\n",
    "class CifarData:\n",
    "    # 对于训练集需要每次选取时对数据进行shuffle，因为在训练时要进行w参数的更新，shuffle可以减少数据之间的相互依赖关系\n",
    "    # 对于测试数据集只计算loss和accuracy，无需shuffle\n",
    "    def __init__(self, filenames, need_shuffle):\n",
    "        all_data = []\n",
    "        all_labels = []\n",
    "        for filename in filenames:\n",
    "            data, labels = load_data(filename)\n",
    "            all_data.append(data)\n",
    "            all_labels.append(labels)\n",
    "        self._data = np.vstack(all_data) # 这里将保存好的数据合成一个矩阵\n",
    "        # 这里没有进行归一化的分类效果比较差，是因为原像素的值太大，但是预测的值都在0，1之间，\n",
    "        # sigmoid函数在x取值较大时会出现梯度弥散的现象，导致学习不到参数\n",
    "        self._data = self._data / 127.5 - 1 # 对图像进行归一化   \n",
    "        self._labels = np.hstack(all_labels)\n",
    "        self._num_examples = self._data.shape[0]\n",
    "        self._need_shuffle = need_shuffle\n",
    "        self._indicator = 0 # 数据集遍历位置指示器\n",
    "        if self._need_shuffle:\n",
    "            self._shuffle_data()\n",
    "            \n",
    "    def _shuffle_data(self):\n",
    "        # 生成一个制定范围的shuffle整数序列\n",
    "        p = np.random.permutation(self._num_examples)\n",
    "        self._data = self._data[p]\n",
    "        self._labels = self._labels[p]\n",
    "    \n",
    "    def next_batch(self, batch_size):\n",
    "        \"\"\"return batch size examples as a batch\"\"\"\n",
    "        end_indicator = self._indicator + batch_size\n",
    "        if end_indicator > self._num_examples:\n",
    "            if self._need_shuffle:\n",
    "                self._shuffle_data() # 如果end已经大于data size的话说明数据已经遍历完，所以将指示器归零\n",
    "                self._indicator = 0\n",
    "                end_indicator = batch_size\n",
    "            else:\n",
    "                raise Exception('have no more examples')\n",
    "        if end_indicator > self._num_examples:\n",
    "            raise Exception(\"batch size is larger than all examples\")\n",
    "        batch_data = self._data[self._indicator: end_indicator]\n",
    "        batch_labels = self._labels[self._indicator:end_indicator]\n",
    "        self._indicator = end_indicator\n",
    "        return batch_data, batch_labels\n",
    "train_filenames = [os.path.join(CIFAR_DIR, 'data_batch_%d' % i) for i in range(1, 6)]\n",
    "test_filenames = [os.path.join(CIFAR_DIR, 'test_batch')]\n",
    "train_data = CifarData(train_filenames, True)\n",
    "test_data = CifarData(test_filenames, False)\n",
    "\n",
    "batch_data, batch_labels = train_data.next_batch(10)\n"
   ]
  },
  {
   "cell_type": "code",
   "execution_count": 3,
   "metadata": {},
   "outputs": [],
   "source": [
    "x = tf.placeholder(tf.float32, [None, 3072])\n",
    "y = tf.placeholder(tf.int64, [None])\n",
    "\n",
    "# 十分类\n",
    "# （3072，10)\n",
    "# 全连接层封装函数\n",
    "hidden1 = tf.layers.dense(x, 100, activation=tf.nn.relu)\n",
    "hidden2 = tf.layers.dense(hidden1, 100, activation=tf.nn.relu)\n",
    "hidden3 = tf.layers.dense(hidden2, 50, activation=tf.nn.relu)\n",
    "\n",
    "y_ = tf.layers.dense(hidden3, 10)\n",
    "\n",
    "\n",
    "# cross entropy\n",
    "loss = tf.losses.sparse_softmax_cross_entropy(labels=y, logits=y_)\n",
    "# y_ -> softmax\n",
    "# y -> onehot\n",
    "# loss = ylogy_\n",
    "\n",
    "\n",
    "\n",
    "# y_是一个矩阵，第一个维度是所有样本，第二个维度是对应的每个样本在每一个类别上的预测值，获取预测值最大的类别的index\n",
    "predict = tf.argmax(y_, 1)\n",
    "# [1,0,1,0...]\n",
    "correct_prediction = tf.equal(predict, y)\n",
    "# 为了计算均值，这里将预测的int值转为float类型\n",
    "accuracy = tf.reduce_mean(tf.cast(correct_prediction, tf.float64))\n",
    "\n",
    "with tf.name_scope('train_op'):\n",
    "    train_op = tf.train.AdamOptimizer(1e-3).minimize(loss)\n"
   ]
  },
  {
   "cell_type": "code",
   "execution_count": 4,
   "metadata": {},
   "outputs": [
    {
     "name": "stdout",
     "output_type": "stream",
     "text": [
      "[Train] step: 500, loss: 1.67296, acc: 0.30000\n",
      "[Train] step: 1000, loss: 1.85763, acc: 0.45000\n",
      "[Train] step: 1500, loss: 1.75073, acc: 0.35000\n",
      "[Train] step: 2000, loss: 1.73998, acc: 0.50000\n",
      "[Train] step: 2500, loss: 1.90858, acc: 0.25000\n",
      "[Train] step: 3000, loss: 1.42281, acc: 0.55000\n",
      "[Train] step: 3500, loss: 2.01301, acc: 0.45000\n",
      "[Train] step: 4000, loss: 1.55739, acc: 0.40000\n",
      "[Train] step: 4500, loss: 1.03378, acc: 0.60000\n",
      "[Train] step: 5000, loss: 1.59755, acc: 0.45000\n",
      "[Test] step: 5000, acc: 0.49150\n",
      "[Train] step: 5500, loss: 1.12241, acc: 0.60000\n",
      "[Train] step: 6000, loss: 1.39427, acc: 0.55000\n",
      "[Train] step: 6500, loss: 1.46522, acc: 0.50000\n",
      "[Train] step: 7000, loss: 1.10342, acc: 0.65000\n",
      "[Train] step: 7500, loss: 1.13335, acc: 0.50000\n",
      "[Train] step: 8000, loss: 1.01019, acc: 0.70000\n",
      "[Train] step: 8500, loss: 1.35927, acc: 0.60000\n",
      "[Train] step: 9000, loss: 1.52345, acc: 0.40000\n",
      "[Train] step: 9500, loss: 1.36622, acc: 0.45000\n",
      "[Train] step: 10000, loss: 1.64157, acc: 0.35000\n",
      "[Test] step: 10000, acc: 0.50350\n"
     ]
    }
   ],
   "source": [
    "init = tf.global_variables_initializer()\n",
    "batch_size = 20\n",
    "train_steps = 10000\n",
    "test_steps = 100\n",
    "\n",
    "with tf.Session() as sess:\n",
    "    sess.run(init)\n",
    "    for i in range(train_steps):\n",
    "        batch_data, batch_labels = train_data.next_batch(batch_size)\n",
    "        loss_val, acc_val,  _ = sess.run(\n",
    "            [loss, accuracy, train_op], \n",
    "            feed_dict={x: batch_data, y: batch_labels})\n",
    "        if (i+1) % 500 == 0:\n",
    "            print('[Train] step: %d, loss: %4.5f, acc: %4.5f'\\\n",
    "                  %(i+1, loss_val, acc_val))\n",
    "        if (i+1) % 5000 == 0:\n",
    "            test_data = CifarData(test_filenames, False)\n",
    "            all_test_acc_val = []\n",
    "            for j in range(test_steps):\n",
    "                test_data_batch, test_labels_batch \\\n",
    "                =test_data.next_batch(batch_size)\n",
    "                test_acc_val = sess.run([accuracy], feed_dict={x:test_data_batch, y:test_labels_batch})\n",
    "                all_test_acc_val.append(test_acc_val)\n",
    "            test_acc = np.mean(all_test_acc_val)\n",
    "            print(\"[Test] step: %d, acc: %4.5f\" % (i+1, test_acc))"
   ]
  }
 ],
 "metadata": {
  "kernelspec": {
   "display_name": "Python [conda env:tensorflow-gpu]",
   "language": "python",
   "name": "conda-env-tensorflow-gpu-py"
  },
  "language_info": {
   "codemirror_mode": {
    "name": "ipython",
    "version": 3
   },
   "file_extension": ".py",
   "mimetype": "text/x-python",
   "name": "python",
   "nbconvert_exporter": "python",
   "pygments_lexer": "ipython3",
   "version": "3.6.2"
  }
 },
 "nbformat": 4,
 "nbformat_minor": 2
}
