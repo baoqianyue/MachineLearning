{
 "cells": [
  {
   "cell_type": "code",
   "execution_count": 1,
   "metadata": {},
   "outputs": [
    {
     "name": "stderr",
     "output_type": "stream",
     "text": [
      "D:\\Anaconda3\\lib\\site-packages\\h5py\\__init__.py:36: FutureWarning: Conversion of the second argument of issubdtype from `float` to `np.floating` is deprecated. In future, it will be treated as `np.float64 == np.dtype(float).type`.\n",
      "  from ._conv import register_converters as _register_converters\n"
     ]
    },
    {
     "name": "stdout",
     "output_type": "stream",
     "text": [
      "['batches.meta', 'data_batch_1', 'data_batch_2', 'data_batch_3', 'data_batch_4', 'data_batch_5', 'readme.html', 'test_batch']\n"
     ]
    }
   ],
   "source": [
    "import tensorflow as tf\n",
    "import os\n",
    "import pickle\n",
    "import numpy as np \n",
    "import warnings \n",
    "\n",
    "warnings.filterwarnings('ignore')\n",
    "CIFAR_DIR = './data/cifar-10-batches-py/'\n",
    "print(os.listdir(CIFAR_DIR))"
   ]
  },
  {
   "cell_type": "code",
   "execution_count": 2,
   "metadata": {},
   "outputs": [],
   "source": [
    "def load_data(filename):\n",
    "    with open(filename, 'rb') as f:\n",
    "        data = pickle.load(f, encoding='latin1')\n",
    "        return data['data'], data['labels']\n",
    "\n",
    "class CifarData:\n",
    "    def __init__(self, filenames, need_shuffle):\n",
    "        all_data = []\n",
    "        all_labels = []\n",
    "        for filename in filenames:\n",
    "            data, labels = load_data(filename)\n",
    "            all_data.append(data)\n",
    "            all_labels.append(labels)\n",
    "        # 将所有的训练数据合并成一个大矩阵\n",
    "        self._data = np.vstack(all_data)\n",
    "        # 对图像数据进行归一化，因为有sigmod激活函数进行0，1之间的预测\n",
    "        self._data = self._data / 127.5 - 1\n",
    "        # 将所有的标签合并成一个向量\n",
    "        self._labels = np.hstack(all_labels)\n",
    "        self._need_shuffle = need_shuffle\n",
    "        self._num_examples = self._data.shape[0]\n",
    "        self._indicator = 0\n",
    "        if self._need_shuffle:\n",
    "            self._shuffle_data()\n",
    "            \n",
    "    def _shuffle_data(self):\n",
    "        n = np.random.permutation(self._num_examples)\n",
    "        self._data = self._data[n]\n",
    "        self._labels = self._labels[n]\n",
    "        \n",
    "    def next_batch(self, batch_size):\n",
    "        end_indicator = self._indicator + batch_size\n",
    "        if end_indicator > self._num_examples:\n",
    "            if self._need_shuffle:\n",
    "                self._shuffle_data()\n",
    "                self._indicator = 0\n",
    "                end_indicator = batch_size\n",
    "            else:\n",
    "                raise Exception('have no more data')\n",
    "        if end_indicator > self._num_examples:\n",
    "            raise Exception('batch size is larger than all data')\n",
    "        batch_data = self._data[self._indicator : end_indicator]\n",
    "        batch_labels = self._labels[self._indicator : end_indicator]\n",
    "        self._indicator = end_indicator\n",
    "        return batch_data, batch_labels\n",
    "train_filenames = [os.path.join(CIFAR_DIR, 'data_batch_%d' % i) for i in range(1, 6)]\n",
    "test_filenames = [os.path.join(CIFAR_DIR, 'test_batch')]\n",
    "train_data = CifarData(train_filenames, True)\n",
    "test_data = CifarData(test_filenames, False)\n",
    "\n",
    "batch_data, batch_labels = train_data.next_batch(10)\n",
    "    "
   ]
  },
  {
   "cell_type": "code",
   "execution_count": 3,
   "metadata": {},
   "outputs": [],
   "source": [
    "x = tf.placeholder(tf.float32, [None, 3072])\n",
    "y = tf.placeholder(tf.int64, [None])\n",
    "\n",
    "hidden1 = tf.layers.dense(x, 100, activation=tf.nn.relu)\n",
    "hidden2 = tf.layers.dense(hidden1, 100, activation=tf.nn.relu)\n",
    "hidden3 = tf.layers.dense(hidden2, 50, activation=tf.nn.relu)\n",
    "\n",
    "y_ = tf.layers.dense(hidden3, 10)\n",
    "loss = tf.losses.sparse_softmax_cross_entropy(labels=y, logits=y_)\n",
    "\n",
    "\n",
    "predict = tf.argmax(y_, 1)\n",
    "correct_prediction = tf.equal(predict, y)\n",
    "accuracy = tf.reduce_mean(tf.cast(correct_prediction, tf.float64))\n",
    "\n",
    "with tf.name_scope('train_op'):\n",
    "    train_op = tf.train.AdamOptimizer(1e-3).minimize(loss)"
   ]
  },
  {
   "cell_type": "code",
   "execution_count": 4,
   "metadata": {},
   "outputs": [
    {
     "name": "stdout",
     "output_type": "stream",
     "text": [
      "[Train] step: 500, loss: 1.90225, acc: 0.45000\n",
      "[Train] step: 1000, loss: 1.47771, acc: 0.50000\n",
      "[Train] step: 1500, loss: 1.57430, acc: 0.40000\n",
      "[Train] step: 2000, loss: 1.29158, acc: 0.55000\n",
      "[Train] step: 2500, loss: 1.56753, acc: 0.35000\n",
      "[Train] step: 3000, loss: 1.84847, acc: 0.35000\n",
      "[Train] step: 3500, loss: 1.73265, acc: 0.45000\n",
      "[Train] step: 4000, loss: 1.36447, acc: 0.45000\n",
      "[Train] step: 4500, loss: 1.92240, acc: 0.45000\n",
      "[Train] step: 5000, loss: 1.20861, acc: 0.60000\n",
      "[Test] step: 5000, acc: 0.46900\n",
      "[Train] step: 5500, loss: 1.37267, acc: 0.55000\n",
      "[Train] step: 6000, loss: 1.81779, acc: 0.30000\n",
      "[Train] step: 6500, loss: 1.29555, acc: 0.45000\n",
      "[Train] step: 7000, loss: 1.55933, acc: 0.55000\n",
      "[Train] step: 7500, loss: 1.54335, acc: 0.55000\n",
      "[Train] step: 8000, loss: 2.03859, acc: 0.40000\n",
      "[Train] step: 8500, loss: 1.11400, acc: 0.55000\n",
      "[Train] step: 9000, loss: 1.42376, acc: 0.45000\n",
      "[Train] step: 9500, loss: 1.18972, acc: 0.50000\n",
      "[Train] step: 10000, loss: 1.17657, acc: 0.60000\n",
      "[Test] step: 10000, acc: 0.51100\n"
     ]
    }
   ],
   "source": [
    "init = tf.global_variables_initializer()\n",
    "batch_size = 20 \n",
    "train_steps = 10000\n",
    "test_steps = 100\n",
    "\n",
    "with tf.Session() as sess:\n",
    "    sess.run(init)\n",
    "    for i in range(train_steps):\n",
    "        batch_data, batch_labels = train_data.next_batch(batch_size)\n",
    "        loss_val, acc_val, _ = sess.run([loss, accuracy, train_op], \n",
    "                                        feed_dict={x:batch_data, y:batch_labels})\n",
    "        if (i + 1) % 500 == 0:\n",
    "            print('[Train] step: %d, loss: %4.5f, acc: %4.5f' % (i + 1, loss_val, acc_val))\n",
    "        if (i + 1) % 5000 == 0:\n",
    "            test_data = CifarData(test_filenames, False)\n",
    "            all_test_acc_val = []\n",
    "            for j in range(test_steps):\n",
    "                test_data_batch, test_data_labels = test_data.next_batch(batch_size)\n",
    "                test_acc_val = sess.run([accuracy], feed_dict={x:test_data_batch, y:test_data_labels})\n",
    "                all_test_acc_val.append(test_acc_val)\n",
    "            test_acc = np.mean(all_test_acc_val)\n",
    "            print('[Test] step: %d, acc: %4.5f' % (i + 1, test_acc))"
   ]
  }
 ],
 "metadata": {
  "kernelspec": {
   "display_name": "Python [default]",
   "language": "python",
   "name": "python3"
  },
  "language_info": {
   "codemirror_mode": {
    "name": "ipython",
    "version": 3
   },
   "file_extension": ".py",
   "mimetype": "text/x-python",
   "name": "python",
   "nbconvert_exporter": "python",
   "pygments_lexer": "ipython3",
   "version": "3.6.5"
  }
 },
 "nbformat": 4,
 "nbformat_minor": 2
}
