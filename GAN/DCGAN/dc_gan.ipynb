{
 "cells": [
  {
   "cell_type": "markdown",
   "metadata": {},
   "source": [
    "# 模型训练流程\n",
    "* 1.Data provider \n",
    "    * a.Image data\n",
    "    * b.random vector  \n",
    "* 2.Build Compute graph  \n",
    "    * a.generator \n",
    "    * b.discriminator \n",
    "    * c.DCGAN class \n",
    "* 3.training process "
   ]
  },
  {
   "cell_type": "code",
   "execution_count": 4,
   "metadata": {},
   "outputs": [],
   "source": [
    "import os\n",
    "import tensorflow as tf\n",
    "from tensorflow import logging\n",
    "from tensorflow import gfile\n",
    "import sys\n",
    "import pprint\n",
    "import numpy as np\n",
    "import pickle\n",
    "import random\n",
    "import math\n",
    "from PIL import Image\n",
    "from tensorflow.examples.tutorials.mnist import input_data"
   ]
  },
  {
   "cell_type": "code",
   "execution_count": 6,
   "metadata": {},
   "outputs": [
    {
     "name": "stdout",
     "output_type": "stream",
     "text": [
      "Extracting ../MNIST_data/train-images-idx3-ubyte.gz\n",
      "Extracting ../MNIST_data/train-labels-idx1-ubyte.gz\n",
      "Extracting ../MNIST_data/t10k-images-idx3-ubyte.gz\n",
      "Extracting ../MNIST_data/t10k-labels-idx1-ubyte.gz\n",
      "32\n",
      "0.002\n",
      "(55000, 784)\n"
     ]
    }
   ],
   "source": [
    "mnist = input_data.read_data_sets('../MNIST_data/', one_hot=True)# 加载数据\n",
    "output_dir = './local_run' # 输出文件夹路径\n",
    "if not gfile.Exists(output_dir):\n",
    "    gfile.MakeDirs(output_dir) # 创建输出文件夹\n",
    "\n",
    "def get_default_params():\n",
    "    return tf.contrib.training.HParams(\n",
    "        z_dim = 100, # 随机噪声数据维度\n",
    "        init_conv_size = 4, # 将输入噪声变化成feature_map时,其初始size为4x4\n",
    "        g_channels = [128, 64, 32, 1],# 生成器中各反卷积层的通道数目\n",
    "        d_channels = [32, 64, 128, 256], # 判别器中各卷积层的通道数据,各个卷积层size减半,然后通道数加半,然后pooling\n",
    "        batch_size = 128, # 每批数量\n",
    "        learning_rate = 0.002, \n",
    "        beta1 = 0.5, # adam参数\n",
    "        img_size = 32, # 生成图像为32x32\n",
    "    )\n",
    "hparams = get_default_params()\n"
   ]
  },
  {
   "cell_type": "code",
   "execution_count": null,
   "metadata": {},
   "outputs": [],
   "source": []
  }
 ],
 "metadata": {
  "kernelspec": {
   "display_name": "Python [default]",
   "language": "python",
   "name": "python3"
  },
  "language_info": {
   "codemirror_mode": {
    "name": "ipython",
    "version": 3
   },
   "file_extension": ".py",
   "mimetype": "text/x-python",
   "name": "python",
   "nbconvert_exporter": "python",
   "pygments_lexer": "ipython3",
   "version": "3.6.5"
  }
 },
 "nbformat": 4,
 "nbformat_minor": 2
}
