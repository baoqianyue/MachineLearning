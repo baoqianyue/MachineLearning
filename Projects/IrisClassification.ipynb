{
 "cells": [
  {
   "cell_type": "markdown",
   "metadata": {},
   "source": [
    "## 鸢尾花分类"
   ]
  },
  {
   "cell_type": "code",
   "execution_count": 43,
   "metadata": {},
   "outputs": [],
   "source": [
    "import numpy as np\n",
    "import matplotlib.pyplot as plt\n",
    "from sklearn import datasets\n",
    "import warnings\n",
    "\n",
    "warnings.filterwarnings('ignore')"
   ]
  },
  {
   "cell_type": "markdown",
   "metadata": {},
   "source": [
    "### 自定义实现二分类"
   ]
  },
  {
   "cell_type": "code",
   "execution_count": 9,
   "metadata": {},
   "outputs": [
    {
     "name": "stdout",
     "output_type": "stream",
     "text": [
      "(100, 2) (100,)\n"
     ]
    }
   ],
   "source": [
    "iris = datasets.load_iris()\n",
    "# 这里只取前两个特征，方便绘图\n",
    "# 同时只取前两个类别\n",
    "X = iris.data\n",
    "y = iris.target\n",
    "\n",
    "X = X[y < 2, :2]\n",
    "y = y[y < 2]\n",
    "print(X.shape, y.shape)"
   ]
  },
  {
   "cell_type": "markdown",
   "metadata": {},
   "source": [
    "绘制数据类别分布"
   ]
  },
  {
   "cell_type": "code",
   "execution_count": 10,
   "metadata": {},
   "outputs": [
    {
     "data": {
      "image/png": "[encoded data removed]",
      "text/plain": [
       "<Figure size 432x288 with 1 Axes>"
      ]
     },
     "metadata": {
      "needs_background": "light"
     },
     "output_type": "display_data"
    }
   ],
   "source": [
    "plt.scatter(X[y==0, 0], X[y==0, 1])\n",
    "plt.scatter(X[y==1, 0], X[y==1, 1])\n",
    "plt.show()"
   ]
  },
  {
   "cell_type": "markdown",
   "metadata": {},
   "source": [
    "实现分类器，封装训练，预测，评估函数"
   ]
  },
  {
   "cell_type": "code",
   "execution_count": 33,
   "metadata": {},
   "outputs": [],
   "source": [
    "from sklearn.metrics import accuracy_score\n",
    "\n",
    "class LogisticRegression:\n",
    "    \n",
    "    def __init__(self):\n",
    "        \"\"\"初始化\"\"\"\n",
    "        self.coef_ = None\n",
    "        self.intercept_ = None\n",
    "        self._theta = None\n",
    "        self._losses = None\n",
    "    \n",
    "    def _sigmoid(self, x):\n",
    "        return 1. / (1. + np.exp(-x))\n",
    "    \n",
    "    def fit(self, X_train, y_train, lr=0.01, steps=10000):\n",
    "        \"\"\"优化函数\"\"\"\n",
    "        \n",
    "        def Loss(theta, X_b, y):\n",
    "            # y_hat\n",
    "            y_ = self._sigmoid(X_b.dot(theta))\n",
    "            \n",
    "            try:\n",
    "                return - np.sum(y*np.log(y_) + (1-y)*np.log(1-y_)) / len(y)\n",
    "            except:\n",
    "                return float('inf')\n",
    "        def dLoss(theta, x_b, y):\n",
    "            return X_b.T.dot(self._sigmoid(X_b.dot(theta)) - y) / len(y)\n",
    "    \n",
    "        def gradient_descent(X_b, y, initial_theta, lr, steps=10000, ep=1e-8):\n",
    "\n",
    "            theta = initial_theta\n",
    "            step = 0\n",
    "            losses = []\n",
    "\n",
    "            while step < steps:\n",
    "                gradient = dLoss(theta, X_b, y)\n",
    "                theta = theta - lr * gradient\n",
    "                loss = Loss(theta, X_b, y)\n",
    "                losses.append(loss)\n",
    "                if step % 500 == 0:\n",
    "                    print('curr step:%d, loss: %s' %(step, loss))\n",
    "\n",
    "                step += 1\n",
    "\n",
    "            return theta, losses\n",
    "        \n",
    "        X_b = np.hstack([np.ones((len(X_train), 1)), X_train])\n",
    "        initial_theta = np.zeros(X_b.shape[1])\n",
    "        self._theta, self._losses = gradient_descent(X_b, y_train, initial_theta, lr, steps)\n",
    "\n",
    "        self.intercept_ = self._theta[0]\n",
    "        self.coef_ = self._theta[1:]\n",
    "\n",
    "        return self\n",
    "    \n",
    "    def predict(self, X_predict):\n",
    "        \n",
    "        X_b = np.hstack([np.ones((len(X_predict), 1)), X_predict])\n",
    "        prob = self._sigmoid(X_b.dot(self._theta))\n",
    "        # 使用0，1代替\n",
    "        return np.array(prob >= 0.5, dtype='int')\n",
    "    \n",
    "    def score(self, X_test, y_test):\n",
    "        \n",
    "        y_predict = self.predict(X_test)\n",
    "        return accuracy_score(y_test, y_predict)\n",
    "    \n",
    "    def __repr__(self):\n",
    "        return \"LogisticRegression()\""
   ]
  },
  {
   "cell_type": "markdown",
   "metadata": {},
   "source": [
    "数据划分，train_test_split"
   ]
  },
  {
   "cell_type": "code",
   "execution_count": 34,
   "metadata": {},
   "outputs": [
    {
     "name": "stdout",
     "output_type": "stream",
     "text": [
      "(75, 2) (75,)\n"
     ]
    }
   ],
   "source": [
    "from sklearn.model_selection import train_test_split\n",
    "\n",
    "# 随机种子：世界聚焦于你\n",
    "X_train, X_test, y_train, y_test = train_test_split(X, y, random_state=777)\n",
    "print(X_train.shape, y_train.shape)"
   ]
  },
  {
   "cell_type": "code",
   "execution_count": 35,
   "metadata": {},
   "outputs": [
    {
     "name": "stdout",
     "output_type": "stream",
     "text": [
      "curr step:0, loss: 0.6924047694668186\n",
      "curr step:500, loss: 0.45726810409625046\n",
      "curr step:1000, loss: 0.34453490490969735\n",
      "curr step:1500, loss: 0.280966480092476\n",
      "curr step:2000, loss: 0.24050057433984573\n",
      "curr step:2500, loss: 0.21250090541603037\n",
      "curr step:3000, loss: 0.19195132710754764\n",
      "curr step:3500, loss: 0.17620199146403798\n",
      "curr step:4000, loss: 0.16372668078635294\n",
      "curr step:4500, loss: 0.15358553284085424\n",
      "curr step:5000, loss: 0.1451683124451996\n",
      "curr step:5500, loss: 0.13806149073694612\n",
      "curr step:6000, loss: 0.1319747928546786\n",
      "curr step:6500, loss: 0.12669836755124814\n",
      "curr step:7000, loss: 0.12207666382355441\n",
      "curr step:7500, loss: 0.11799187800454584\n",
      "curr step:8000, loss: 0.11435311596116937\n",
      "curr step:8500, loss: 0.1110890927415402\n",
      "curr step:9000, loss: 0.10814309124810613\n",
      "curr step:9500, loss: 0.10546940366789448\n"
     ]
    },
    {
     "data": {
      "text/plain": [
       "LogisticRegression()"
      ]
     },
     "execution_count": 35,
     "metadata": {},
     "output_type": "execute_result"
    }
   ],
   "source": [
    "# 模型训练\n",
    "log_reg = LogisticRegression()\n",
    "log_reg.fit(X_train, y_train)"
   ]
  },
  {
   "cell_type": "markdown",
   "metadata": {},
   "source": [
    "绘制loss训练曲线"
   ]
  },
  {
   "cell_type": "code",
   "execution_count": 36,
   "metadata": {},
   "outputs": [
    {
     "data": {
      "image/png": "[encoded data removed]",
      "text/plain": [
       "<Figure size 432x288 with 1 Axes>"
      ]
     },
     "metadata": {
      "needs_background": "light"
     },
     "output_type": "display_data"
    }
   ],
   "source": [
    "plt.plot(np.arange(0, 10000), log_reg._losses)\n",
    "plt.show()"
   ]
  },
  {
   "cell_type": "markdown",
   "metadata": {},
   "source": [
    "使用测试集预测及计算分类准确度"
   ]
  },
  {
   "cell_type": "code",
   "execution_count": 41,
   "metadata": {},
   "outputs": [
    {
     "name": "stdout",
     "output_type": "stream",
     "text": [
      "1.0\n"
     ]
    }
   ],
   "source": [
    "acc = log_reg.score(X_test, y_test)\n",
    "print(acc)"
   ]
  },
  {
   "cell_type": "markdown",
   "metadata": {},
   "source": [
    "绘制二分类决策边界"
   ]
  },
  {
   "cell_type": "code",
   "execution_count": 44,
   "metadata": {},
   "outputs": [
    {
     "data": {
      "image/png": "[encoded data removed]",
      "text/plain": [
       "<Figure size 432x288 with 1 Axes>"
      ]
     },
     "metadata": {
      "needs_background": "light"
     },
     "output_type": "display_data"
    }
   ],
   "source": [
    "# 绘制分类决策边界  \n",
    "\n",
    "def plot_decision_boundary(model, axis):\n",
    "    \n",
    "    x0, x1 = np.meshgrid(\n",
    "        np.linspace(axis[0], axis[1], int((axis[1]-axis[0])*100)).reshape(-1, 1),\n",
    "        np.linspace(axis[2], axis[3], int((axis[3]-axis[2])*100)).reshape(-1, 1),\n",
    "    )\n",
    "    X_new = np.c_[x0.ravel(), x1.ravel()]\n",
    "\n",
    "    y_predict = model.predict(X_new)\n",
    "    zz = y_predict.reshape(x0.shape)\n",
    "\n",
    "    from matplotlib.colors import ListedColormap\n",
    "    custom_cmap = ListedColormap(['#EF9A9A','#FFF59D','#90CAF9'])\n",
    "    \n",
    "    plt.contourf(x0, x1, zz, linewidth=5, cmap=custom_cmap)\n",
    "    \n",
    "plot_decision_boundary(log_reg, axis=[4, 7.5, 1.5, 4.5])\n",
    "plt.scatter(X[y==0,0], X[y==0,1])\n",
    "plt.scatter(X[y==1,0], X[y==1,1])\n",
    "plt.show()"
   ]
  },
  {
   "cell_type": "markdown",
   "metadata": {},
   "source": [
    "## 使用sklearn中的逻辑回归实现多分类(OvR)"
   ]
  },
  {
   "cell_type": "code",
   "execution_count": 46,
   "metadata": {},
   "outputs": [
    {
     "name": "stdout",
     "output_type": "stream",
     "text": [
      "(150, 2) (150,)\n"
     ]
    }
   ],
   "source": [
    "# 使用全部数据\n",
    "iris = datasets.load_iris()\n",
    "X = iris.data[:, :2]\n",
    "y = iris.target\n",
    "\n",
    "print(X.shape, y.shape)"
   ]
  },
  {
   "cell_type": "code",
   "execution_count": 47,
   "metadata": {},
   "outputs": [
    {
     "data": {
      "text/plain": [
       "LogisticRegression(C=1.0, class_weight=None, dual=False, fit_intercept=True,\n",
       "          intercept_scaling=1, max_iter=100, multi_class='warn',\n",
       "          n_jobs=None, penalty='l2', random_state=None, solver='warn',\n",
       "          tol=0.0001, verbose=0, warm_start=False)"
      ]
     },
     "execution_count": 47,
     "metadata": {},
     "output_type": "execute_result"
    }
   ],
   "source": [
    "from sklearn.linear_model import LogisticRegression\n",
    "\n",
    "log_reg_all = LogisticRegression()\n",
    "log_reg_all.fit(X, y)"
   ]
  },
  {
   "cell_type": "markdown",
   "metadata": {},
   "source": [
    "绘制分类决策边界"
   ]
  },
  {
   "cell_type": "code",
   "execution_count": 50,
   "metadata": {},
   "outputs": [
    {
     "data": {
      "image/png": "[encoded data removed]",
      "text/plain": [
       "<Figure size 432x288 with 1 Axes>"
      ]
     },
     "metadata": {
      "needs_background": "light"
     },
     "output_type": "display_data"
    }
   ],
   "source": [
    "plot_decision_boundary(log_reg_all, axis=[4, 8.5, 1.5, 5.0])\n",
    "plt.scatter(X[y==0,0], X[y==0,1])\n",
    "plt.scatter(X[y==1,0], X[y==1,1])\n",
    "plt.scatter(X[y==2,0], X[y==1,1])\n",
    "plt.show()"
   ]
  }
 ],
 "metadata": {
  "kernelspec": {
   "display_name": "Python [default]",
   "language": "python",
   "name": "python3"
  },
  "language_info": {
   "codemirror_mode": {
    "name": "ipython",
    "version": 3
   },
   "file_extension": ".py",
   "mimetype": "text/x-python",
   "name": "python",
   "nbconvert_exporter": "python",
   "pygments_lexer": "ipython3",
   "version": "3.6.2"
  }
 },
 "nbformat": 4,
 "nbformat_minor": 2
}
