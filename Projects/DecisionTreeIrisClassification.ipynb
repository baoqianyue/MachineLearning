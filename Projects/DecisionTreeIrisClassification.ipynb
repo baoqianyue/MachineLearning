{
 "cells": [
  {
   "cell_type": "markdown",
   "metadata": {},
   "source": [
    "# 决策树实现鸢尾花分类    \n",
    "## 1607104130 鲍骞月"
   ]
  },
  {
   "cell_type": "markdown",
   "metadata": {},
   "source": [
    "### 作业内容：   \n",
    "\n",
    "* 自己实现ID3方式建树\n",
    "    * 1.加载数据,数据可视化   \n",
    "    * 2.数据切分\n",
    "    * 3.实现决策树类   \n",
    "    * 4.模型训练   \n",
    "    * 5.模型评估,计算测试集分类准确度     \n",
    "* 使用sklearn中的CART方式建树   \n",
    "    * 1.加载数据   \n",
    "    * 2.特征选取   \n",
    "    * 3.模型训练   \n",
    "    * 4.模型评估，绘制分类决策边界   "
   ]
  },
  {
   "cell_type": "markdown",
   "metadata": {},
   "source": [
    "### 1.自己实现ID3方式建树   "
   ]
  },
  {
   "cell_type": "markdown",
   "metadata": {},
   "source": [
    "#### 1.1 加载数据，数据可视化"
   ]
  },
  {
   "cell_type": "code",
   "execution_count": 2,
   "metadata": {},
   "outputs": [],
   "source": [
    "import numpy as np\n",
    "import pandas as pd\n",
    "import matplotlib.pyplot as plt\n",
    "from sklearn import datasets\n",
    "from collections import Counter\n",
    "from math import log"
   ]
  },
  {
   "cell_type": "code",
   "execution_count": 52,
   "metadata": {},
   "outputs": [],
   "source": [
    "# 加载数据\n",
    "iris = datasets.load_iris()\n",
    "X = iris.data\n",
    "X_s = iris.data[:, :2]\n",
    "y_s = iris.target\n",
    "y = iris.target.copy()"
   ]
  },
  {
   "cell_type": "code",
   "execution_count": 53,
   "metadata": {},
   "outputs": [
    {
     "data": {
      "image/png": "[encoded data removed]",
      "text/plain": [
       "<Figure size 432x288 with 1 Axes>"
      ]
     },
     "metadata": {},
     "output_type": "display_data"
    }
   ],
   "source": [
    "# 绘制数据分布情况   \n",
    "plt.scatter(X_s[y_s==0,0], X_s[y_s==0,1])\n",
    "plt.scatter(X_s[y_s==1,0], X_s[y_s==1,1])\n",
    "plt.scatter(X_s[y_s==2,0], X_s[y_s==1,1])\n",
    "plt.show()"
   ]
  },
  {
   "cell_type": "markdown",
   "metadata": {},
   "source": [
    "#### 1.2 数据切分，并生成一个DataFrame"
   ]
  },
  {
   "cell_type": "code",
   "execution_count": 122,
   "metadata": {},
   "outputs": [
    {
     "name": "stdout",
     "output_type": "stream",
     "text": [
      "(112, 4) (112,) (38, 4) (38,)\n"
     ]
    }
   ],
   "source": [
    "from sklearn.model_selection import train_test_split\n",
    "\n",
    "X_train, X_test, y_train, y_test = train_test_split(X, y, random_state=777)\n",
    "print(X_train.shape, y_train.shape, X_test.shape, y_test.shape)"
   ]
  },
  {
   "cell_type": "code",
   "execution_count": 56,
   "metadata": {},
   "outputs": [
    {
     "data": {
      "text/html": [
       "<div>\n",
       "<style scoped>\n",
       "    .dataframe tbody tr th:only-of-type {\n",
       "        vertical-align: middle;\n",
       "    }\n",
       "\n",
       "    .dataframe tbody tr th {\n",
       "        vertical-align: top;\n",
       "    }\n",
       "\n",
       "    .dataframe thead th {\n",
       "        text-align: right;\n",
       "    }\n",
       "</style>\n",
       "<table border=\"1\" class=\"dataframe\">\n",
       "  <thead>\n",
       "    <tr style=\"text-align: right;\">\n",
       "      <th></th>\n",
       "      <th>sepal length (cm)</th>\n",
       "      <th>sepal width (cm)</th>\n",
       "      <th>petal length (cm)</th>\n",
       "      <th>petal width (cm)</th>\n",
       "      <th>label</th>\n",
       "    </tr>\n",
       "  </thead>\n",
       "  <tbody>\n",
       "    <tr>\n",
       "      <th>0</th>\n",
       "      <td>4.9</td>\n",
       "      <td>2.4</td>\n",
       "      <td>3.3</td>\n",
       "      <td>1.0</td>\n",
       "      <td>1.0</td>\n",
       "    </tr>\n",
       "    <tr>\n",
       "      <th>1</th>\n",
       "      <td>4.6</td>\n",
       "      <td>3.4</td>\n",
       "      <td>1.4</td>\n",
       "      <td>0.3</td>\n",
       "      <td>0.0</td>\n",
       "    </tr>\n",
       "    <tr>\n",
       "      <th>2</th>\n",
       "      <td>4.4</td>\n",
       "      <td>3.2</td>\n",
       "      <td>1.3</td>\n",
       "      <td>0.2</td>\n",
       "      <td>0.0</td>\n",
       "    </tr>\n",
       "    <tr>\n",
       "      <th>3</th>\n",
       "      <td>6.3</td>\n",
       "      <td>2.7</td>\n",
       "      <td>4.9</td>\n",
       "      <td>1.8</td>\n",
       "      <td>2.0</td>\n",
       "    </tr>\n",
       "    <tr>\n",
       "      <th>4</th>\n",
       "      <td>5.5</td>\n",
       "      <td>2.6</td>\n",
       "      <td>4.4</td>\n",
       "      <td>1.2</td>\n",
       "      <td>1.0</td>\n",
       "    </tr>\n",
       "  </tbody>\n",
       "</table>\n",
       "</div>"
      ],
      "text/plain": [
       "   sepal length (cm)  sepal width (cm)  petal length (cm)  petal width (cm)  \\\n",
       "0                4.9               2.4                3.3               1.0   \n",
       "1                4.6               3.4                1.4               0.3   \n",
       "2                4.4               3.2                1.3               0.2   \n",
       "3                6.3               2.7                4.9               1.8   \n",
       "4                5.5               2.6                4.4               1.2   \n",
       "\n",
       "   label  \n",
       "0    1.0  \n",
       "1    0.0  \n",
       "2    0.0  \n",
       "3    2.0  \n",
       "4    1.0  "
      ]
     },
     "execution_count": 56,
     "metadata": {},
     "output_type": "execute_result"
    }
   ],
   "source": [
    "# 生成一个训练用的dataframe\n",
    "features = iris.feature_names\n",
    "y_train = np.reshape(y_train, (len(y_train), 1))\n",
    "df = np.hstack((X_train, y_train))\n",
    "labels = [i for i in features]\n",
    "labels.append('label')\n",
    "train_data = pd.DataFrame(df, columns=labels)\n",
    "train_data.head()"
   ]
  },
  {
   "cell_type": "markdown",
   "metadata": {},
   "source": [
    "#### 1.3 实现决策树类       \n",
    "使用ID3算法生成    "
   ]
  },
  {
   "cell_type": "code",
   "execution_count": 139,
   "metadata": {},
   "outputs": [],
   "source": [
    "class Node:\n",
    "    def __init__(self, root=True, label=None, feature_name=None, feature=None):\n",
    "        self.root = root\n",
    "        self.label = label\n",
    "        self.feature_name = feature_name\n",
    "        self.feature = feature\n",
    "        self.tree = {}\n",
    "        self.result = {'label:': self.label, 'feature': self.feature, 'tree': self.tree}\n",
    "\n",
    "    def __repr__(self):\n",
    "        return self.result\n",
    "    \n",
    "    def insert_node(self, value, node):\n",
    "        self.tree[value] = node\n",
    "    \n",
    "    def predict(self, features):\n",
    "        if self.root is True:\n",
    "            return self.label\n",
    "        return self.tree[features[self.feature]].predict(features)\n",
    "    \n",
    "class DecisionTree:\n",
    "    def __init__(self, epsilon=0.1):\n",
    "        self._tree = {}\n",
    "        self.epsilon = epsilon\n",
    "    \n",
    "    # 计算信息熵\n",
    "    @staticmethod\n",
    "    def entropy(data):\n",
    "        data_length = len(data)\n",
    "        label_count = {}\n",
    "        # 首先统计数据分类情况，然后计算信息熵\n",
    "        for i in range(data_length):\n",
    "            label = data[i][-1]\n",
    "            if label not in label_count:\n",
    "                label_count[label] = 0\n",
    "            label_count[label] += 1\n",
    "        ent = -sum([(p/data_length)*log(p/data_length, 2) for p in label_count.values()])\n",
    "        return ent\n",
    "    \n",
    "    # 计算经验条件熵\n",
    "    def condition_entropy(self, data, axis=0):\n",
    "        \"\"\"\n",
    "        给定一个特征，计算此时的经验条件熵\n",
    "        axis就是给定的特征对应的index\n",
    "        \"\"\"\n",
    "        data_length = len(data)\n",
    "        features = {}\n",
    "        for i in range(data_length):\n",
    "            feature = data[i][axis]\n",
    "            if feature not in features:\n",
    "                features[feature] = []\n",
    "            features[feature].append(data[i])\n",
    "        condition_ent = sum([(len(p)/data_length)*self.entropy(p) for p in features.values()])\n",
    "        return condition_ent\n",
    "    \n",
    "    # 计算信息增益 \n",
    "    @staticmethod\n",
    "    def gain(entropy, condition_entropy):\n",
    "        return entropy - condition_entropy\n",
    "    \n",
    "    # 计算最大的信息增益对应的特征\n",
    "    def best_gain(self, data):\n",
    "        count = len(data[0]) - 1\n",
    "        entropy_val = self.entropy(data)\n",
    "        best_feature = []\n",
    "        for i in range(count):\n",
    "            i_gain = self.gain(entropy_val, self.condition_entropy(data, axis=i))\n",
    "            best_feature.append((i, i_gain))\n",
    "        # 比较大小\n",
    "        best_index = max(best_feature, key=lambda x : x[-1])\n",
    "        return best_index\n",
    "    \n",
    "    # 训练\n",
    "    def train(self, train_data):\n",
    "        _, y_train, features = train_data.iloc[:, :-1], train_data.iloc[:, -1], train_data.columns[:-1]\n",
    "        # 第一步，先判断当前数据集D是否都属于同一类，如果是，表示为单节点树，直接返回当前结点\n",
    "        # value_count()可以返回种类计数\n",
    "        if len(y_train.value_counts()) == 1:\n",
    "            return Node(root=True, label=y_train.iloc[0])\n",
    "        # 第二步，如果特征集为空，则当前为单节点树，将D中最多的类别作为该节点的类标记，返回\n",
    "        if len(features) == 0:\n",
    "            return Node(root=True, label=y_train.value_counts().sort_values(ascending=False).index[0])\n",
    "        # 第三步，计算得到最大的信息增益对应的特征\n",
    "        max_feature, max_gain = self.best_gain(np.array(train_data))\n",
    "        max_feature_name = features[max_feature]\n",
    "        \n",
    "        # 第四步，如果当前的信息增益小于阈值，就进行树的划分，并将当前数据集中最大的类别作为类标记，返回树\n",
    "        if max_gain < self.epsilon:\n",
    "            return Node(root=True, label=y_train.value_counts().sort_values(ascending=False).index[0])\n",
    "        # 第五步,构建子树\n",
    "        tree = Node(root=False, feature_name=max_feature_name, feature=max_feature)\n",
    "        feature_list = train_data[max_feature_name].value_counts().index\n",
    "        \n",
    "        for f in feature_list:\n",
    "            sub_train_data = train_data.loc[train_data[max_feature_name] == f].drop([max_feature_name], axis=1)\n",
    "            # 递归生成树\n",
    "            sub_tree = self.train(sub_train_data)\n",
    "            tree.insert_node(f, sub_tree)\n",
    "            \n",
    "        return tree\n",
    "    \n",
    "    def fit(self, train_data):\n",
    "        self._tree = self.train(train_data)\n",
    "        return self._tree\n",
    "    \n",
    "    def predict(self, X_test):\n",
    "        return self._tree.predict(X_test)"
   ]
  },
  {
   "cell_type": "markdown",
   "metadata": {},
   "source": [
    "#### 1.4 模型训练 "
   ]
  },
  {
   "cell_type": "code",
   "execution_count": 140,
   "metadata": {},
   "outputs": [],
   "source": [
    "dt = DecisionTree()\n",
    "tree = dt.fit(train_data)"
   ]
  },
  {
   "cell_type": "markdown",
   "metadata": {},
   "source": [
    "#### 1.5 模型评估，计算测试集上的分类准确度"
   ]
  },
  {
   "cell_type": "code",
   "execution_count": 141,
   "metadata": {},
   "outputs": [
    {
     "name": "stdout",
     "output_type": "stream",
     "text": [
      "[0, 3, 10, 13, 14, 17, 22, 30, 34]\n",
      "[0 2 1 0 2 2 0 0 1 1 2 0 0 1 1 2 0 2 0 2 0 2 2 2 0 2 0 0 0]\n",
      "测试集分类准确度为： 0.9310344827586207\n"
     ]
    }
   ],
   "source": [
    "from sklearn.metrics import accuracy_score\n",
    "\n",
    "y_predicts = []\n",
    "drop_index = []\n",
    "for i in np.arange(len(X_test)):\n",
    "    try:\n",
    "        y_predict = dt.predict(X_test[i])\n",
    "        y_predicts.append(y_predict)\n",
    "    except KeyError:\n",
    "        # 将对应真实标签序列中的值删去\n",
    "        drop_index.append(i)\n",
    "print(drop_index)\n",
    "y_test_new = np.delete(y_test, drop_index, axis=0)\n",
    "print(np.array(y_predicts, dtype='int'))\n",
    "\n",
    "print('测试集分类准确度为：', accuracy_score(y_test_new, y_predicts))"
   ]
  },
  {
   "cell_type": "markdown",
   "metadata": {},
   "source": [
    "### 2.使用sklearn中的CART方式建树"
   ]
  },
  {
   "cell_type": "markdown",
   "metadata": {},
   "source": [
    "#### 2.1 重新加载数据 "
   ]
  },
  {
   "cell_type": "code",
   "execution_count": 159,
   "metadata": {},
   "outputs": [
    {
     "name": "stdout",
     "output_type": "stream",
     "text": [
      "(150, 4) (150,)\n"
     ]
    }
   ],
   "source": [
    "iris = datasets.load_iris()\n",
    "\n",
    "X = iris.data\n",
    "y = iris.target\n",
    "print(X.shape, y.shape)"
   ]
  },
  {
   "cell_type": "markdown",
   "metadata": {},
   "source": [
    "#### 2.2 为了方便绘制分类后的决策边界，这里只取两个特征"
   ]
  },
  {
   "cell_type": "code",
   "execution_count": 160,
   "metadata": {},
   "outputs": [
    {
     "name": "stdout",
     "output_type": "stream",
     "text": [
      "(150, 2) (150,)\n"
     ]
    }
   ],
   "source": [
    "X = X[:, 2:]\n",
    "print(X.shape, y.shape)"
   ]
  },
  {
   "cell_type": "markdown",
   "metadata": {},
   "source": [
    "#### 2.3 模型训练"
   ]
  },
  {
   "cell_type": "code",
   "execution_count": 161,
   "metadata": {},
   "outputs": [
    {
     "data": {
      "text/plain": [
       "DecisionTreeClassifier(class_weight=None, criterion='gini', max_depth=None,\n",
       "            max_features=None, max_leaf_nodes=None,\n",
       "            min_impurity_decrease=0.0, min_impurity_split=None,\n",
       "            min_samples_leaf=1, min_samples_split=2,\n",
       "            min_weight_fraction_leaf=0.0, presort=False, random_state=None,\n",
       "            splitter='best')"
      ]
     },
     "execution_count": 161,
     "metadata": {},
     "output_type": "execute_result"
    }
   ],
   "source": [
    "from sklearn.tree import DecisionTreeClassifier\n",
    "\n",
    "# 这里传入gini作为评价指标，使用CART方式构建树\n",
    "dt_clf = DecisionTreeClassifier(criterion='gini')\n",
    "dt_clf.fit(X, y)"
   ]
  },
  {
   "cell_type": "markdown",
   "metadata": {},
   "source": [
    "#### 4.模型评估，绘制分类决策边界"
   ]
  },
  {
   "cell_type": "code",
   "execution_count": 162,
   "metadata": {},
   "outputs": [
    {
     "name": "stderr",
     "output_type": "stream",
     "text": [
      "d:\\anaconda3\\lib\\site-packages\\matplotlib\\contour.py:960: UserWarning: The following kwargs were not used by contour: 'linewidth'\n",
      "  s)\n"
     ]
    },
    {
     "data": {
      "image/png": "[encoded data removed]",
      "text/plain": [
       "<Figure size 432x288 with 1 Axes>"
      ]
     },
     "metadata": {},
     "output_type": "display_data"
    }
   ],
   "source": [
    "# 绘制分类决策边界  \n",
    "\n",
    "def plot_decision_boundary(model, axis):\n",
    "    \n",
    "    x0, x1 = np.meshgrid(\n",
    "        np.linspace(axis[0], axis[1], int((axis[1]-axis[0])*100)).reshape(-1, 1),\n",
    "        np.linspace(axis[2], axis[3], int((axis[3]-axis[2])*100)).reshape(-1, 1),\n",
    "    )\n",
    "    X_new = np.c_[x0.ravel(), x1.ravel()]\n",
    "\n",
    "    y_predict = model.predict(X_new)\n",
    "    zz = y_predict.reshape(x0.shape)\n",
    "\n",
    "    from matplotlib.colors import ListedColormap\n",
    "    custom_cmap = ListedColormap(['#EF9A9A','#FFF59D','#90CAF9'])\n",
    "    \n",
    "    plt.contourf(x0, x1, zz, linewidth=5, cmap=custom_cmap)\n",
    "    \n",
    "plot_decision_boundary(dt_clf, [0.5, 7.5, 0, 3])\n",
    "plt.scatter(X[y==0, 0], X[y==0, 1])\n",
    "plt.scatter(X[y==1, 0], X[y==1, 1])\n",
    "plt.scatter(X[y==2, 0], X[y==2, 1])\n",
    "plt.show()"
   ]
  },
  {
   "cell_type": "markdown",
   "metadata": {},
   "source": [
    "从上图中可以看出决策树可以大致的进行数据分类，但是上图中黄色部分的边界明显发生了过拟合，可以通过剪枝来减少过拟合的程度"
   ]
  }
 ],
 "metadata": {
  "kernelspec": {
   "display_name": "Python [default]",
   "language": "python",
   "name": "python3"
  },
  "language_info": {
   "codemirror_mode": {
    "name": "ipython",
    "version": 3
   },
   "file_extension": ".py",
   "mimetype": "text/x-python",
   "name": "python",
   "nbconvert_exporter": "python",
   "pygments_lexer": "ipython3",
   "version": "3.6.2"
  }
 },
 "nbformat": 4,
 "nbformat_minor": 2
}
