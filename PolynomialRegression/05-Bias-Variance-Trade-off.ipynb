{
 "cells": [
  {
   "cell_type": "markdown",
   "metadata": {},
   "source": [
    "## 偏差方差平衡 "
   ]
  },
  {
   "cell_type": "markdown",
   "metadata": {},
   "source": [
    "![bias](./img/bias.png)"
   ]
  },
  {
   "cell_type": "markdown",
   "metadata": {},
   "source": [
    "上图中我们将靶子准星看成是我们的模型要预测的内容，蓝点为模型预测的结果   \n",
    "\n",
    "可以看出偏差指的是模型预测结果与实际内容的偏离程度   \n",
    "\n",
    "方差指的是某个模型预测结果的分散程度   "
   ]
  },
  {
   "cell_type": "markdown",
   "metadata": {},
   "source": [
    "### 造成偏差的原因(Bias)\n",
    "\n",
    "* 对问题本身的假设就不正确，比如对一个分线性的数据集使用了线性回归进行拟合   \n",
    "* 或者对于某个问题的解决，使用了一个完全不相关的特征   \n",
    "* 偏差较大就会造成欠拟合Underfitting   "
   ]
  },
  {
   "cell_type": "markdown",
   "metadata": {},
   "source": [
    "### 造成方差的原因(Variance)\n",
    "\n",
    "* 方差较大表现为模型预测结果较为分散   \n",
    "* 理解为模型并没有学到这个问题的实质，只是学到了数据集上本身的噪音   \n",
    "* 数据的一点点扰动都会较大的影响模型   \n",
    "* 通常原因是我们使用的模型较为复杂，比如高阶的多项式回归  \n",
    "* 方差较大就会造成过拟合Overfitting  "
   ]
  },
  {
   "cell_type": "markdown",
   "metadata": {},
   "source": [
    "### 相关算法的偏差和方差特性 \n",
    "\n",
    "* 有些算法的本质就会引入较高的方差，比如kNN，kNN算法很大程度上依赖于训练数据集的正确性，对数据集本身特别敏感，并没有决定性的参数     \n",
    "* 非参数学习通常都是高方差算法，因为这种算法不对数据进行仍和假设，对数据较为敏感    \n",
    "\n",
    "* 有些算法的本质就会引入较高的偏差，比如线性回归，如果我们把一个并没有线性关系的问题使用线性回归去拟合，必然会造成较大的偏差    \n",
    "* 参数学习通常都是高偏差算法，因为这种算法我们不知不觉的就对数据或者问题的结果进行了假设，如果假设错误就会带来较大的偏差    "
   ]
  },
  {
   "cell_type": "markdown",
   "metadata": {},
   "source": [
    "## 方差   \n",
    "\n",
    "机器学习的主要挑战，来自于方差   \n",
    "\n",
    "解决高方差的手段：  \n",
    "\n",
    "* 降低模型的复杂度   \n",
    "    如果使用多项式回归，degree值取100，很显然模型会过拟合，会完全记住数据集的特征，就会带来较大方差   \n",
    "    这时我们就要降低degree值，减小模型的复杂度   \n",
    "* 减少数据维度，降噪   \n",
    "    方差较大有可能是因为模型学习了太多数据集上的噪音信息，所以可以通过PCA减少数据维度，消除噪音   \n",
    "* 增加样本数  \n",
    "    如果我们的模型非常复杂，拥有非常多的参数，但是如果训练集规模不够大，那小的样本数是难以训练出非常多的参数的   \n",
    "    比如深度学习对训练数据集的规模要求就非常大    \n",
    "* 使用验证集   \n",
    "    如果我们单纯的使用train_test_split，来训练和评估模型，有可能会使模型在测试集上过拟合，这时引入验证集来解决这一问题   \n",
    "* 模型正则化   "
   ]
  }
 ],
 "metadata": {
  "kernelspec": {
   "display_name": "Python 3",
   "language": "python",
   "name": "python3"
  },
  "language_info": {
   "codemirror_mode": {
    "name": "ipython",
    "version": 3
   },
   "file_extension": ".py",
   "mimetype": "text/x-python",
   "name": "python",
   "nbconvert_exporter": "python",
   "pygments_lexer": "ipython3",
   "version": "3.7.2"
  }
 },
 "nbformat": 4,
 "nbformat_minor": 2
}
