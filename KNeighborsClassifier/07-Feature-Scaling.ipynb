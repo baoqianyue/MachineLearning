{
 "cells": [
  {
   "cell_type": "markdown",
   "metadata": {},
   "source": [
    "# 归一化处理"
   ]
  },
  {
   "cell_type": "markdown",
   "metadata": {},
   "source": [
    "### 数据归一化      \n",
    "将所有的数据映射到同一尺度   "
   ]
  },
  {
   "cell_type": "markdown",
   "metadata": {},
   "source": [
    "### 最值归一化 normalization"
   ]
  },
  {
   "cell_type": "markdown",
   "metadata": {},
   "source": [
    "$$x_{scale} = \\frac{x - x_{min}}{x_{max} - x_{min}}$$"
   ]
  },
  {
   "cell_type": "markdown",
   "metadata": {},
   "source": [
    "这种归一化形式适用于分布有明显的边界标准，比如图像的灰度值范围就是0~255。\n",
    "受outlier影响较大，受极端值影响大"
   ]
  },
  {
   "cell_type": "markdown",
   "metadata": {},
   "source": [
    "### 均值方差归一化 standardization"
   ]
  },
  {
   "cell_type": "markdown",
   "metadata": {},
   "source": [
    "$$x_{scale} = \\frac{x - x_{mean}}{S}$$"
   ]
  },
  {
   "cell_type": "markdown",
   "metadata": {},
   "source": [
    "* 数据分布没有明显的边界     \n",
    "* 有可能存在极端数据值     \n",
    "* 把所有数据归一到均值为0方差为1的分布中    "
   ]
  },
  {
   "cell_type": "code",
   "execution_count": 1,
   "metadata": {},
   "outputs": [],
   "source": [
    "import numpy as np\n",
    "import matplotlib.pyplot as plt"
   ]
  },
  {
   "cell_type": "markdown",
   "metadata": {},
   "source": [
    "### 实现最值归一化"
   ]
  },
  {
   "cell_type": "markdown",
   "metadata": {},
   "source": [
    "实现对一维向量的最值归一化"
   ]
  },
  {
   "cell_type": "code",
   "execution_count": 2,
   "metadata": {},
   "outputs": [],
   "source": [
    "x = np.random.randint(0, 100, size = 100)"
   ]
  },
  {
   "cell_type": "code",
   "execution_count": 3,
   "metadata": {},
   "outputs": [
    {
     "data": {
      "text/plain": [
       "array([70, 35, 36, 75, 97, 53, 39, 89, 29,  7, 93, 15, 23, 60, 75, 79,  4,\n",
       "        4, 36,  1, 13, 63, 41, 86, 28, 76, 88, 54, 44, 36, 36, 14, 89, 27,\n",
       "       56, 13, 28, 93, 24, 95, 11, 51,  2, 35, 84,  1, 54, 49, 20, 38, 71,\n",
       "       95, 79, 59,  3, 91,  9, 16, 81, 47, 31, 90, 13, 13,  8, 70, 49, 47,\n",
       "       79, 21, 46, 31, 41, 52,  7, 56, 97, 48,  8, 98, 88, 42, 90, 23, 50,\n",
       "       75, 48, 45, 45,  4, 75, 74, 98, 20, 39, 48, 55, 20, 91, 96])"
      ]
     },
     "execution_count": 3,
     "metadata": {},
     "output_type": "execute_result"
    }
   ],
   "source": [
    "x"
   ]
  },
  {
   "cell_type": "code",
   "execution_count": 4,
   "metadata": {},
   "outputs": [
    {
     "data": {
      "text/plain": [
       "array([0.71134021, 0.35051546, 0.36082474, 0.7628866 , 0.98969072,\n",
       "       0.53608247, 0.39175258, 0.90721649, 0.28865979, 0.06185567,\n",
       "       0.94845361, 0.1443299 , 0.22680412, 0.60824742, 0.7628866 ,\n",
       "       0.80412371, 0.03092784, 0.03092784, 0.36082474, 0.        ,\n",
       "       0.12371134, 0.63917526, 0.41237113, 0.87628866, 0.27835052,\n",
       "       0.77319588, 0.89690722, 0.54639175, 0.44329897, 0.36082474,\n",
       "       0.36082474, 0.13402062, 0.90721649, 0.26804124, 0.56701031,\n",
       "       0.12371134, 0.27835052, 0.94845361, 0.2371134 , 0.96907216,\n",
       "       0.10309278, 0.51546392, 0.01030928, 0.35051546, 0.8556701 ,\n",
       "       0.        , 0.54639175, 0.49484536, 0.19587629, 0.3814433 ,\n",
       "       0.72164948, 0.96907216, 0.80412371, 0.59793814, 0.02061856,\n",
       "       0.92783505, 0.08247423, 0.15463918, 0.82474227, 0.4742268 ,\n",
       "       0.30927835, 0.91752577, 0.12371134, 0.12371134, 0.07216495,\n",
       "       0.71134021, 0.49484536, 0.4742268 , 0.80412371, 0.20618557,\n",
       "       0.46391753, 0.30927835, 0.41237113, 0.5257732 , 0.06185567,\n",
       "       0.56701031, 0.98969072, 0.48453608, 0.07216495, 1.        ,\n",
       "       0.89690722, 0.42268041, 0.91752577, 0.22680412, 0.50515464,\n",
       "       0.7628866 , 0.48453608, 0.45360825, 0.45360825, 0.03092784,\n",
       "       0.7628866 , 0.75257732, 1.        , 0.19587629, 0.39175258,\n",
       "       0.48453608, 0.55670103, 0.19587629, 0.92783505, 0.97938144])"
      ]
     },
     "execution_count": 4,
     "metadata": {},
     "output_type": "execute_result"
    }
   ],
   "source": [
    "(x - np.min(x)) / (np.max(x) - np.min(x))"
   ]
  },
  {
   "cell_type": "markdown",
   "metadata": {},
   "source": [
    "实现对矩阵的最值归一化"
   ]
  },
  {
   "cell_type": "code",
   "execution_count": 6,
   "metadata": {},
   "outputs": [
    {
     "data": {
      "text/plain": [
       "array([[37, 40],\n",
       "       [21, 39],\n",
       "       [32, 79],\n",
       "       [74, 77],\n",
       "       [79,  9],\n",
       "       [46, 92],\n",
       "       [51, 84],\n",
       "       [87, 26],\n",
       "       [24, 95],\n",
       "       [ 2, 93]])"
      ]
     },
     "execution_count": 6,
     "metadata": {},
     "output_type": "execute_result"
    }
   ],
   "source": [
    "X = np.random.randint(0, 100, size = (50,2))\n",
    "X[:10,:]"
   ]
  },
  {
   "cell_type": "markdown",
   "metadata": {},
   "source": [
    "将矩阵中的数据类型转换为浮点数"
   ]
  },
  {
   "cell_type": "code",
   "execution_count": 7,
   "metadata": {},
   "outputs": [],
   "source": [
    "X = np.array(X, dtype=float)"
   ]
  },
  {
   "cell_type": "code",
   "execution_count": 9,
   "metadata": {},
   "outputs": [
    {
     "data": {
      "text/plain": [
       "array([[37., 40.],\n",
       "       [21., 39.],\n",
       "       [32., 79.],\n",
       "       [74., 77.],\n",
       "       [79.,  9.],\n",
       "       [46., 92.],\n",
       "       [51., 84.],\n",
       "       [87., 26.],\n",
       "       [24., 95.],\n",
       "       [ 2., 93.]])"
      ]
     },
     "execution_count": 9,
     "metadata": {},
     "output_type": "execute_result"
    }
   ],
   "source": [
    "X[:10,:]"
   ]
  },
  {
   "cell_type": "markdown",
   "metadata": {},
   "source": [
    "对矩阵的每一个维度进行最值归一化"
   ]
  },
  {
   "cell_type": "code",
   "execution_count": 10,
   "metadata": {},
   "outputs": [],
   "source": [
    "#第一个维度也就是矩阵中的第一列\n",
    "X[:,0] = (X[:,0] - np.min(X[:,0])) / (np.max(X[:,0]) - np.min(X[:,0]))"
   ]
  },
  {
   "cell_type": "code",
   "execution_count": 11,
   "metadata": {},
   "outputs": [],
   "source": [
    "#第二个维度\n",
    "X[:,1] = (X[:,1] - np.min(X[:,1])) / (np.max(X[:,1]) - np.min(X[:,1]))"
   ]
  },
  {
   "cell_type": "code",
   "execution_count": 12,
   "metadata": {},
   "outputs": [
    {
     "data": {
      "text/plain": [
       "array([[0.37234043, 0.4040404 ],\n",
       "       [0.20212766, 0.39393939],\n",
       "       [0.31914894, 0.7979798 ],\n",
       "       [0.76595745, 0.77777778],\n",
       "       [0.81914894, 0.09090909],\n",
       "       [0.46808511, 0.92929293],\n",
       "       [0.5212766 , 0.84848485],\n",
       "       [0.90425532, 0.26262626],\n",
       "       [0.23404255, 0.95959596],\n",
       "       [0.        , 0.93939394]])"
      ]
     },
     "execution_count": 12,
     "metadata": {},
     "output_type": "execute_result"
    }
   ],
   "source": [
    "X[:10,:]"
   ]
  },
  {
   "cell_type": "code",
   "execution_count": 13,
   "metadata": {},
   "outputs": [
    {
     "data": {
      "image/png": "[encoded data removed]",
      "text/plain": [
       "<Figure size 432x288 with 1 Axes>"
      ]
     },
     "metadata": {},
     "output_type": "display_data"
    }
   ],
   "source": [
    "#绘制样本点\n",
    "plt.scatter(X[:,0],X[:,1])\n",
    "plt.show()"
   ]
  },
  {
   "cell_type": "markdown",
   "metadata": {},
   "source": [
    "输出最值归一化后数据的均值和方差"
   ]
  },
  {
   "cell_type": "code",
   "execution_count": 15,
   "metadata": {},
   "outputs": [
    {
     "name": "stdout",
     "output_type": "stream",
     "text": [
      "0.4629787234042553\n",
      "0.2827085576436651\n",
      "0.5187878787878788\n",
      "0.3106960368980405\n"
     ]
    }
   ],
   "source": [
    "print(np.mean(X[:,0]))\n",
    "print(np.std(X[:,0]))\n",
    "print(np.mean(X[:,1]))\n",
    "print(np.std(X[:,1]))"
   ]
  },
  {
   "cell_type": "markdown",
   "metadata": {},
   "source": [
    "## 实现均值方差归一化　　　　"
   ]
  },
  {
   "cell_type": "code",
   "execution_count": 17,
   "metadata": {},
   "outputs": [],
   "source": [
    "X2 = np.random.randint(0, 100, size=(50,2))\n",
    "X2 = np.array(X2, dtype=float)"
   ]
  },
  {
   "cell_type": "code",
   "execution_count": 20,
   "metadata": {},
   "outputs": [],
   "source": [
    "#对第一个维度进行均值反差归一化\n",
    "X2[:,0] = (X2[:,0] - np.mean(X2[:,0])) / np.std(X2[:,0])\n",
    "#对第二个维度进行归一化\n",
    "X2[:,1] = (X2[:,1] - np.mean(X2[:,1])) / np.std(X2[:,1])"
   ]
  },
  {
   "cell_type": "code",
   "execution_count": 21,
   "metadata": {},
   "outputs": [
    {
     "data": {
      "image/png": "[encoded data removed]",
      "text/plain": [
       "<Figure size 432x288 with 1 Axes>"
      ]
     },
     "metadata": {},
     "output_type": "display_data"
    }
   ],
   "source": [
    "plt.scatter(X2[:,0],X2[:,1])\n",
    "plt.show()"
   ]
  },
  {
   "cell_type": "markdown",
   "metadata": {},
   "source": [
    "输出均值方差归一化后数据的均值和方差\n",
    "均值应为０，方差应为１"
   ]
  },
  {
   "cell_type": "code",
   "execution_count": 22,
   "metadata": {},
   "outputs": [
    {
     "name": "stdout",
     "output_type": "stream",
     "text": [
      "-1.3322676295501878e-17\n",
      "1.0\n",
      "1.7763568394002505e-17\n",
      "1.0\n"
     ]
    }
   ],
   "source": [
    "print(np.mean(X2[:,0]))\n",
    "print(np.std(X2[:,0]))\n",
    "print(np.mean(X2[:,1]))\n",
    "print(np.std(X2[:,1]))"
   ]
  }
 ],
 "metadata": {
  "kernelspec": {
   "display_name": "Python 3",
   "language": "python",
   "name": "python3"
  },
  "language_info": {
   "codemirror_mode": {
    "name": "ipython",
    "version": 3
   },
   "file_extension": ".py",
   "mimetype": "text/x-python",
   "name": "python",
   "nbconvert_exporter": "python",
   "pygments_lexer": "ipython3",
   "version": "3.6.5"
  }
 },
 "nbformat": 4,
 "nbformat_minor": 2
}
