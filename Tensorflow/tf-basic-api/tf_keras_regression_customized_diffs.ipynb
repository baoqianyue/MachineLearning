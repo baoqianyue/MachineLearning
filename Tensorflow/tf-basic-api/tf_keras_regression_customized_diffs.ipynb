{
 "cells": [
  {
   "cell_type": "markdown",
   "metadata": {},
   "source": [
    "## 手动实现模型优化过程"
   ]
  },
  {
   "cell_type": "code",
   "execution_count": 1,
   "metadata": {},
   "outputs": [
    {
     "name": "stdout",
     "output_type": "stream",
     "text": [
      "2.0.0-alpha0\n",
      "sys.version_info(major=3, minor=6, micro=8, releaselevel='final', serial=0)\n",
      "matplotlib 3.1.0\n",
      "numpy 1.14.5\n",
      "pandas 0.24.2\n",
      "sklearn 0.21.2\n",
      "tensorflow 2.0.0-alpha0\n",
      "tensorflow.python.keras.api._v2.keras 2.2.4-tf\n"
     ]
    }
   ],
   "source": [
    "import matplotlib as mpl\n",
    "import matplotlib.pyplot as plt\n",
    "%matplotlib inline\n",
    "import numpy as np\n",
    "import sklearn\n",
    "import pandas as pd\n",
    "import os\n",
    "import sys\n",
    "import time\n",
    "import tensorflow as tf\n",
    "\n",
    "from tensorflow import keras\n",
    "\n",
    "print(tf.__version__)\n",
    "print(sys.version_info)\n",
    "for module in mpl, np, pd, sklearn, tf, keras:\n",
    "    print(module.__name__, module.__version__)"
   ]
  },
  {
   "cell_type": "code",
   "execution_count": 2,
   "metadata": {},
   "outputs": [
    {
     "name": "stdout",
     "output_type": "stream",
     "text": [
      ".. _california_housing_dataset:\n",
      "\n",
      "California Housing dataset\n",
      "--------------------------\n",
      "\n",
      "**Data Set Characteristics:**\n",
      "\n",
      "    :Number of Instances: 20640\n",
      "\n",
      "    :Number of Attributes: 8 numeric, predictive attributes and the target\n",
      "\n",
      "    :Attribute Information:\n",
      "        - MedInc        median income in block\n",
      "        - HouseAge      median house age in block\n",
      "        - AveRooms      average number of rooms\n",
      "        - AveBedrms     average number of bedrooms\n",
      "        - Population    block population\n",
      "        - AveOccup      average house occupancy\n",
      "        - Latitude      house block latitude\n",
      "        - Longitude     house block longitude\n",
      "\n",
      "    :Missing Attribute Values: None\n",
      "\n",
      "This dataset was obtained from the StatLib repository.\n",
      "http://lib.stat.cmu.edu/datasets/\n",
      "\n",
      "The target variable is the median house value for California districts.\n",
      "\n",
      "This dataset was derived from the 1990 U.S. census, using one row per census\n",
      "block group. A block group is the smallest geographical unit for which the U.S.\n",
      "Census Bureau publishes sample data (a block group typically has a population\n",
      "of 600 to 3,000 people).\n",
      "\n",
      "It can be downloaded/loaded using the\n",
      ":func:`sklearn.datasets.fetch_california_housing` function.\n",
      "\n",
      ".. topic:: References\n",
      "\n",
      "    - Pace, R. Kelley and Ronald Barry, Sparse Spatial Autoregressions,\n",
      "      Statistics and Probability Letters, 33 (1997) 291-297\n",
      "\n",
      "(20640, 8)\n",
      "(20640,)\n"
     ]
    }
   ],
   "source": [
    "from sklearn.datasets import fetch_california_housing\n",
    "\n",
    "housing = fetch_california_housing()\n",
    "print(housing.DESCR)\n",
    "print(housing.data.shape)\n",
    "print(housing.target.shape)"
   ]
  },
  {
   "cell_type": "code",
   "execution_count": 3,
   "metadata": {},
   "outputs": [
    {
     "name": "stdout",
     "output_type": "stream",
     "text": [
      "(11610, 8) (11610,)\n",
      "(3870, 8) (3870,)\n",
      "(5160, 8) (5160,)\n"
     ]
    }
   ],
   "source": [
    "from sklearn.model_selection import train_test_split\n",
    "\n",
    "# 默认划分比例为3:1\n",
    "X_train_all, X_test, y_train_all, y_test = train_test_split(housing.data, housing.target,\n",
    "                                                           random_state=7)\n",
    "X_train, X_valid, y_train, y_valid = train_test_split(X_train_all, y_train_all,\n",
    "                                                     random_state=11)\n",
    "print(X_train.shape, y_train.shape)\n",
    "print(X_valid.shape, y_valid.shape)\n",
    "print(X_test.shape, y_test.shape)"
   ]
  },
  {
   "cell_type": "code",
   "execution_count": 4,
   "metadata": {},
   "outputs": [],
   "source": [
    "from sklearn.preprocessing import StandardScaler\n",
    "\n",
    "scaler = StandardScaler()\n",
    "X_train_scaled = scaler.fit_transform(X_train)\n",
    "X_valid_scaled = scaler.transform(X_valid)\n",
    "X_test_scaled = scaler.transform(X_test)"
   ]
  },
  {
   "cell_type": "markdown",
   "metadata": {},
   "source": [
    "keras中metric使用"
   ]
  },
  {
   "cell_type": "code",
   "execution_count": 5,
   "metadata": {},
   "outputs": [
    {
     "name": "stdout",
     "output_type": "stream",
     "text": [
      "tf.Tensor(9.0, shape=(), dtype=float32)\n",
      "tf.Tensor(5.0, shape=(), dtype=float32)\n",
      "tf.Tensor(5.0, shape=(), dtype=float32)\n",
      "tf.Tensor(4.0, shape=(), dtype=float32)\n"
     ]
    }
   ],
   "source": [
    "metric = keras.metrics.MeanSquaredError()\n",
    "# metric默认会将结果累加  \n",
    "print(metric([5.], [2.]))\n",
    "print(metric([0.], [1.]))\n",
    "print(metric.result())\n",
    "\n",
    "# 取消metric的结果累加效果\n",
    "metric.reset_states()\n",
    "metric([1.], [3.])\n",
    "print(metric.result())"
   ]
  },
  {
   "cell_type": "code",
   "execution_count": 11,
   "metadata": {},
   "outputs": [
    {
     "name": "stdout",
     "output_type": "stream",
     "text": [
      "Epoch 0 train mse: 2.0203366\t valid mse:  0.9557379326975552\n",
      "Epoch 1 train mse: 0.8204608\t valid mse:  0.7786624292807339\n",
      "Epoch 2 train mse: 0.6920122\t valid mse:  0.7379015203381617\n",
      "Epoch 3 train mse: 0.66292644\t valid mse:  0.703234844544089\n",
      "Epoch 4 train mse: 0.62197036\t valid mse:  0.674487303459918\n",
      "Epoch 5 train mse: 0.632427\t valid mse:  0.6479788840299442\n",
      "Epoch 6 train mse: 0.5877473\t valid mse:  0.6271420756871153\n",
      "Epoch 7 train mse: 0.5785055\t valid mse:  0.6046631285897986\n",
      "Epoch 8 train mse: 0.537586\t valid mse:  0.5889433030525009\n",
      "Epoch 9 train mse: 0.53496933\t valid mse:  0.5725628142400243\n",
      "Epoch 10 train mse: 0.5075732\t valid mse:  0.5597182269399109\n",
      "Epoch 11 train mse: 0.51765627\t valid mse:  0.5477711630669624\n",
      "Epoch 12 train mse: 0.4907182\t valid mse:  0.5374188098930682\n",
      "Epoch 13 train mse: 0.5124846\t valid mse:  0.5270803572211568\n",
      "Epoch 14 train mse: 0.48795757\t valid mse:  0.5190491943117357\n",
      "Epoch 15 train mse: 0.48253918\t valid mse:  0.5118230910023864\n",
      "Epoch 16 train mse: 0.49281645\t valid mse:  0.5063666005665666\n",
      "Epoch 17 train mse: 0.4775279\t valid mse:  0.5001949120603297\n",
      "Epoch 18 train mse: 0.4830737\t valid mse:  0.4984214963100149\n",
      "Epoch 19 train mse: 0.4664849\t valid mse:  0.492692752039912\n",
      "Epoch 20 train mse: 0.47751743\t valid mse:  0.48827553755918723\n",
      "Epoch 21 train mse: 0.45972016\t valid mse:  0.48469720407052175\n",
      "Epoch 22 train mse: 0.46075034\t valid mse:  0.4864292779604954\n",
      "Epoch 23 train mse: 0.4576862\t valid mse:  0.47892732714552466\n",
      "Epoch 24 train mse: 0.43744758\t valid mse:  0.4765037613403535\n",
      "Epoch 25 train mse: 0.44391224\t valid mse:  0.4731868694549859\n",
      "Epoch 26 train mse: 0.4404878\t valid mse:  0.47442692601513986\n",
      "Epoch 27 train mse: 0.43172342\t valid mse:  0.47003577378796146\n",
      "Epoch 28 train mse: 0.43453193\t valid mse:  0.466665384529032\n",
      "Epoch 29 train mse: 0.43673453\t valid mse:  0.46362643207431303\n",
      "Epoch 30 train mse: 0.43769392\t valid mse:  0.46517146921652913\n",
      "Epoch 31 train mse: 0.44892764\t valid mse:  0.46174724332607125\n",
      "Epoch 32 train mse: 0.43561256\t valid mse:  0.4589164813824731\n",
      "Epoch 33 train mse: 0.41901052\t valid mse:  0.4572531706940428\n",
      "Epoch 34 train mse: 0.43197173\t valid mse:  0.4576579683890845\n",
      "Epoch 35 train mse: 0.43889025\t valid mse:  0.4549144558028115\n",
      "Epoch 36 train mse: 0.44786328\t valid mse:  0.4527710132935091\n",
      "Epoch 37 train mse: 0.43554494\t valid mse:  0.44997739375242085\n",
      "Epoch 38 train mse: 0.4166085\t valid mse:  0.4496297193487285\n",
      "Epoch 39 train mse: 0.42633128\t valid mse:  0.4486935235861422\n",
      "Epoch 40 train mse: 0.4441968\t valid mse:  0.4468231223375155\n",
      "Epoch 41 train mse: 0.42533776\t valid mse:  0.445056832769246\n",
      "Epoch 42 train mse: 0.43529165\t valid mse:  0.44428723016526567\n",
      "Epoch 43 train mse: 0.43707398\t valid mse:  0.44148845258323693\n",
      "Epoch 44 train mse: 0.41669726\t valid mse:  0.44089424033259544\n",
      "Epoch 45 train mse: 0.41388583\t valid mse:  0.43967790418966873\n",
      "Epoch 46 train mse: 0.42944476\t valid mse:  0.4389541496612235\n",
      "Epoch 47 train mse: 0.42430493\t valid mse:  0.43669269270057504\n",
      "Epoch 48 train mse: 0.40740532\t valid mse:  0.43642115904282736\n",
      "Epoch 49 train mse: 0.39591464\t valid mse:  0.43434733767384737\n",
      "Epoch 50 train mse: 0.39806592\t valid mse:  0.4348704181360299\n",
      "Epoch 51 train mse: 0.3970407\t valid mse:  0.4331986627709313\n",
      "Epoch 52 train mse: 0.40739352\t valid mse:  0.4316179378401964\n",
      "Epoch 53 train mse: 0.42826155\t valid mse:  0.429961520129452\n",
      "Epoch 54 train mse: 0.41578132\t valid mse:  0.42922702441109484\n",
      "Epoch 55 train mse: 0.41574883\t valid mse:  0.42879139214292955\n",
      "Epoch 56 train mse: 0.40447408\t valid mse:  0.42794609820866314\n",
      "Epoch 57 train mse: 0.40742195\t valid mse:  0.425458968293682\n",
      "Epoch 58 train mse: 0.41813642\t valid mse:  0.4252927868476667\n",
      "Epoch 59 train mse: 0.40441304\t valid mse:  0.4229789313247932\n",
      "Epoch 60 train mse: 0.3976674\t valid mse:  0.42430250543416326\n",
      "Epoch 61 train mse: 0.40907708\t valid mse:  0.4221548891686708\n",
      "Epoch 62 train mse: 0.41891348\t valid mse:  0.42010490779068294\n",
      "Epoch 63 train mse: 0.40583956\t valid mse:  0.4198499438857976\n",
      "Epoch 64 train mse: 0.38994223\t valid mse:  0.41843124754082306\n",
      "Epoch 65 train mse: 0.38882917\t valid mse:  0.4178895384958401\n",
      "Epoch 66 train mse: 0.390736\t valid mse:  0.4163438638215693\n",
      "Epoch 67 train mse: 0.40008292\t valid mse:  0.41650983500082306\n",
      "Epoch 68 train mse: 0.38880688\t valid mse:  0.4157350615143758\n",
      "Epoch 69 train mse: 0.3861259\t valid mse:  0.4135602079840274\n",
      "Epoch 70 train mse: 0.38957644\t valid mse:  0.41322330042654504\n",
      "Epoch 71 train mse: 0.41293803\t valid mse:  0.4119955029281807\n",
      "Epoch 72 train mse: 0.38272783\t valid mse:  0.4120894537299284\n",
      "Epoch 73 train mse: 0.3937924\t valid mse:  0.41052937163198006\n",
      "Epoch 74 train mse: 0.409158\t valid mse:  0.4095967687157494\n",
      "Epoch 75 train mse: 0.38633797\t valid mse:  0.41095106745161863\n",
      "Epoch 76 train mse: 0.38311636\t valid mse:  0.40988828013578726\n",
      "Epoch 77 train mse: 0.3896743\t valid mse:  0.4090603444589671\n",
      "Epoch 78 train mse: 0.3947402\t valid mse:  0.40712259731965555\n",
      "Epoch 79 train mse: 0.37900248\t valid mse:  0.40641921593954217\n",
      "Epoch 80 train mse: 0.3935453\t valid mse:  0.4059010262615678\n",
      "Epoch 81 train mse: 0.3790038\t valid mse:  0.4056838113970175\n",
      "Epoch 82 train mse: 0.38203582\t valid mse:  0.4057192799233391\n",
      "Epoch 83 train mse: 0.3941742\t valid mse:  0.4044622765604864\n",
      "Epoch 84 train mse: 0.38059846\t valid mse:  0.40407169637946766\n",
      "Epoch 85 train mse: 0.37949497\t valid mse:  0.40276909965258567\n",
      "Epoch 86 train mse: 0.38479483\t valid mse:  0.4020623507778248\n",
      "Epoch 87 train mse: 0.37310407\t valid mse:  0.40097422387281634\n",
      "Epoch 88 train mse: 0.38530612\t valid mse:  0.4002622771513423\n",
      "Epoch 89 train mse: 0.36664385\t valid mse:  0.3998627243466989\n",
      "Epoch 90 train mse: 0.38129947\t valid mse:  0.3996908091881842\n",
      "Epoch 91 train mse: 0.3714328\t valid mse:  0.3989733019745866\n",
      "Epoch 92 train mse: 0.38541707\t valid mse:  0.39761003939971795\n",
      "Epoch 93 train mse: 0.38840118\t valid mse:  0.39755365735756343\n",
      "Epoch 94 train mse: 0.37563667\t valid mse:  0.3974015610916552\n",
      "Epoch 95 train mse: 0.37735772\t valid mse:  0.3961644665263954\n",
      "Epoch 96 train mse: 0.372476\t valid mse:  0.395381654864584\n",
      "Epoch 97 train mse: 0.38155314\t valid mse:  0.39572846791903177\n",
      "Epoch 98 train mse: 0.36611325\t valid mse:  0.39494694969518507\n",
      "Epoch 99 train mse: 0.38738567\t valid mse:  0.3973591570390171\n"
     ]
    }
   ],
   "source": [
    "# 模型优化过程，即fit函数的操作：\n",
    "# 1. 使用batch的形式遍历数据集，并计算loss和其他metric\n",
    "#    1.1 自动求导\n",
    "# 2. 每个epoch结束后，在验证集上测试\n",
    "\n",
    "# 定义相关变量\n",
    "epochs = 100\n",
    "batch_size = 32\n",
    "steps_per_epoch = len(X_train_scaled) // batch_size\n",
    "opt = keras.optimizers.SGD()\n",
    "# 定义metric\n",
    "metric = keras.metrics.MeanSquaredError()\n",
    "\n",
    "# 取数据,fit函数中的batch获取会首先对数据集进行shuffle\n",
    "def random_batch(x, y, batch_size=32):\n",
    "    random_idx = np.random.randint(0, len(X_train_scaled), size=batch_size)\n",
    "    return x[random_idx], y[random_idx]    \n",
    "\n",
    "# 模型构建\n",
    "model = keras.models.Sequential()\n",
    "model.add(keras.layers.Dense(30, activation='relu',\n",
    "                             input_shape=X_train_scaled.shape[1:]))\n",
    "model.add(keras.layers.Dense(1))\n",
    "\n",
    "\n",
    "# 模型优化\n",
    "for epoch in range(epochs):\n",
    "    metric.reset_states()\n",
    "    for step in range(steps_per_epoch):\n",
    "        X_batch, y_batch = random_batch(X_train_scaled,\n",
    "                                        y_train,\n",
    "                                        batch_size)\n",
    "        with tf.GradientTape() as tape:\n",
    "            y_pred = model(X_batch)\n",
    "            # 上一步求得的y_pred维度为(32, 1), 而y_batch的维度为(32, )\n",
    "            y_pred = tf.squeeze(y_pred, 1)\n",
    "            loss = keras.losses.mean_squared_error(y_batch, y_pred)\n",
    "            metric(y_pred, y_batch)\n",
    "        # 对所有参数求导\n",
    "        grads = tape.gradient(loss, model.variables)\n",
    "        # 对grads和参数进行打包\n",
    "        grads_and_vars = zip(grads, model.variables)\n",
    "        opt.apply_gradients(grads_and_vars)\n",
    "        print(\"\\rEpoch\", epoch, \"train mse:\", \n",
    "              metric.result().numpy(), end='')\n",
    "    # 每个epoch结束后，计算在验证集上的metric\n",
    "    y_valid_pred = model(X_valid_scaled)\n",
    "    y_valid_pred = tf.squeeze(y_valid_pred, 1)\n",
    "    valid_loss = keras.losses.mean_squared_error(y_valid_pred, y_valid)\n",
    "    print(\"\\t valid mse: \", valid_loss.numpy())"
   ]
  }
 ],
 "metadata": {
  "kernelspec": {
   "display_name": "Python 3",
   "language": "python",
   "name": "python3"
  },
  "language_info": {
   "codemirror_mode": {
    "name": "ipython",
    "version": 3
   },
   "file_extension": ".py",
   "mimetype": "text/x-python",
   "name": "python",
   "nbconvert_exporter": "python",
   "pygments_lexer": "ipython3",
   "version": "3.6.8"
  }
 },
 "nbformat": 4,
 "nbformat_minor": 2
}
