{
 "cells": [
  {
   "cell_type": "markdown",
   "metadata": {},
   "source": [
    "## 自定义layer"
   ]
  },
  {
   "cell_type": "code",
   "execution_count": 1,
   "metadata": {},
   "outputs": [
    {
     "name": "stdout",
     "output_type": "stream",
     "text": [
      "2.0.0-alpha0\n",
      "sys.version_info(major=3, minor=6, micro=8, releaselevel='final', serial=0)\n",
      "matplotlib 3.1.0\n",
      "numpy 1.14.5\n",
      "pandas 0.24.2\n",
      "sklearn 0.21.2\n",
      "tensorflow 2.0.0-alpha0\n",
      "tensorflow.python.keras.api._v2.keras 2.2.4-tf\n"
     ]
    }
   ],
   "source": [
    "import matplotlib as mpl\n",
    "import matplotlib.pyplot as plt\n",
    "%matplotlib inline\n",
    "import numpy as np\n",
    "import sklearn\n",
    "import pandas as pd\n",
    "import os\n",
    "import sys\n",
    "import time\n",
    "import tensorflow as tf\n",
    "\n",
    "from tensorflow import keras\n",
    "\n",
    "print(tf.__version__)\n",
    "print(sys.version_info)\n",
    "for module in mpl, np, pd, sklearn, tf, keras:\n",
    "    print(module.__name__, module.__version__)"
   ]
  },
  {
   "cell_type": "code",
   "execution_count": 2,
   "metadata": {},
   "outputs": [
    {
     "name": "stdout",
     "output_type": "stream",
     "text": [
      ".. _california_housing_dataset:\n",
      "\n",
      "California Housing dataset\n",
      "--------------------------\n",
      "\n",
      "**Data Set Characteristics:**\n",
      "\n",
      "    :Number of Instances: 20640\n",
      "\n",
      "    :Number of Attributes: 8 numeric, predictive attributes and the target\n",
      "\n",
      "    :Attribute Information:\n",
      "        - MedInc        median income in block\n",
      "        - HouseAge      median house age in block\n",
      "        - AveRooms      average number of rooms\n",
      "        - AveBedrms     average number of bedrooms\n",
      "        - Population    block population\n",
      "        - AveOccup      average house occupancy\n",
      "        - Latitude      house block latitude\n",
      "        - Longitude     house block longitude\n",
      "\n",
      "    :Missing Attribute Values: None\n",
      "\n",
      "This dataset was obtained from the StatLib repository.\n",
      "http://lib.stat.cmu.edu/datasets/\n",
      "\n",
      "The target variable is the median house value for California districts.\n",
      "\n",
      "This dataset was derived from the 1990 U.S. census, using one row per census\n",
      "block group. A block group is the smallest geographical unit for which the U.S.\n",
      "Census Bureau publishes sample data (a block group typically has a population\n",
      "of 600 to 3,000 people).\n",
      "\n",
      "It can be downloaded/loaded using the\n",
      ":func:`sklearn.datasets.fetch_california_housing` function.\n",
      "\n",
      ".. topic:: References\n",
      "\n",
      "    - Pace, R. Kelley and Ronald Barry, Sparse Spatial Autoregressions,\n",
      "      Statistics and Probability Letters, 33 (1997) 291-297\n",
      "\n",
      "(20640, 8)\n",
      "(20640,)\n"
     ]
    }
   ],
   "source": [
    "from sklearn.datasets import fetch_california_housing\n",
    "\n",
    "housing = fetch_california_housing()\n",
    "print(housing.DESCR)\n",
    "print(housing.data.shape)\n",
    "print(housing.target.shape)"
   ]
  },
  {
   "cell_type": "code",
   "execution_count": 3,
   "metadata": {},
   "outputs": [
    {
     "name": "stdout",
     "output_type": "stream",
     "text": [
      "(11610, 8) (11610,)\n",
      "(3870, 8) (3870,)\n",
      "(5160, 8) (5160,)\n"
     ]
    }
   ],
   "source": [
    "from sklearn.model_selection import train_test_split\n",
    "\n",
    "# 默认划分比例为3:1\n",
    "X_train_all, X_test, y_train_all, y_test = train_test_split(housing.data, housing.target,\n",
    "                                                           random_state=7)\n",
    "X_train, X_valid, y_train, y_valid = train_test_split(X_train_all, y_train_all,\n",
    "                                                     random_state=11)\n",
    "print(X_train.shape, y_train.shape)\n",
    "print(X_valid.shape, y_valid.shape)\n",
    "print(X_test.shape, y_test.shape)"
   ]
  },
  {
   "cell_type": "code",
   "execution_count": 4,
   "metadata": {},
   "outputs": [],
   "source": [
    "from sklearn.preprocessing import StandardScaler\n",
    "\n",
    "scaler = StandardScaler()\n",
    "X_train_scaled = scaler.fit_transform(X_train)\n",
    "X_valid_scaled = scaler.transform(X_valid)\n",
    "X_test_scaled = scaler.transform(X_test)"
   ]
  },
  {
   "cell_type": "markdown",
   "metadata": {},
   "source": [
    "### 使用Lambda自定义激活函数"
   ]
  },
  {
   "cell_type": "code",
   "execution_count": 5,
   "metadata": {
    "scrolled": true
   },
   "outputs": [
    {
     "name": "stdout",
     "output_type": "stream",
     "text": [
      "tf.Tensor([4.5417706e-05 6.7153489e-03 6.9314718e-01 5.0067153e+00 1.0000046e+01], shape=(5,), dtype=float32)\n"
     ]
    }
   ],
   "source": [
    "# tf.nn.softplus = log(1 + e^x)\n",
    "customized_softplus = keras.layers.Lambda(lambda x : tf.nn.softplus(x))\n",
    "print(customized_softplus([-10., -5., 0., 5., 10.]))"
   ]
  },
  {
   "cell_type": "markdown",
   "metadata": {},
   "source": [
    "### 使用子类继承定义自定义层"
   ]
  },
  {
   "cell_type": "code",
   "execution_count": 8,
   "metadata": {},
   "outputs": [],
   "source": [
    "class CustomizedDenseLayer(keras.layers.Layer):\n",
    "    def __init__(self, units, activation=None, **kwargs):\n",
    "        # 该层的单元数，即output_shape\n",
    "        self.units = units\n",
    "        self.activation = keras.layers.Activation(activation)\n",
    "        super(CustomizedDenseLayer, self).__init__(**kwargs)\n",
    "    \n",
    "    def build(self, input_shape):\n",
    "        \"\"\"初始化所需参数\"\"\"\n",
    "        # x * w + b \n",
    "        # w的参数确定，input_shape:[None, a] w:[a, b] output_shape :[None, b]\n",
    "        self.kernel = self.add_weight(name='kernel',\n",
    "                                      shape=(input_shape[1], self.units),\n",
    "                                      initializer='uniform',\n",
    "                                      trainable=True)\n",
    "        self.bias = self.add_weight(name='bias',\n",
    "                                    shape=(self.units,),\n",
    "                                    initializer='zeros',\n",
    "                                    trainable=True)\n",
    "        super(CustomizedDenseLayer, self).build(input_shape)\n",
    "        \n",
    "    def call(self, x):\n",
    "        \"\"\"完成正向传播\"\"\"\n",
    "        return self.activation(x @ self.kernel + self.bias)"
   ]
  },
  {
   "cell_type": "code",
   "execution_count": 9,
   "metadata": {},
   "outputs": [
    {
     "name": "stdout",
     "output_type": "stream",
     "text": [
      "Model: \"sequential_1\"\n",
      "_________________________________________________________________\n",
      "Layer (type)                 Output Shape              Param #   \n",
      "=================================================================\n",
      "customized_dense_layer_2 (Cu (None, 30)                270       \n",
      "_________________________________________________________________\n",
      "customized_dense_layer_3 (Cu (None, 1)                 31        \n",
      "_________________________________________________________________\n",
      "lambda (Lambda)              (None, 1)                 0         \n",
      "=================================================================\n",
      "Total params: 301\n",
      "Trainable params: 301\n",
      "Non-trainable params: 0\n",
      "_________________________________________________________________\n"
     ]
    }
   ],
   "source": [
    "# 模型构建\n",
    "model = keras.models.Sequential([\n",
    "    CustomizedDenseLayer(30, activation='relu',\n",
    "                      input_shape=X_train.shape[1:]),\n",
    "    CustomizedDenseLayer(1),\n",
    "    customized_softplus,\n",
    "    # 最后一层等同于：\n",
    "    # keras.layers.Dense(1, activation='softplus')\n",
    "    # keras.layers.Dense(1), keras.layers.Activation('softplus')\n",
    "])\n",
    "\n",
    "model.summary()\n",
    "model.compile(loss='mean_squared_error', optimizer='sgd')\n",
    "callbacks = [keras.callbacks.EarlyStopping(patience=5, min_delta=1e-2)]"
   ]
  },
  {
   "cell_type": "code",
   "execution_count": 10,
   "metadata": {},
   "outputs": [
    {
     "name": "stdout",
     "output_type": "stream",
     "text": [
      "Train on 11610 samples, validate on 3870 samples\n",
      "Epoch 1/100\n",
      "11610/11610 [==============================] - 1s 46us/sample - loss: 2.8004 - val_loss: 2.6055\n",
      "Epoch 2/100\n",
      "11610/11610 [==============================] - 0s 24us/sample - loss: 2.1238 - val_loss: 1.9591\n",
      "Epoch 3/100\n",
      "11610/11610 [==============================] - 0s 28us/sample - loss: 1.5979 - val_loss: 1.4837\n",
      "Epoch 4/100\n",
      "11610/11610 [==============================] - 0s 23us/sample - loss: 1.2219 - val_loss: 1.1240\n",
      "Epoch 5/100\n",
      "11610/11610 [==============================] - 0s 26us/sample - loss: 0.9479 - val_loss: 0.8833\n",
      "Epoch 6/100\n",
      "11610/11610 [==============================] - 0s 26us/sample - loss: 0.7916 - val_loss: 0.7771\n",
      "Epoch 7/100\n",
      "11610/11610 [==============================] - 0s 25us/sample - loss: 0.7225 - val_loss: 0.7343\n",
      "Epoch 8/100\n",
      "11610/11610 [==============================] - 0s 24us/sample - loss: 0.6881 - val_loss: 0.7115\n",
      "Epoch 9/100\n",
      "11610/11610 [==============================] - 0s 24us/sample - loss: 0.6666 - val_loss: 0.6960\n",
      "Epoch 10/100\n",
      "11610/11610 [==============================] - 0s 26us/sample - loss: 0.6507 - val_loss: 0.6833\n",
      "Epoch 11/100\n",
      "11610/11610 [==============================] - 0s 23us/sample - loss: 0.6378 - val_loss: 0.6721\n",
      "Epoch 12/100\n",
      "11610/11610 [==============================] - 0s 25us/sample - loss: 0.6266 - val_loss: 0.6617\n",
      "Epoch 13/100\n",
      "11610/11610 [==============================] - 0s 24us/sample - loss: 0.6164 - val_loss: 0.6519\n",
      "Epoch 14/100\n",
      "11610/11610 [==============================] - 0s 25us/sample - loss: 0.6068 - val_loss: 0.6424\n",
      "Epoch 15/100\n",
      "11610/11610 [==============================] - 0s 23us/sample - loss: 0.5976 - val_loss: 0.6334\n",
      "Epoch 16/100\n",
      "11610/11610 [==============================] - 0s 25us/sample - loss: 0.5888 - val_loss: 0.6243\n",
      "Epoch 17/100\n",
      "11610/11610 [==============================] - 0s 26us/sample - loss: 0.5803 - val_loss: 0.6155\n",
      "Epoch 18/100\n",
      "11610/11610 [==============================] - 0s 24us/sample - loss: 0.5719 - val_loss: 0.6073\n",
      "Epoch 19/100\n",
      "11610/11610 [==============================] - 0s 24us/sample - loss: 0.5640 - val_loss: 0.5987\n",
      "Epoch 20/100\n",
      "11610/11610 [==============================] - 0s 23us/sample - loss: 0.5562 - val_loss: 0.5905\n",
      "Epoch 21/100\n",
      "11610/11610 [==============================] - 0s 25us/sample - loss: 0.5486 - val_loss: 0.5829\n",
      "Epoch 22/100\n",
      "11610/11610 [==============================] - 0s 25us/sample - loss: 0.5417 - val_loss: 0.5751\n",
      "Epoch 23/100\n",
      "11610/11610 [==============================] - 0s 25us/sample - loss: 0.5347 - val_loss: 0.5678\n",
      "Epoch 24/100\n",
      "11610/11610 [==============================] - 0s 25us/sample - loss: 0.5280 - val_loss: 0.5606\n",
      "Epoch 25/100\n",
      "11610/11610 [==============================] - 0s 25us/sample - loss: 0.5217 - val_loss: 0.5538\n",
      "Epoch 26/100\n",
      "11610/11610 [==============================] - 0s 25us/sample - loss: 0.5156 - val_loss: 0.5470\n",
      "Epoch 27/100\n",
      "11610/11610 [==============================] - 0s 25us/sample - loss: 0.5098 - val_loss: 0.5407\n",
      "Epoch 28/100\n",
      "11610/11610 [==============================] - 0s 25us/sample - loss: 0.5045 - val_loss: 0.5346\n",
      "Epoch 29/100\n",
      "11610/11610 [==============================] - 0s 25us/sample - loss: 0.4994 - val_loss: 0.5291\n",
      "Epoch 30/100\n",
      "11610/11610 [==============================] - 0s 25us/sample - loss: 0.4946 - val_loss: 0.5236\n",
      "Epoch 31/100\n",
      "11610/11610 [==============================] - 0s 24us/sample - loss: 0.4901 - val_loss: 0.5189\n",
      "Epoch 32/100\n",
      "11610/11610 [==============================] - 0s 25us/sample - loss: 0.4858 - val_loss: 0.5141\n",
      "Epoch 33/100\n",
      "11610/11610 [==============================] - 0s 25us/sample - loss: 0.4819 - val_loss: 0.5096\n",
      "Epoch 34/100\n",
      "11610/11610 [==============================] - 0s 26us/sample - loss: 0.4784 - val_loss: 0.5054\n",
      "Epoch 35/100\n",
      "11610/11610 [==============================] - 0s 26us/sample - loss: 0.4750 - val_loss: 0.5019\n",
      "Epoch 36/100\n",
      "11610/11610 [==============================] - 0s 24us/sample - loss: 0.4719 - val_loss: 0.4987\n",
      "Epoch 37/100\n",
      "11610/11610 [==============================] - 0s 24us/sample - loss: 0.4690 - val_loss: 0.4949\n",
      "Epoch 38/100\n",
      "11610/11610 [==============================] - 0s 24us/sample - loss: 0.4663 - val_loss: 0.4921\n",
      "Epoch 39/100\n",
      "11610/11610 [==============================] - 0s 26us/sample - loss: 0.4638 - val_loss: 0.4886\n",
      "Epoch 40/100\n",
      "11610/11610 [==============================] - 0s 24us/sample - loss: 0.4614 - val_loss: 0.4858\n",
      "Epoch 41/100\n",
      "11610/11610 [==============================] - 0s 25us/sample - loss: 0.4595 - val_loss: 0.4838\n",
      "Epoch 42/100\n",
      "11610/11610 [==============================] - 0s 24us/sample - loss: 0.4573 - val_loss: 0.4812\n",
      "Epoch 43/100\n",
      "11610/11610 [==============================] - 0s 24us/sample - loss: 0.4554 - val_loss: 0.4788\n",
      "Epoch 44/100\n",
      "11610/11610 [==============================] - 0s 24us/sample - loss: 0.4538 - val_loss: 0.4767\n",
      "Epoch 45/100\n",
      "11610/11610 [==============================] - 0s 25us/sample - loss: 0.4519 - val_loss: 0.4754\n",
      "Epoch 46/100\n",
      "11610/11610 [==============================] - 0s 24us/sample - loss: 0.4503 - val_loss: 0.4734\n",
      "Epoch 47/100\n",
      "11610/11610 [==============================] - 0s 25us/sample - loss: 0.4487 - val_loss: 0.4710\n",
      "Epoch 48/100\n",
      "11610/11610 [==============================] - 0s 25us/sample - loss: 0.4473 - val_loss: 0.4700\n",
      "Epoch 49/100\n",
      "11610/11610 [==============================] - 0s 25us/sample - loss: 0.4459 - val_loss: 0.4677\n"
     ]
    }
   ],
   "source": [
    "log_his = model.fit(X_train_scaled, y_train,\n",
    "                   validation_data=(X_valid_scaled, y_valid),\n",
    "                   epochs=100,\n",
    "                   callbacks=callbacks)"
   ]
  },
  {
   "cell_type": "code",
   "execution_count": 11,
   "metadata": {},
   "outputs": [
    {
     "data": {
      "image/png": "[encoded data removed]",
      "text/plain": [
       "<Figure size 576x360 with 1 Axes>"
      ]
     },
     "metadata": {
      "needs_background": "light"
     },
     "output_type": "display_data"
    }
   ],
   "source": [
    "def plot_learning_curves(history):\n",
    "    pd.DataFrame(history.history).plot(figsize=(8, 5))\n",
    "    plt.grid(True)\n",
    "    plt.gca().set_ylim(0, 1)\n",
    "    plt.show()\n",
    "\n",
    "plot_learning_curves(log_his)"
   ]
  },
  {
   "cell_type": "code",
   "execution_count": 12,
   "metadata": {},
   "outputs": [
    {
     "name": "stdout",
     "output_type": "stream",
     "text": [
      "5160/5160 [==============================] - 0s 18us/sample - loss: 0.4622\n"
     ]
    },
    {
     "data": {
      "text/plain": [
       "0.46220906131951384"
      ]
     },
     "execution_count": 12,
     "metadata": {},
     "output_type": "execute_result"
    }
   ],
   "source": [
    "model.evaluate(X_test_scaled, y_test)"
   ]
  }
 ],
 "metadata": {
  "kernelspec": {
   "display_name": "Python 3",
   "language": "python",
   "name": "python3"
  },
  "language_info": {
   "codemirror_mode": {
    "name": "ipython",
    "version": 3
   },
   "file_extension": ".py",
   "mimetype": "text/x-python",
   "name": "python",
   "nbconvert_exporter": "python",
   "pygments_lexer": "ipython3",
   "version": "3.6.8"
  }
 },
 "nbformat": 4,
 "nbformat_minor": 2
}
