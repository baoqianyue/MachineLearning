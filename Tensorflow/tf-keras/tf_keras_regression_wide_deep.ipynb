{
 "cells": [
  {
   "cell_type": "markdown",
   "metadata": {},
   "source": [
    "## keras构建回归模型(Wide & Deep functional API implementation)"
   ]
  },
  {
   "cell_type": "code",
   "execution_count": 1,
   "metadata": {},
   "outputs": [
    {
     "name": "stdout",
     "output_type": "stream",
     "text": [
      "2.0.0-alpha0\n",
      "sys.version_info(major=3, minor=6, micro=8, releaselevel='final', serial=0)\n",
      "matplotlib 3.1.0\n",
      "numpy 1.14.5\n",
      "pandas 0.24.2\n",
      "sklearn 0.21.2\n",
      "tensorflow 2.0.0-alpha0\n",
      "tensorflow.python.keras.api._v2.keras 2.2.4-tf\n"
     ]
    }
   ],
   "source": [
    "import matplotlib as mpl\n",
    "import matplotlib.pyplot as plt\n",
    "%matplotlib inline\n",
    "import numpy as np\n",
    "import sklearn\n",
    "import pandas as pd\n",
    "import os\n",
    "import sys\n",
    "import time\n",
    "import tensorflow as tf\n",
    "\n",
    "from tensorflow import keras\n",
    "\n",
    "print(tf.__version__)\n",
    "print(sys.version_info)\n",
    "for module in mpl, np, pd, sklearn, tf, keras:\n",
    "    print(module.__name__, module.__version__)"
   ]
  },
  {
   "cell_type": "code",
   "execution_count": 2,
   "metadata": {
    "scrolled": true
   },
   "outputs": [
    {
     "name": "stdout",
     "output_type": "stream",
     "text": [
      ".. _california_housing_dataset:\n",
      "\n",
      "California Housing dataset\n",
      "--------------------------\n",
      "\n",
      "**Data Set Characteristics:**\n",
      "\n",
      "    :Number of Instances: 20640\n",
      "\n",
      "    :Number of Attributes: 8 numeric, predictive attributes and the target\n",
      "\n",
      "    :Attribute Information:\n",
      "        - MedInc        median income in block\n",
      "        - HouseAge      median house age in block\n",
      "        - AveRooms      average number of rooms\n",
      "        - AveBedrms     average number of bedrooms\n",
      "        - Population    block population\n",
      "        - AveOccup      average house occupancy\n",
      "        - Latitude      house block latitude\n",
      "        - Longitude     house block longitude\n",
      "\n",
      "    :Missing Attribute Values: None\n",
      "\n",
      "This dataset was obtained from the StatLib repository.\n",
      "http://lib.stat.cmu.edu/datasets/\n",
      "\n",
      "The target variable is the median house value for California districts.\n",
      "\n",
      "This dataset was derived from the 1990 U.S. census, using one row per census\n",
      "block group. A block group is the smallest geographical unit for which the U.S.\n",
      "Census Bureau publishes sample data (a block group typically has a population\n",
      "of 600 to 3,000 people).\n",
      "\n",
      "It can be downloaded/loaded using the\n",
      ":func:`sklearn.datasets.fetch_california_housing` function.\n",
      "\n",
      ".. topic:: References\n",
      "\n",
      "    - Pace, R. Kelley and Ronald Barry, Sparse Spatial Autoregressions,\n",
      "      Statistics and Probability Letters, 33 (1997) 291-297\n",
      "\n",
      "(20640, 8)\n",
      "(20640,)\n"
     ]
    }
   ],
   "source": [
    "from sklearn.datasets import fetch_california_housing\n",
    "\n",
    "housing = fetch_california_housing()\n",
    "print(housing.DESCR)\n",
    "print(housing.data.shape)\n",
    "print(housing.target.shape)"
   ]
  },
  {
   "cell_type": "code",
   "execution_count": 3,
   "metadata": {},
   "outputs": [
    {
     "name": "stdout",
     "output_type": "stream",
     "text": [
      "(11610, 8) (11610,)\n",
      "(3870, 8) (3870,)\n",
      "(5160, 8) (5160,)\n"
     ]
    }
   ],
   "source": [
    "from sklearn.model_selection import train_test_split\n",
    "\n",
    "# 默认划分比例为3:1\n",
    "X_train_all, X_test, y_train_all, y_test = train_test_split(housing.data, housing.target,\n",
    "                                                           random_state=7)\n",
    "X_train, X_valid, y_train, y_valid = train_test_split(X_train_all, y_train_all,\n",
    "                                                     random_state=11)\n",
    "print(X_train.shape, y_train.shape)\n",
    "print(X_valid.shape, y_valid.shape)\n",
    "print(X_test.shape, y_test.shape)"
   ]
  },
  {
   "cell_type": "code",
   "execution_count": 4,
   "metadata": {},
   "outputs": [],
   "source": [
    "from sklearn.preprocessing import StandardScaler\n",
    "\n",
    "scaler = StandardScaler()\n",
    "X_train_scaled = scaler.fit_transform(X_train)\n",
    "X_valid_scaled = scaler.transform(X_valid)\n",
    "X_test_scaled = scaler.transform(X_test)"
   ]
  },
  {
   "cell_type": "markdown",
   "metadata": {},
   "source": [
    "### 使用函数API方式实现"
   ]
  },
  {
   "cell_type": "code",
   "execution_count": 5,
   "metadata": {},
   "outputs": [
    {
     "name": "stdout",
     "output_type": "stream",
     "text": [
      "Model: \"model\"\n",
      "__________________________________________________________________________________________________\n",
      "Layer (type)                    Output Shape         Param #     Connected to                     \n",
      "==================================================================================================\n",
      "input_1 (InputLayer)            [(None, 8)]          0                                            \n",
      "__________________________________________________________________________________________________\n",
      "dense (Dense)                   (None, 30)           270         input_1[0][0]                    \n",
      "__________________________________________________________________________________________________\n",
      "dense_1 (Dense)                 (None, 30)           930         dense[0][0]                      \n",
      "__________________________________________________________________________________________________\n",
      "concatenate (Concatenate)       (None, 38)           0           input_1[0][0]                    \n",
      "                                                                 dense_1[0][0]                    \n",
      "__________________________________________________________________________________________________\n",
      "dense_2 (Dense)                 (None, 1)            39          concatenate[0][0]                \n",
      "==================================================================================================\n",
      "Total params: 1,239\n",
      "Trainable params: 1,239\n",
      "Non-trainable params: 0\n",
      "__________________________________________________________________________________________________\n"
     ]
    }
   ],
   "source": [
    "# 模型构建,使用keras 函数式Api\n",
    "input_layer = keras.layers.Input(shape=X_train.shape[1:])\n",
    "# 定义好层，后面括号中填入输入参数\n",
    "# 这里的hidden相当于是deep模型\n",
    "hidden1 = keras.layers.Dense(30, activation='relu')(input_layer)\n",
    "hidden2 = keras.layers.Dense(30, activation='relu')(hidden1)\n",
    "\n",
    "# 将wide和deep模型合并然后进行输出层处理，这里的wide模型直接以输入inputs代替\n",
    "concat = keras.layers.concatenate([input_layer, hidden2])\n",
    "output = keras.layers.Dense(1)(concat)\n",
    "\n",
    "# 上面只是将模型的层数固定好，但是并没有实现模型的固化\n",
    "model = keras.models.Model(inputs=[input_layer],\n",
    "                          outputs=[output])\n",
    "\n",
    "model.summary()\n",
    "model.compile(loss='mean_squared_error', optimizer='sgd')\n",
    "callbacks = [keras.callbacks.EarlyStopping(patience=5, min_delta=1e-2)]"
   ]
  },
  {
   "cell_type": "code",
   "execution_count": 6,
   "metadata": {},
   "outputs": [
    {
     "name": "stdout",
     "output_type": "stream",
     "text": [
      "Train on 11610 samples, validate on 3870 samples\n",
      "Epoch 1/100\n",
      "11610/11610 [==============================] - 0s 39us/sample - loss: 1.6458 - val_loss: 0.8143\n",
      "Epoch 2/100\n",
      "11610/11610 [==============================] - 0s 24us/sample - loss: 0.6943 - val_loss: 0.7265\n",
      "Epoch 3/100\n",
      "11610/11610 [==============================] - 0s 26us/sample - loss: 0.6400 - val_loss: 0.6802\n",
      "Epoch 4/100\n",
      "11610/11610 [==============================] - 0s 24us/sample - loss: 0.6053 - val_loss: 0.6464\n",
      "Epoch 5/100\n",
      "11610/11610 [==============================] - 0s 24us/sample - loss: 0.5782 - val_loss: 0.6213\n",
      "Epoch 6/100\n",
      "11610/11610 [==============================] - 0s 25us/sample - loss: 0.5578 - val_loss: 0.5986\n",
      "Epoch 7/100\n",
      "11610/11610 [==============================] - 0s 24us/sample - loss: 0.5416 - val_loss: 0.5814\n",
      "Epoch 8/100\n",
      "11610/11610 [==============================] - 0s 25us/sample - loss: 0.5283 - val_loss: 0.5716\n",
      "Epoch 9/100\n",
      "11610/11610 [==============================] - 0s 25us/sample - loss: 0.5179 - val_loss: 0.5565\n",
      "Epoch 10/100\n",
      "11610/11610 [==============================] - 0s 25us/sample - loss: 0.5093 - val_loss: 0.5465\n",
      "Epoch 11/100\n",
      "11610/11610 [==============================] - 0s 24us/sample - loss: 0.5017 - val_loss: 0.5391\n",
      "Epoch 12/100\n",
      "11610/11610 [==============================] - 0s 25us/sample - loss: 0.4949 - val_loss: 0.5307\n",
      "Epoch 13/100\n",
      "11610/11610 [==============================] - 0s 25us/sample - loss: 0.4892 - val_loss: 0.5234\n",
      "Epoch 14/100\n",
      "11610/11610 [==============================] - 0s 25us/sample - loss: 0.4840 - val_loss: 0.5223\n",
      "Epoch 15/100\n",
      "11610/11610 [==============================] - 0s 25us/sample - loss: 0.4793 - val_loss: 0.5134\n",
      "Epoch 16/100\n",
      "11610/11610 [==============================] - 0s 25us/sample - loss: 0.4748 - val_loss: 0.5138\n",
      "Epoch 17/100\n",
      "11610/11610 [==============================] - 0s 25us/sample - loss: 0.4716 - val_loss: 0.5048\n",
      "Epoch 18/100\n",
      "11610/11610 [==============================] - 0s 25us/sample - loss: 0.4672 - val_loss: 0.4996\n",
      "Epoch 19/100\n",
      "11610/11610 [==============================] - 0s 25us/sample - loss: 0.4644 - val_loss: 0.4961\n",
      "Epoch 20/100\n",
      "11610/11610 [==============================] - 0s 25us/sample - loss: 0.4609 - val_loss: 0.4957\n",
      "Epoch 21/100\n",
      "11610/11610 [==============================] - 0s 25us/sample - loss: 0.4579 - val_loss: 0.4894\n",
      "Epoch 22/100\n",
      "11610/11610 [==============================] - 0s 25us/sample - loss: 0.4551 - val_loss: 0.4869\n",
      "Epoch 23/100\n",
      "11610/11610 [==============================] - 0s 25us/sample - loss: 0.4522 - val_loss: 0.4829\n",
      "Epoch 24/100\n",
      "11610/11610 [==============================] - 0s 26us/sample - loss: 0.4495 - val_loss: 0.4800\n",
      "Epoch 25/100\n",
      "11610/11610 [==============================] - 0s 25us/sample - loss: 0.4461 - val_loss: 0.4757\n",
      "Epoch 26/100\n",
      "11610/11610 [==============================] - 0s 25us/sample - loss: 0.4446 - val_loss: 0.4732\n",
      "Epoch 27/100\n",
      "11610/11610 [==============================] - 0s 26us/sample - loss: 0.4417 - val_loss: 0.4711\n",
      "Epoch 28/100\n",
      "11610/11610 [==============================] - 0s 25us/sample - loss: 0.4392 - val_loss: 0.4703\n",
      "Epoch 29/100\n",
      "11610/11610 [==============================] - 0s 25us/sample - loss: 0.4367 - val_loss: 0.4661\n",
      "Epoch 30/100\n",
      "11610/11610 [==============================] - 0s 25us/sample - loss: 0.4345 - val_loss: 0.4636\n",
      "Epoch 31/100\n",
      "11610/11610 [==============================] - 0s 25us/sample - loss: 0.4324 - val_loss: 0.4597\n",
      "Epoch 32/100\n",
      "11610/11610 [==============================] - 0s 26us/sample - loss: 0.4305 - val_loss: 0.4584\n",
      "Epoch 33/100\n",
      "11610/11610 [==============================] - 0s 25us/sample - loss: 0.4284 - val_loss: 0.4571\n",
      "Epoch 34/100\n",
      "11610/11610 [==============================] - 0s 25us/sample - loss: 0.4262 - val_loss: 0.4549\n",
      "Epoch 35/100\n",
      "11610/11610 [==============================] - 0s 25us/sample - loss: 0.4242 - val_loss: 0.4512\n",
      "Epoch 36/100\n",
      "11610/11610 [==============================] - 0s 26us/sample - loss: 0.4229 - val_loss: 0.4502\n",
      "Epoch 37/100\n",
      "11610/11610 [==============================] - 0s 25us/sample - loss: 0.4204 - val_loss: 0.4486\n",
      "Epoch 38/100\n",
      "11610/11610 [==============================] - 0s 25us/sample - loss: 0.4188 - val_loss: 0.4462\n",
      "Epoch 39/100\n",
      "11610/11610 [==============================] - 0s 25us/sample - loss: 0.4171 - val_loss: 0.4428\n",
      "Epoch 40/100\n",
      "11610/11610 [==============================] - 0s 25us/sample - loss: 0.4150 - val_loss: 0.4411\n",
      "Epoch 41/100\n",
      "11610/11610 [==============================] - 0s 25us/sample - loss: 0.4137 - val_loss: 0.4397\n",
      "Epoch 42/100\n",
      "11610/11610 [==============================] - 0s 25us/sample - loss: 0.4113 - val_loss: 0.4375\n",
      "Epoch 43/100\n",
      "11610/11610 [==============================] - 0s 25us/sample - loss: 0.4103 - val_loss: 0.4357\n",
      "Epoch 44/100\n",
      "11610/11610 [==============================] - 0s 25us/sample - loss: 0.4085 - val_loss: 0.4335\n",
      "Epoch 45/100\n",
      "11610/11610 [==============================] - 0s 25us/sample - loss: 0.4072 - val_loss: 0.4321\n"
     ]
    }
   ],
   "source": [
    "log_his = model.fit(X_train_scaled, y_train,\n",
    "                   validation_data=(X_valid_scaled, y_valid),\n",
    "                   epochs=100,\n",
    "                   callbacks=callbacks)"
   ]
  },
  {
   "cell_type": "code",
   "execution_count": 7,
   "metadata": {},
   "outputs": [
    {
     "data": {
      "image/png": "[encoded data removed]",
      "text/plain": [
       "<Figure size 576x360 with 1 Axes>"
      ]
     },
     "metadata": {
      "needs_background": "light"
     },
     "output_type": "display_data"
    }
   ],
   "source": [
    "def plot_learning_curves(history):\n",
    "    pd.DataFrame(history.history).plot(figsize=(8, 5))\n",
    "    plt.grid(True)\n",
    "    plt.gca().set_ylim(0, 1)\n",
    "    plt.show()\n",
    "\n",
    "plot_learning_curves(log_his)"
   ]
  },
  {
   "cell_type": "code",
   "execution_count": 8,
   "metadata": {},
   "outputs": [
    {
     "name": "stdout",
     "output_type": "stream",
     "text": [
      "5160/5160 [==============================] - 0s 12us/sample - loss: 0.4200\n"
     ]
    },
    {
     "data": {
      "text/plain": [
       "0.41996229729911155"
      ]
     },
     "execution_count": 8,
     "metadata": {},
     "output_type": "execute_result"
    }
   ],
   "source": [
    "model.evaluate(X_test_scaled, y_test)"
   ]
  }
 ],
 "metadata": {
  "kernelspec": {
   "display_name": "Python 3",
   "language": "python",
   "name": "python3"
  },
  "language_info": {
   "codemirror_mode": {
    "name": "ipython",
    "version": 3
   },
   "file_extension": ".py",
   "mimetype": "text/x-python",
   "name": "python",
   "nbconvert_exporter": "python",
   "pygments_lexer": "ipython3",
   "version": "3.6.8"
  }
 },
 "nbformat": 4,
 "nbformat_minor": 2
}
