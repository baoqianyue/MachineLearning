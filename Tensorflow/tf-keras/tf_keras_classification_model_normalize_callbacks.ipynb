{
 "cells": [
  {
   "cell_type": "markdown",
   "metadata": {},
   "source": [
    "## keras构建分类模型(加入keras相关callback)"
   ]
  },
  {
   "cell_type": "code",
   "execution_count": 3,
   "metadata": {},
   "outputs": [
    {
     "name": "stdout",
     "output_type": "stream",
     "text": [
      "2.0.0-alpha0\n",
      "sys.version_info(major=3, minor=6, micro=8, releaselevel='final', serial=0)\n",
      "matplotlib 3.1.0\n",
      "numpy 1.14.5\n",
      "pandas 0.24.2\n",
      "sklearn 0.21.2\n",
      "tensorflow 2.0.0-alpha0\n",
      "tensorflow.python.keras.api._v2.keras 2.2.4-tf\n"
     ]
    }
   ],
   "source": [
    "import matplotlib as mpl\n",
    "import matplotlib.pyplot as plt\n",
    "%matplotlib inline\n",
    "import numpy as np\n",
    "import sklearn\n",
    "import pandas as pd\n",
    "import os\n",
    "import sys\n",
    "import time\n",
    "import tensorflow as tf\n",
    "\n",
    "from tensorflow import keras\n",
    "\n",
    "print(tf.__version__)\n",
    "print(sys.version_info)\n",
    "for module in mpl, np, pd, sklearn, tf, keras:\n",
    "    print(module.__name__, module.__version__)"
   ]
  },
  {
   "cell_type": "code",
   "execution_count": 4,
   "metadata": {},
   "outputs": [
    {
     "name": "stdout",
     "output_type": "stream",
     "text": [
      "(5000, 28, 28) (5000,)\n",
      "(55000, 28, 28) (55000,)\n",
      "(10000, 28, 28) (10000,)\n"
     ]
    }
   ],
   "source": [
    "fashion_mnist = keras.datasets.fashion_mnist\n",
    "(X_train_all, y_train_all), (X_test, y_test) = fashion_mnist.load_data()\n",
    "X_valid, X_train = X_train_all[:5000], X_train_all[5000:]\n",
    "y_valid, y_train = y_train_all[:5000], y_train_all[5000:]\n",
    "\n",
    "print(X_valid.shape, y_valid.shape)\n",
    "print(X_train.shape, y_train.shape)\n",
    "print(X_test.shape, y_test.shape)"
   ]
  },
  {
   "cell_type": "code",
   "execution_count": 6,
   "metadata": {},
   "outputs": [
    {
     "name": "stdout",
     "output_type": "stream",
     "text": [
      "2.0231433 -0.8105136\n"
     ]
    }
   ],
   "source": [
    "# 数据归一化,标准归一化 x = (x - u) / std\n",
    "from sklearn.preprocessing import StandardScaler\n",
    "\n",
    "scaler = StandardScaler()\n",
    "# 对于训练集使用fit_transform，该函数会在归一化结束后保存训练集中的均值方差，并使用这两个参数进行验证集和测试集的归一化\n",
    "# 归一化之前将数据转为浮点型，防止精度损失\n",
    "# 还有该函数接收的数据类型为二维数组，所以这里先reshape\n",
    "X_train_scaled = scaler.fit_transform(X_train.astype(np.float32).reshape(-1, 1)).reshape(-1, 28, 28)\n",
    "X_valid_scaled = scaler.transform(X_valid.astype(np.float32).reshape(-1, 1)).reshape(-1, 28, 28)\n",
    "X_test = scaler.transform(X_test.astype(np.float32).reshape(-1, 1)).reshape(-1, 28, 28)\n",
    "print(np.max(X_train_scaled), np.min(X_train_scaled))"
   ]
  },
  {
   "cell_type": "code",
   "execution_count": 7,
   "metadata": {},
   "outputs": [],
   "source": [
    "# 构建模型\n",
    "model = keras.models.Sequential([\n",
    "    keras.layers.Flatten(input_shape=[28, 28]),\n",
    "    keras.layers.Dense(300, activation='relu'),\n",
    "    keras.layers.Dense(200, activation='relu'),\n",
    "    keras.layers.Dense(10, activation='softmax')\n",
    "])\n",
    "\n",
    "model.compile(loss='sparse_categorical_crossentropy',\n",
    "             optimizer='sgd',\n",
    "             metrics=['accuracy'])"
   ]
  },
  {
   "cell_type": "markdown",
   "metadata": {},
   "source": [
    "添加callbacks：TensorBoard, EarlyStopping, ModelCheckpoint"
   ]
  },
  {
   "cell_type": "code",
   "execution_count": 9,
   "metadata": {},
   "outputs": [],
   "source": [
    "# tensorboard需要指定一个log dir\n",
    "log_dir = './callbacks'\n",
    "if not os.path.exists(log_dir):\n",
    "    os.mkdir(log_dir)\n",
    "# ModelCheckpoint需要指定一个保存模型数据的文件名\n",
    "output_model_file = os.path.join(log_dir, 'fashion_mnist_model.h5')\n",
    "    \n",
    "callbacks = [\n",
    "    keras.callbacks.TensorBoard(log_dir),\n",
    "    keras.callbacks.ModelCheckpoint(output_model_file, save_best_only=True),\n",
    "    # 默认监测数据为验证集上的loss(val_loss)，min_delta值表示被监测数据的最小变化量\n",
    "    # patience表示等待几次监测数据没有提升，在这之后，训练将被终止\n",
    "    keras.callbacks.EarlyStopping(patience=5, min_delta=1e-3)\n",
    "]"
   ]
  },
  {
   "cell_type": "code",
   "execution_count": 14,
   "metadata": {},
   "outputs": [
    {
     "name": "stdout",
     "output_type": "stream",
     "text": [
      "Train on 55000 samples, validate on 5000 samples\n",
      "Epoch 1/10\n",
      "55000/55000 [==============================] - 4s 68us/sample - loss: 0.3074 - accuracy: 0.8918 - val_loss: 0.3387 - val_accuracy: 0.8798\n",
      "Epoch 2/10\n",
      "55000/55000 [==============================] - 4s 73us/sample - loss: 0.3052 - accuracy: 0.8917 - val_loss: 0.3345 - val_accuracy: 0.8808\n",
      "Epoch 3/10\n",
      "55000/55000 [==============================] - 4s 75us/sample - loss: 0.3024 - accuracy: 0.8931 - val_loss: 0.3342 - val_accuracy: 0.8784\n",
      "Epoch 4/10\n",
      "55000/55000 [==============================] - 4s 78us/sample - loss: 0.3001 - accuracy: 0.8935 - val_loss: 0.3389 - val_accuracy: 0.8804\n",
      "Epoch 5/10\n",
      "55000/55000 [==============================] - 4s 76us/sample - loss: 0.2978 - accuracy: 0.8955 - val_loss: 0.3351 - val_accuracy: 0.8796\n",
      "Epoch 6/10\n",
      "55000/55000 [==============================] - 4s 71us/sample - loss: 0.2954 - accuracy: 0.8955 - val_loss: 0.3284 - val_accuracy: 0.8792\n",
      "Epoch 7/10\n",
      "55000/55000 [==============================] - 4s 70us/sample - loss: 0.2933 - accuracy: 0.8969 - val_loss: 0.3289 - val_accuracy: 0.8782\n",
      "Epoch 8/10\n",
      "55000/55000 [==============================] - 4s 74us/sample - loss: 0.2910 - accuracy: 0.8973 - val_loss: 0.3263 - val_accuracy: 0.8816\n",
      "Epoch 9/10\n",
      "55000/55000 [==============================] - 4s 73us/sample - loss: 0.2887 - accuracy: 0.8982 - val_loss: 0.3292 - val_accuracy: 0.8820\n",
      "Epoch 10/10\n",
      "55000/55000 [==============================] - 4s 82us/sample - loss: 0.2871 - accuracy: 0.8980 - val_loss: 0.3257 - val_accuracy: 0.8852\n"
     ]
    }
   ],
   "source": [
    "log_his = model.fit(X_train_scaled, y_train, epochs=10, validation_data=(X_valid_scaled, y_valid),\n",
    "                   callbacks=callbacks)"
   ]
  },
  {
   "cell_type": "markdown",
   "metadata": {},
   "source": [
    "## 开启tensorboard服务 \n",
    "在终端中切换到callbacks目录，输入命令`tensorboard --logdir=dir名称`，服务默认端口号6006   \n",
    "\n",
    "![demo](./img/boarddemo.png)"
   ]
  },
  {
   "cell_type": "code",
   "execution_count": 11,
   "metadata": {},
   "outputs": [
    {
     "data": {
      "image/png": "[encoded data removed]",
      "text/plain": [
       "<Figure size 576x360 with 1 Axes>"
      ]
     },
     "metadata": {
      "needs_background": "light"
     },
     "output_type": "display_data"
    }
   ],
   "source": [
    "def plot_learning_curves(history):\n",
    "    pd.DataFrame(history.history).plot(figsize=(8, 5))\n",
    "    plt.grid(True)\n",
    "    plt.gca().set_ylim(0, 1)\n",
    "    plt.show()\n",
    "    \n",
    "plot_learning_curves(log_his)"
   ]
  },
  {
   "cell_type": "code",
   "execution_count": 12,
   "metadata": {},
   "outputs": [
    {
     "name": "stdout",
     "output_type": "stream",
     "text": [
      "10000/10000 [==============================] - 0s 42us/sample - loss: 0.4312 - accuracy: 0.8457\n"
     ]
    },
    {
     "data": {
      "text/plain": [
       "[0.4311638023614883, 0.8457]"
      ]
     },
     "execution_count": 12,
     "metadata": {},
     "output_type": "execute_result"
    }
   ],
   "source": [
    "model.evaluate(X_test, y_test)"
   ]
  }
 ],
 "metadata": {
  "kernelspec": {
   "display_name": "Python 3",
   "language": "python",
   "name": "python3"
  },
  "language_info": {
   "codemirror_mode": {
    "name": "ipython",
    "version": 3
   },
   "file_extension": ".py",
   "mimetype": "text/x-python",
   "name": "python",
   "nbconvert_exporter": "python",
   "pygments_lexer": "ipython3",
   "version": "3.6.8"
  }
 },
 "nbformat": 4,
 "nbformat_minor": 2
}
