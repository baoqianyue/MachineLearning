{
 "cells": [
  {
   "cell_type": "markdown",
   "metadata": {},
   "source": [
    "## keras深度神经网络构建demo"
   ]
  },
  {
   "cell_type": "code",
   "execution_count": 2,
   "metadata": {},
   "outputs": [
    {
     "name": "stdout",
     "output_type": "stream",
     "text": [
      "2.0.0-alpha0\n",
      "sys.version_info(major=3, minor=6, micro=8, releaselevel='final', serial=0)\n",
      "matplotlib 3.1.0\n",
      "numpy 1.14.5\n",
      "pandas 0.24.2\n",
      "sklearn 0.21.2\n",
      "tensorflow 2.0.0-alpha0\n",
      "tensorflow.python.keras.api._v2.keras 2.2.4-tf\n"
     ]
    }
   ],
   "source": [
    "import matplotlib as mpl\n",
    "import matplotlib.pyplot as plt\n",
    "%matplotlib inline\n",
    "import numpy as np\n",
    "import sklearn\n",
    "import pandas as pd\n",
    "import os\n",
    "import sys\n",
    "import time\n",
    "import tensorflow as tf\n",
    "\n",
    "from tensorflow import keras\n",
    "\n",
    "print(tf.__version__)\n",
    "print(sys.version_info)\n",
    "for module in mpl, np, pd, sklearn, tf, keras:\n",
    "    print(module.__name__, module.__version__)"
   ]
  },
  {
   "cell_type": "code",
   "execution_count": 3,
   "metadata": {},
   "outputs": [
    {
     "name": "stdout",
     "output_type": "stream",
     "text": [
      "(5000, 28, 28) (5000,)\n",
      "(55000, 28, 28) (55000,)\n",
      "(10000, 28, 28) (10000,)\n"
     ]
    }
   ],
   "source": [
    "fashion_mnist = keras.datasets.fashion_mnist\n",
    "(X_train_all, y_train_all), (X_test, y_test) = fashion_mnist.load_data()\n",
    "X_valid, X_train = X_train_all[:5000], X_train_all[5000:]\n",
    "y_valid, y_train = y_train_all[:5000], y_train_all[5000:]\n",
    "\n",
    "print(X_valid.shape, y_valid.shape)\n",
    "print(X_train.shape, y_train.shape)\n",
    "print(X_test.shape, y_test.shape)"
   ]
  },
  {
   "cell_type": "code",
   "execution_count": 4,
   "metadata": {},
   "outputs": [
    {
     "name": "stdout",
     "output_type": "stream",
     "text": [
      "2.0231433 -0.8105136\n"
     ]
    }
   ],
   "source": [
    "# 数据归一化,标准归一化 x = (x - u) / std\n",
    "from sklearn.preprocessing import StandardScaler\n",
    "\n",
    "scaler = StandardScaler()\n",
    "# 对于训练集使用fit_transform，该函数会在归一化结束后保存训练集中的均值方差，并使用这两个参数进行验证集和测试集的归一化\n",
    "# 归一化之前将数据转为浮点型，防止精度损失\n",
    "# 还有该函数接收的数据类型为二维数组，所以这里先reshape\n",
    "X_train_scaled = scaler.fit_transform(X_train.astype(np.float32).reshape(-1, 1)).reshape(-1, 28, 28)\n",
    "X_valid_scaled = scaler.transform(X_valid.astype(np.float32).reshape(-1, 1)).reshape(-1, 28, 28)\n",
    "X_test = scaler.transform(X_test.astype(np.float32).reshape(-1, 1)).reshape(-1, 28, 28)\n",
    "print(np.max(X_train_scaled), np.min(X_train_scaled))"
   ]
  },
  {
   "cell_type": "code",
   "execution_count": 5,
   "metadata": {},
   "outputs": [],
   "source": [
    "# 构建模型\n",
    "model = keras.models.Sequential()\n",
    "# 输入层\n",
    "model.add(keras.layers.Flatten(input_shape=[28, 28]))\n",
    "# 跟20个全链接层\n",
    "for _ in range(20):\n",
    "    model.add(keras.layers.Dense(100, activation='relu'))\n",
    "model.add(keras.layers.Dense(10, activation='softmax'))\n",
    "\n",
    "model.compile(loss='sparse_categorical_crossentropy',\n",
    "             optimizer='sgd',\n",
    "             metrics=['accuracy'])"
   ]
  },
  {
   "cell_type": "code",
   "execution_count": 6,
   "metadata": {},
   "outputs": [
    {
     "name": "stdout",
     "output_type": "stream",
     "text": [
      "Model: \"sequential\"\n",
      "_________________________________________________________________\n",
      "Layer (type)                 Output Shape              Param #   \n",
      "=================================================================\n",
      "flatten (Flatten)            (None, 784)               0         \n",
      "_________________________________________________________________\n",
      "dense (Dense)                (None, 100)               78500     \n",
      "_________________________________________________________________\n",
      "dense_1 (Dense)              (None, 100)               10100     \n",
      "_________________________________________________________________\n",
      "dense_2 (Dense)              (None, 100)               10100     \n",
      "_________________________________________________________________\n",
      "dense_3 (Dense)              (None, 100)               10100     \n",
      "_________________________________________________________________\n",
      "dense_4 (Dense)              (None, 100)               10100     \n",
      "_________________________________________________________________\n",
      "dense_5 (Dense)              (None, 100)               10100     \n",
      "_________________________________________________________________\n",
      "dense_6 (Dense)              (None, 100)               10100     \n",
      "_________________________________________________________________\n",
      "dense_7 (Dense)              (None, 100)               10100     \n",
      "_________________________________________________________________\n",
      "dense_8 (Dense)              (None, 100)               10100     \n",
      "_________________________________________________________________\n",
      "dense_9 (Dense)              (None, 100)               10100     \n",
      "_________________________________________________________________\n",
      "dense_10 (Dense)             (None, 100)               10100     \n",
      "_________________________________________________________________\n",
      "dense_11 (Dense)             (None, 100)               10100     \n",
      "_________________________________________________________________\n",
      "dense_12 (Dense)             (None, 100)               10100     \n",
      "_________________________________________________________________\n",
      "dense_13 (Dense)             (None, 100)               10100     \n",
      "_________________________________________________________________\n",
      "dense_14 (Dense)             (None, 100)               10100     \n",
      "_________________________________________________________________\n",
      "dense_15 (Dense)             (None, 100)               10100     \n",
      "_________________________________________________________________\n",
      "dense_16 (Dense)             (None, 100)               10100     \n",
      "_________________________________________________________________\n",
      "dense_17 (Dense)             (None, 100)               10100     \n",
      "_________________________________________________________________\n",
      "dense_18 (Dense)             (None, 100)               10100     \n",
      "_________________________________________________________________\n",
      "dense_19 (Dense)             (None, 100)               10100     \n",
      "_________________________________________________________________\n",
      "dense_20 (Dense)             (None, 10)                1010      \n",
      "=================================================================\n",
      "Total params: 271,410\n",
      "Trainable params: 271,410\n",
      "Non-trainable params: 0\n",
      "_________________________________________________________________\n"
     ]
    }
   ],
   "source": [
    "model.summary()"
   ]
  },
  {
   "cell_type": "code",
   "execution_count": 7,
   "metadata": {},
   "outputs": [],
   "source": [
    "# tensorboard需要指定一个log dir\n",
    "log_dir = './dnn-callbacks'\n",
    "if not os.path.exists(log_dir):\n",
    "    os.mkdir(log_dir)\n",
    "# ModelCheckpoint需要指定一个保存模型数据的文件名\n",
    "output_model_file = os.path.join(log_dir, 'fashion_mnist_model.h5')\n",
    "    \n",
    "callbacks = [\n",
    "    keras.callbacks.TensorBoard(log_dir),\n",
    "    keras.callbacks.ModelCheckpoint(output_model_file, save_best_only=True),\n",
    "    # 默认监测数据为验证集上的loss(val_loss)，min_delta值表示被监测数据的最小变化量\n",
    "    # patience表示等待几次监测数据没有提升，在这之后，训练将被终止\n",
    "    keras.callbacks.EarlyStopping(patience=5, min_delta=1e-3)\n",
    "]"
   ]
  },
  {
   "cell_type": "code",
   "execution_count": 8,
   "metadata": {},
   "outputs": [
    {
     "name": "stdout",
     "output_type": "stream",
     "text": [
      "Train on 55000 samples, validate on 5000 samples\n",
      "Epoch 1/10\n",
      "55000/55000 [==============================] - 4s 79us/sample - loss: 2.3018 - accuracy: 0.1449 - val_loss: 2.3009 - val_accuracy: 0.2224\n",
      "Epoch 2/10\n",
      "55000/55000 [==============================] - 4s 67us/sample - loss: 2.2995 - accuracy: 0.2059 - val_loss: 2.2975 - val_accuracy: 0.2152\n",
      "Epoch 3/10\n",
      "55000/55000 [==============================] - 4s 64us/sample - loss: 2.2937 - accuracy: 0.2409 - val_loss: 2.2883 - val_accuracy: 0.2554\n",
      "Epoch 4/10\n",
      "55000/55000 [==============================] - 4s 67us/sample - loss: 2.2785 - accuracy: 0.2634 - val_loss: 2.2648 - val_accuracy: 0.2726\n",
      "Epoch 5/10\n",
      "55000/55000 [==============================] - 4s 67us/sample - loss: 2.2399 - accuracy: 0.2691 - val_loss: 2.2035 - val_accuracy: 0.2592\n",
      "Epoch 6/10\n",
      "55000/55000 [==============================] - 4s 67us/sample - loss: 2.1247 - accuracy: 0.2307 - val_loss: 1.9986 - val_accuracy: 0.2140\n",
      "Epoch 7/10\n",
      "55000/55000 [==============================] - 4s 73us/sample - loss: 1.7793 - accuracy: 0.2741 - val_loss: 1.4711 - val_accuracy: 0.4072\n",
      "Epoch 8/10\n",
      "55000/55000 [==============================] - 4s 70us/sample - loss: 1.1938 - accuracy: 0.4949 - val_loss: 1.0160 - val_accuracy: 0.5588\n",
      "Epoch 9/10\n",
      "55000/55000 [==============================] - 4s 72us/sample - loss: 0.9606 - accuracy: 0.5915 - val_loss: 0.9030 - val_accuracy: 0.6254\n",
      "Epoch 10/10\n",
      "55000/55000 [==============================] - 4s 78us/sample - loss: 0.8711 - accuracy: 0.6364 - val_loss: 0.8187 - val_accuracy: 0.6676\n"
     ]
    }
   ],
   "source": [
    "log_his = model.fit(X_train_scaled, y_train, epochs=10, validation_data=(X_valid_scaled, y_valid),\n",
    "                   callbacks=callbacks)"
   ]
  },
  {
   "cell_type": "code",
   "execution_count": 10,
   "metadata": {},
   "outputs": [
    {
     "data": {
      "image/png": "[encoded data removed]",
      "text/plain": [
       "<Figure size 576x360 with 1 Axes>"
      ]
     },
     "metadata": {
      "needs_background": "light"
     },
     "output_type": "display_data"
    }
   ],
   "source": [
    "def plot_learning_curves(history):\n",
    "    pd.DataFrame(history.history).plot(figsize=(8, 5))\n",
    "    plt.grid(True)\n",
    "    plt.gca().set_ylim(0, 3)\n",
    "    plt.show()\n",
    "    \n",
    "plot_learning_curves(log_his)\n",
    "\n",
    "# 下图中训练初始阶段曲线基本没有变化，可能原因：   \n",
    "# 1. 参数太多，训练不充分\n",
    "# 2. 出现梯度消失情况    "
   ]
  },
  {
   "cell_type": "code",
   "execution_count": 11,
   "metadata": {},
   "outputs": [
    {
     "name": "stdout",
     "output_type": "stream",
     "text": [
      "10000/10000 [==============================] - 0s 33us/sample - loss: 0.8428 - accuracy: 0.6594\n"
     ]
    },
    {
     "data": {
      "text/plain": [
       "[0.8428399559020996, 0.6594]"
      ]
     },
     "execution_count": 11,
     "metadata": {},
     "output_type": "execute_result"
    }
   ],
   "source": [
    "model.evaluate(X_test, y_test)"
   ]
  }
 ],
 "metadata": {
  "kernelspec": {
   "display_name": "Python 3",
   "language": "python",
   "name": "python3"
  },
  "language_info": {
   "codemirror_mode": {
    "name": "ipython",
    "version": 3
   },
   "file_extension": ".py",
   "mimetype": "text/x-python",
   "name": "python",
   "nbconvert_exporter": "python",
   "pygments_lexer": "ipython3",
   "version": "3.6.8"
  }
 },
 "nbformat": 4,
 "nbformat_minor": 2
}
