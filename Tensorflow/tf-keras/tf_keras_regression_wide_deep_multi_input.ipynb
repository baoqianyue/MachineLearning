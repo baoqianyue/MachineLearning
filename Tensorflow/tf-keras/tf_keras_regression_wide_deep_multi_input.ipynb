{
 "cells": [
  {
   "cell_type": "markdown",
   "metadata": {},
   "source": [
    "## keras构建回归模型(Wide & Deep subclass implementation)"
   ]
  },
  {
   "cell_type": "code",
   "execution_count": 1,
   "metadata": {},
   "outputs": [
    {
     "name": "stdout",
     "output_type": "stream",
     "text": [
      "2.0.0-alpha0\n",
      "sys.version_info(major=3, minor=6, micro=8, releaselevel='final', serial=0)\n",
      "matplotlib 3.1.0\n",
      "numpy 1.14.5\n",
      "pandas 0.24.2\n",
      "sklearn 0.21.2\n",
      "tensorflow 2.0.0-alpha0\n",
      "tensorflow.python.keras.api._v2.keras 2.2.4-tf\n"
     ]
    }
   ],
   "source": [
    "import matplotlib as mpl\n",
    "import matplotlib.pyplot as plt\n",
    "%matplotlib inline\n",
    "import numpy as np\n",
    "import sklearn\n",
    "import pandas as pd\n",
    "import os\n",
    "import sys\n",
    "import time\n",
    "import tensorflow as tf\n",
    "\n",
    "from tensorflow import keras\n",
    "\n",
    "print(tf.__version__)\n",
    "print(sys.version_info)\n",
    "for module in mpl, np, pd, sklearn, tf, keras:\n",
    "    print(module.__name__, module.__version__)"
   ]
  },
  {
   "cell_type": "code",
   "execution_count": 2,
   "metadata": {
    "scrolled": true
   },
   "outputs": [
    {
     "name": "stdout",
     "output_type": "stream",
     "text": [
      ".. _california_housing_dataset:\n",
      "\n",
      "California Housing dataset\n",
      "--------------------------\n",
      "\n",
      "**Data Set Characteristics:**\n",
      "\n",
      "    :Number of Instances: 20640\n",
      "\n",
      "    :Number of Attributes: 8 numeric, predictive attributes and the target\n",
      "\n",
      "    :Attribute Information:\n",
      "        - MedInc        median income in block\n",
      "        - HouseAge      median house age in block\n",
      "        - AveRooms      average number of rooms\n",
      "        - AveBedrms     average number of bedrooms\n",
      "        - Population    block population\n",
      "        - AveOccup      average house occupancy\n",
      "        - Latitude      house block latitude\n",
      "        - Longitude     house block longitude\n",
      "\n",
      "    :Missing Attribute Values: None\n",
      "\n",
      "This dataset was obtained from the StatLib repository.\n",
      "http://lib.stat.cmu.edu/datasets/\n",
      "\n",
      "The target variable is the median house value for California districts.\n",
      "\n",
      "This dataset was derived from the 1990 U.S. census, using one row per census\n",
      "block group. A block group is the smallest geographical unit for which the U.S.\n",
      "Census Bureau publishes sample data (a block group typically has a population\n",
      "of 600 to 3,000 people).\n",
      "\n",
      "It can be downloaded/loaded using the\n",
      ":func:`sklearn.datasets.fetch_california_housing` function.\n",
      "\n",
      ".. topic:: References\n",
      "\n",
      "    - Pace, R. Kelley and Ronald Barry, Sparse Spatial Autoregressions,\n",
      "      Statistics and Probability Letters, 33 (1997) 291-297\n",
      "\n",
      "(20640, 8)\n",
      "(20640,)\n"
     ]
    }
   ],
   "source": [
    "from sklearn.datasets import fetch_california_housing\n",
    "\n",
    "housing = fetch_california_housing()\n",
    "print(housing.DESCR)\n",
    "print(housing.data.shape)\n",
    "print(housing.target.shape)"
   ]
  },
  {
   "cell_type": "code",
   "execution_count": 3,
   "metadata": {},
   "outputs": [
    {
     "name": "stdout",
     "output_type": "stream",
     "text": [
      "(11610, 8) (11610,)\n",
      "(3870, 8) (3870,)\n",
      "(5160, 8) (5160,)\n"
     ]
    }
   ],
   "source": [
    "from sklearn.model_selection import train_test_split\n",
    "\n",
    "# 默认划分比例为3:1\n",
    "X_train_all, X_test, y_train_all, y_test = train_test_split(housing.data, housing.target,\n",
    "                                                           random_state=7)\n",
    "X_train, X_valid, y_train, y_valid = train_test_split(X_train_all, y_train_all,\n",
    "                                                     random_state=11)\n",
    "print(X_train.shape, y_train.shape)\n",
    "print(X_valid.shape, y_valid.shape)\n",
    "print(X_test.shape, y_test.shape)"
   ]
  },
  {
   "cell_type": "code",
   "execution_count": 4,
   "metadata": {},
   "outputs": [],
   "source": [
    "from sklearn.preprocessing import StandardScaler\n",
    "\n",
    "scaler = StandardScaler()\n",
    "X_train_scaled = scaler.fit_transform(X_train)\n",
    "X_valid_scaled = scaler.transform(X_valid)\n",
    "X_test_scaled = scaler.transform(X_test)"
   ]
  },
  {
   "cell_type": "code",
   "execution_count": 5,
   "metadata": {},
   "outputs": [
    {
     "name": "stdout",
     "output_type": "stream",
     "text": [
      "Model: \"model\"\n",
      "__________________________________________________________________________________________________\n",
      "Layer (type)                    Output Shape         Param #     Connected to                     \n",
      "==================================================================================================\n",
      "input_2 (InputLayer)            [(None, 6)]          0                                            \n",
      "__________________________________________________________________________________________________\n",
      "dense (Dense)                   (None, 30)           210         input_2[0][0]                    \n",
      "__________________________________________________________________________________________________\n",
      "input_1 (InputLayer)            [(None, 5)]          0                                            \n",
      "__________________________________________________________________________________________________\n",
      "dense_1 (Dense)                 (None, 30)           930         dense[0][0]                      \n",
      "__________________________________________________________________________________________________\n",
      "concatenate (Concatenate)       (None, 35)           0           input_1[0][0]                    \n",
      "                                                                 dense_1[0][0]                    \n",
      "__________________________________________________________________________________________________\n",
      "dense_2 (Dense)                 (None, 1)            36          concatenate[0][0]                \n",
      "==================================================================================================\n",
      "Total params: 1,176\n",
      "Trainable params: 1,176\n",
      "Non-trainable params: 0\n",
      "__________________________________________________________________________________________________\n"
     ]
    }
   ],
   "source": [
    "# 多个输入，使用函数式API\n",
    "# 模拟wide侧和deep侧的输入\n",
    "input_wide = keras.layers.Input(shape=[5])\n",
    "input_deep = keras.layers.Input(shape=[6])\n",
    "\n",
    "hidden1 = keras.layers.Dense(30, activation='relu')(input_deep)\n",
    "hidden2 = keras.layers.Dense(30, activation='relu')(hidden1)\n",
    "\n",
    "concat = keras.layers.concatenate([input_wide, hidden2])\n",
    "output = keras.layers.Dense(1)(concat)\n",
    "\n",
    "# 模型固化\n",
    "model = keras.models.Model(inputs=[input_wide, input_deep],\n",
    "                          outputs=[output])\n",
    "model.compile(loss='mean_squared_error', optimizer='sgd')\n",
    "callbacks = [keras.callbacks.EarlyStopping(patience=5, min_delta=1e-2)]\n",
    "model.summary()"
   ]
  },
  {
   "cell_type": "code",
   "execution_count": 6,
   "metadata": {},
   "outputs": [
    {
     "name": "stdout",
     "output_type": "stream",
     "text": [
      "Train on 11610 samples, validate on 3870 samples\n",
      "Epoch 1/100\n",
      "11610/11610 [==============================] - 0s 41us/sample - loss: 2.3788 - val_loss: 1.1917\n",
      "Epoch 2/100\n",
      "11610/11610 [==============================] - 0s 29us/sample - loss: 0.9070 - val_loss: 0.8258\n",
      "Epoch 3/100\n",
      "11610/11610 [==============================] - 0s 29us/sample - loss: 0.7091 - val_loss: 0.7117\n",
      "Epoch 4/100\n",
      "11610/11610 [==============================] - 0s 26us/sample - loss: 0.6341 - val_loss: 0.6554\n",
      "Epoch 5/100\n",
      "11610/11610 [==============================] - 0s 25us/sample - loss: 0.5958 - val_loss: 0.6229\n",
      "Epoch 6/100\n",
      "11610/11610 [==============================] - 0s 25us/sample - loss: 0.5706 - val_loss: 0.6011\n",
      "Epoch 7/100\n",
      "11610/11610 [==============================] - 0s 25us/sample - loss: 0.5538 - val_loss: 0.5843\n",
      "Epoch 8/100\n",
      "11610/11610 [==============================] - 0s 25us/sample - loss: 0.5407 - val_loss: 0.5723\n",
      "Epoch 9/100\n",
      "11610/11610 [==============================] - 0s 25us/sample - loss: 0.5296 - val_loss: 0.5607\n",
      "Epoch 10/100\n",
      "11610/11610 [==============================] - 0s 25us/sample - loss: 0.5211 - val_loss: 0.5516\n",
      "Epoch 11/100\n",
      "11610/11610 [==============================] - 0s 25us/sample - loss: 0.5149 - val_loss: 0.5447\n",
      "Epoch 12/100\n",
      "11610/11610 [==============================] - 0s 26us/sample - loss: 0.5083 - val_loss: 0.5368\n",
      "Epoch 13/100\n",
      "11610/11610 [==============================] - 0s 26us/sample - loss: 0.5025 - val_loss: 0.5313\n",
      "Epoch 14/100\n",
      "11610/11610 [==============================] - 0s 25us/sample - loss: 0.4977 - val_loss: 0.5278\n",
      "Epoch 15/100\n",
      "11610/11610 [==============================] - 0s 25us/sample - loss: 0.4937 - val_loss: 0.5252\n",
      "Epoch 16/100\n",
      "11610/11610 [==============================] - 0s 25us/sample - loss: 0.4892 - val_loss: 0.5173\n",
      "Epoch 17/100\n",
      "11610/11610 [==============================] - 0s 25us/sample - loss: 0.4848 - val_loss: 0.5130\n",
      "Epoch 18/100\n",
      "11610/11610 [==============================] - 0s 25us/sample - loss: 0.4819 - val_loss: 0.5105\n",
      "Epoch 19/100\n",
      "11610/11610 [==============================] - 0s 25us/sample - loss: 0.4790 - val_loss: 0.5064\n",
      "Epoch 20/100\n",
      "11610/11610 [==============================] - 0s 25us/sample - loss: 0.4768 - val_loss: 0.5045\n",
      "Epoch 21/100\n",
      "11610/11610 [==============================] - 0s 25us/sample - loss: 0.4725 - val_loss: 0.4996\n",
      "Epoch 22/100\n",
      "11610/11610 [==============================] - 0s 25us/sample - loss: 0.4694 - val_loss: 0.4972\n",
      "Epoch 23/100\n",
      "11610/11610 [==============================] - 0s 25us/sample - loss: 0.4667 - val_loss: 0.4948\n",
      "Epoch 24/100\n",
      "11610/11610 [==============================] - 0s 26us/sample - loss: 0.4638 - val_loss: 0.4914\n",
      "Epoch 25/100\n",
      "11610/11610 [==============================] - 0s 25us/sample - loss: 0.4617 - val_loss: 0.4875\n",
      "Epoch 26/100\n",
      "11610/11610 [==============================] - 0s 25us/sample - loss: 0.4586 - val_loss: 0.4843\n",
      "Epoch 27/100\n",
      "11610/11610 [==============================] - 0s 26us/sample - loss: 0.4566 - val_loss: 0.4825\n",
      "Epoch 28/100\n",
      "11610/11610 [==============================] - 0s 26us/sample - loss: 0.4542 - val_loss: 0.4799\n",
      "Epoch 29/100\n",
      "11610/11610 [==============================] - 0s 27us/sample - loss: 0.4521 - val_loss: 0.4772\n",
      "Epoch 30/100\n",
      "11610/11610 [==============================] - 0s 26us/sample - loss: 0.4505 - val_loss: 0.4754\n",
      "Epoch 31/100\n",
      "11610/11610 [==============================] - 0s 34us/sample - loss: 0.4478 - val_loss: 0.4736\n",
      "Epoch 32/100\n",
      "11610/11610 [==============================] - 0s 25us/sample - loss: 0.4465 - val_loss: 0.4712\n",
      "Epoch 33/100\n",
      "11610/11610 [==============================] - 0s 26us/sample - loss: 0.4446 - val_loss: 0.4727\n",
      "Epoch 34/100\n",
      "11610/11610 [==============================] - 0s 31us/sample - loss: 0.4426 - val_loss: 0.4681\n",
      "Epoch 35/100\n",
      "11610/11610 [==============================] - 0s 26us/sample - loss: 0.4416 - val_loss: 0.4665\n",
      "Epoch 36/100\n",
      "11610/11610 [==============================] - 0s 26us/sample - loss: 0.4394 - val_loss: 0.4638\n"
     ]
    }
   ],
   "source": [
    "# wide为前五个特征，deep侧为后六个特征，中间会有所重合\n",
    "X_train_scaled_wide = X_train_scaled[:, :5]\n",
    "X_train_scaled_deep = X_train_scaled[:, 2:]\n",
    "X_valid_scaled_wide = X_valid_scaled[:, :5]\n",
    "X_valid_scaled_deep = X_valid_scaled[:, 2:]\n",
    "X_test_scaled_wide = X_test_scaled[:, :5]\n",
    "X_test_scaled_deep = X_test_scaled[:, 2:]\n",
    "\n",
    "log_his = model.fit([X_train_scaled_wide, X_train_scaled_deep], y_train,\n",
    "                   validation_data=([X_valid_scaled_wide, X_valid_scaled_deep], y_valid),\n",
    "                   epochs=100,\n",
    "                   callbacks=callbacks)"
   ]
  },
  {
   "cell_type": "code",
   "execution_count": 7,
   "metadata": {},
   "outputs": [
    {
     "data": {
      "image/png": "[encoded data removed]",
      "text/plain": [
       "<Figure size 576x360 with 1 Axes>"
      ]
     },
     "metadata": {
      "needs_background": "light"
     },
     "output_type": "display_data"
    }
   ],
   "source": [
    "def plot_learning_curves(history):\n",
    "    pd.DataFrame(history.history).plot(figsize=(8, 5))\n",
    "    plt.grid(True)\n",
    "    plt.gca().set_ylim(0, 1)\n",
    "    plt.show()\n",
    "\n",
    "plot_learning_curves(log_his)"
   ]
  },
  {
   "cell_type": "code",
   "execution_count": 8,
   "metadata": {},
   "outputs": [
    {
     "name": "stdout",
     "output_type": "stream",
     "text": [
      "5160/5160 [==============================] - 0s 12us/sample - loss: 0.4515\n"
     ]
    },
    {
     "data": {
      "text/plain": [
       "0.451535323516343"
      ]
     },
     "execution_count": 8,
     "metadata": {},
     "output_type": "execute_result"
    }
   ],
   "source": [
    "model.evaluate([X_test_scaled_wide, X_test_scaled_deep], y_test)"
   ]
  }
 ],
 "metadata": {
  "kernelspec": {
   "display_name": "Python 3",
   "language": "python",
   "name": "python3"
  },
  "language_info": {
   "codemirror_mode": {
    "name": "ipython",
    "version": 3
   },
   "file_extension": ".py",
   "mimetype": "text/x-python",
   "name": "python",
   "nbconvert_exporter": "python",
   "pygments_lexer": "ipython3",
   "version": "3.6.8"
  }
 },
 "nbformat": 4,
 "nbformat_minor": 2
}
