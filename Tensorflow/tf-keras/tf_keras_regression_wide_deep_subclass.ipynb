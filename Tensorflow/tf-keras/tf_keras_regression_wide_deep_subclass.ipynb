{
 "cells": [
  {
   "cell_type": "markdown",
   "metadata": {},
   "source": [
    "## keras构建回归模型(Wide & Deep subclass implementation)"
   ]
  },
  {
   "cell_type": "code",
   "execution_count": 1,
   "metadata": {},
   "outputs": [
    {
     "name": "stdout",
     "output_type": "stream",
     "text": [
      "2.0.0-alpha0\n",
      "sys.version_info(major=3, minor=6, micro=8, releaselevel='final', serial=0)\n",
      "matplotlib 3.1.0\n",
      "numpy 1.14.5\n",
      "pandas 0.24.2\n",
      "sklearn 0.21.2\n",
      "tensorflow 2.0.0-alpha0\n",
      "tensorflow.python.keras.api._v2.keras 2.2.4-tf\n"
     ]
    }
   ],
   "source": [
    "import matplotlib as mpl\n",
    "import matplotlib.pyplot as plt\n",
    "%matplotlib inline\n",
    "import numpy as np\n",
    "import sklearn\n",
    "import pandas as pd\n",
    "import os\n",
    "import sys\n",
    "import time\n",
    "import tensorflow as tf\n",
    "\n",
    "from tensorflow import keras\n",
    "\n",
    "print(tf.__version__)\n",
    "print(sys.version_info)\n",
    "for module in mpl, np, pd, sklearn, tf, keras:\n",
    "    print(module.__name__, module.__version__)"
   ]
  },
  {
   "cell_type": "code",
   "execution_count": 2,
   "metadata": {
    "scrolled": true
   },
   "outputs": [
    {
     "name": "stdout",
     "output_type": "stream",
     "text": [
      ".. _california_housing_dataset:\n",
      "\n",
      "California Housing dataset\n",
      "--------------------------\n",
      "\n",
      "**Data Set Characteristics:**\n",
      "\n",
      "    :Number of Instances: 20640\n",
      "\n",
      "    :Number of Attributes: 8 numeric, predictive attributes and the target\n",
      "\n",
      "    :Attribute Information:\n",
      "        - MedInc        median income in block\n",
      "        - HouseAge      median house age in block\n",
      "        - AveRooms      average number of rooms\n",
      "        - AveBedrms     average number of bedrooms\n",
      "        - Population    block population\n",
      "        - AveOccup      average house occupancy\n",
      "        - Latitude      house block latitude\n",
      "        - Longitude     house block longitude\n",
      "\n",
      "    :Missing Attribute Values: None\n",
      "\n",
      "This dataset was obtained from the StatLib repository.\n",
      "http://lib.stat.cmu.edu/datasets/\n",
      "\n",
      "The target variable is the median house value for California districts.\n",
      "\n",
      "This dataset was derived from the 1990 U.S. census, using one row per census\n",
      "block group. A block group is the smallest geographical unit for which the U.S.\n",
      "Census Bureau publishes sample data (a block group typically has a population\n",
      "of 600 to 3,000 people).\n",
      "\n",
      "It can be downloaded/loaded using the\n",
      ":func:`sklearn.datasets.fetch_california_housing` function.\n",
      "\n",
      ".. topic:: References\n",
      "\n",
      "    - Pace, R. Kelley and Ronald Barry, Sparse Spatial Autoregressions,\n",
      "      Statistics and Probability Letters, 33 (1997) 291-297\n",
      "\n",
      "(20640, 8)\n",
      "(20640,)\n"
     ]
    }
   ],
   "source": [
    "from sklearn.datasets import fetch_california_housing\n",
    "\n",
    "housing = fetch_california_housing()\n",
    "print(housing.DESCR)\n",
    "print(housing.data.shape)\n",
    "print(housing.target.shape)"
   ]
  },
  {
   "cell_type": "code",
   "execution_count": 4,
   "metadata": {},
   "outputs": [
    {
     "name": "stdout",
     "output_type": "stream",
     "text": [
      "(11610, 8) (11610,)\n",
      "(3870, 8) (3870,)\n",
      "(5160, 8) (5160,)\n"
     ]
    }
   ],
   "source": [
    "from sklearn.model_selection import train_test_split\n",
    "\n",
    "# 默认划分比例为3:1\n",
    "X_train_all, X_test, y_train_all, y_test = train_test_split(housing.data, housing.target,\n",
    "                                                           random_state=7)\n",
    "X_train, X_valid, y_train, y_valid = train_test_split(X_train_all, y_train_all,\n",
    "                                                     random_state=11)\n",
    "print(X_train.shape, y_train.shape)\n",
    "print(X_valid.shape, y_valid.shape)\n",
    "print(X_test.shape, y_test.shape)"
   ]
  },
  {
   "cell_type": "code",
   "execution_count": 5,
   "metadata": {},
   "outputs": [],
   "source": [
    "from sklearn.preprocessing import StandardScaler\n",
    "\n",
    "scaler = StandardScaler()\n",
    "X_train_scaled = scaler.fit_transform(X_train)\n",
    "X_valid_scaled = scaler.transform(X_valid)\n",
    "X_test_scaled = scaler.transform(X_test)"
   ]
  },
  {
   "cell_type": "markdown",
   "metadata": {},
   "source": [
    "### 使用子类API实现"
   ]
  },
  {
   "cell_type": "code",
   "execution_count": 7,
   "metadata": {},
   "outputs": [
    {
     "name": "stdout",
     "output_type": "stream",
     "text": [
      "Model: \"wide_deep_model_1\"\n",
      "_________________________________________________________________\n",
      "Layer (type)                 Output Shape              Param #   \n",
      "=================================================================\n",
      "dense_3 (Dense)              multiple                  270       \n",
      "_________________________________________________________________\n",
      "dense_4 (Dense)              multiple                  930       \n",
      "_________________________________________________________________\n",
      "dense_5 (Dense)              multiple                  39        \n",
      "=================================================================\n",
      "Total params: 1,239\n",
      "Trainable params: 1,239\n",
      "Non-trainable params: 0\n",
      "_________________________________________________________________\n"
     ]
    }
   ],
   "source": [
    "# 继承keras.models.Model\n",
    "class WideDeepModel(keras.models.Model):\n",
    "    def __init__(self):\n",
    "        # 先调用父类构造函数\n",
    "        super(WideDeepModel, self).__init__()\n",
    "        \"\"\"定义模型的层次,然后可以以函数调用的方式来调用这些层次\"\"\"\n",
    "        self._hidden1_layer = keras.layers.Dense(30, activation='relu')\n",
    "        self._hidden2_layer = keras.layers.Dense(30, activation='relu')\n",
    "        self._output_layer = keras.layers.Dense(1)\n",
    "        \n",
    "    def call(self, input):\n",
    "        \"\"\"完成模型的正向传播\"\"\"\n",
    "        hidden1 = self._hidden1_layer(input)\n",
    "        hidden2 = self._hidden2_layer(hidden1)\n",
    "        concat = keras.layers.concatenate([input, hidden2])\n",
    "        output = self._output_layer(concat)\n",
    "        return output\n",
    "    \n",
    "# 定义模型对象\n",
    "model = WideDeepModel()\n",
    "# build用来指定模型输入的shape,相当于定义模型的输入层 model.add(keras.layers.Input(input_shape=[None, 8]))\n",
    "model.build(input_shape=(None, 8))\n",
    "\n",
    "model.summary()\n",
    "model.compile(loss='mean_squared_error', optimizer='sgd')\n",
    "callbacks = [keras.callbacks.EarlyStopping(patience=5, min_delta=1e-2)]"
   ]
  },
  {
   "cell_type": "code",
   "execution_count": 8,
   "metadata": {},
   "outputs": [
    {
     "name": "stdout",
     "output_type": "stream",
     "text": [
      "Train on 11610 samples, validate on 3870 samples\n",
      "Epoch 1/100\n",
      "11610/11610 [==============================] - 0s 39us/sample - loss: 1.9281 - val_loss: 0.7929\n",
      "Epoch 2/100\n",
      "11610/11610 [==============================] - 0s 25us/sample - loss: 0.6802 - val_loss: 0.7039\n",
      "Epoch 3/100\n",
      "11610/11610 [==============================] - 0s 24us/sample - loss: 0.6324 - val_loss: 0.6647\n",
      "Epoch 4/100\n",
      "11610/11610 [==============================] - 0s 24us/sample - loss: 0.6033 - val_loss: 0.6364\n",
      "Epoch 5/100\n",
      "11610/11610 [==============================] - 0s 24us/sample - loss: 0.5800 - val_loss: 0.6132\n",
      "Epoch 6/100\n",
      "11610/11610 [==============================] - 0s 24us/sample - loss: 0.5607 - val_loss: 0.5932\n",
      "Epoch 7/100\n",
      "11610/11610 [==============================] - 0s 24us/sample - loss: 0.5453 - val_loss: 0.5784\n",
      "Epoch 8/100\n",
      "11610/11610 [==============================] - 0s 24us/sample - loss: 0.5328 - val_loss: 0.5637\n",
      "Epoch 9/100\n",
      "11610/11610 [==============================] - 0s 24us/sample - loss: 0.5211 - val_loss: 0.5509\n",
      "Epoch 10/100\n",
      "11610/11610 [==============================] - 0s 25us/sample - loss: 0.5116 - val_loss: 0.5414\n",
      "Epoch 11/100\n",
      "11610/11610 [==============================] - 0s 24us/sample - loss: 0.5036 - val_loss: 0.5321\n",
      "Epoch 12/100\n",
      "11610/11610 [==============================] - 0s 24us/sample - loss: 0.4963 - val_loss: 0.5250\n",
      "Epoch 13/100\n",
      "11610/11610 [==============================] - 0s 24us/sample - loss: 0.4905 - val_loss: 0.5182\n",
      "Epoch 14/100\n",
      "11610/11610 [==============================] - 0s 24us/sample - loss: 0.4849 - val_loss: 0.5110\n",
      "Epoch 15/100\n",
      "11610/11610 [==============================] - 0s 26us/sample - loss: 0.4795 - val_loss: 0.5074\n",
      "Epoch 16/100\n",
      "11610/11610 [==============================] - 0s 27us/sample - loss: 0.4745 - val_loss: 0.4991\n",
      "Epoch 17/100\n",
      "11610/11610 [==============================] - 0s 25us/sample - loss: 0.4708 - val_loss: 0.4956\n",
      "Epoch 18/100\n",
      "11610/11610 [==============================] - 0s 24us/sample - loss: 0.4668 - val_loss: 0.4904\n",
      "Epoch 19/100\n",
      "11610/11610 [==============================] - 0s 24us/sample - loss: 0.4629 - val_loss: 0.4861\n",
      "Epoch 20/100\n",
      "11610/11610 [==============================] - 0s 24us/sample - loss: 0.4586 - val_loss: 0.4820\n",
      "Epoch 21/100\n",
      "11610/11610 [==============================] - 0s 24us/sample - loss: 0.4562 - val_loss: 0.4782\n",
      "Epoch 22/100\n",
      "11610/11610 [==============================] - 0s 25us/sample - loss: 0.4523 - val_loss: 0.4740\n",
      "Epoch 23/100\n",
      "11610/11610 [==============================] - 0s 25us/sample - loss: 0.4494 - val_loss: 0.4709\n",
      "Epoch 24/100\n",
      "11610/11610 [==============================] - 0s 28us/sample - loss: 0.4461 - val_loss: 0.4679\n",
      "Epoch 25/100\n",
      "11610/11610 [==============================] - 0s 24us/sample - loss: 0.4435 - val_loss: 0.4643\n",
      "Epoch 26/100\n",
      "11610/11610 [==============================] - 0s 26us/sample - loss: 0.4397 - val_loss: 0.4604\n",
      "Epoch 27/100\n",
      "11610/11610 [==============================] - 0s 25us/sample - loss: 0.4377 - val_loss: 0.4583\n",
      "Epoch 28/100\n",
      "11610/11610 [==============================] - 0s 24us/sample - loss: 0.4344 - val_loss: 0.4553\n",
      "Epoch 29/100\n",
      "11610/11610 [==============================] - 0s 26us/sample - loss: 0.4320 - val_loss: 0.4520\n",
      "Epoch 30/100\n",
      "11610/11610 [==============================] - 0s 24us/sample - loss: 0.4301 - val_loss: 0.4485\n",
      "Epoch 31/100\n",
      "11610/11610 [==============================] - 0s 25us/sample - loss: 0.4273 - val_loss: 0.4456\n",
      "Epoch 32/100\n",
      "11610/11610 [==============================] - 0s 24us/sample - loss: 0.4246 - val_loss: 0.4436\n",
      "Epoch 33/100\n",
      "11610/11610 [==============================] - 0s 25us/sample - loss: 0.4223 - val_loss: 0.4411\n",
      "Epoch 34/100\n",
      "11610/11610 [==============================] - 0s 25us/sample - loss: 0.4208 - val_loss: 0.4394\n",
      "Epoch 35/100\n",
      "11610/11610 [==============================] - 0s 24us/sample - loss: 0.4181 - val_loss: 0.4369\n",
      "Epoch 36/100\n",
      "11610/11610 [==============================] - 0s 25us/sample - loss: 0.4162 - val_loss: 0.4349\n",
      "Epoch 37/100\n",
      "11610/11610 [==============================] - 0s 24us/sample - loss: 0.4140 - val_loss: 0.4334\n",
      "Epoch 38/100\n",
      "11610/11610 [==============================] - 0s 25us/sample - loss: 0.4130 - val_loss: 0.4309\n",
      "Epoch 39/100\n",
      "11610/11610 [==============================] - 0s 24us/sample - loss: 0.4111 - val_loss: 0.4288\n",
      "Epoch 40/100\n",
      "11610/11610 [==============================] - 0s 24us/sample - loss: 0.4092 - val_loss: 0.4279\n"
     ]
    }
   ],
   "source": [
    "log_his = model.fit(X_train_scaled, y_train,\n",
    "                   validation_data=(X_valid_scaled, y_valid),\n",
    "                   epochs=100,\n",
    "                   callbacks=callbacks)"
   ]
  },
  {
   "cell_type": "code",
   "execution_count": 9,
   "metadata": {},
   "outputs": [
    {
     "data": {
      "image/png": "[encoded data removed]",
      "text/plain": [
       "<Figure size 576x360 with 1 Axes>"
      ]
     },
     "metadata": {
      "needs_background": "light"
     },
     "output_type": "display_data"
    }
   ],
   "source": [
    "def plot_learning_curves(history):\n",
    "    pd.DataFrame(history.history).plot(figsize=(8, 5))\n",
    "    plt.grid(True)\n",
    "    plt.gca().set_ylim(0, 1)\n",
    "    plt.show()\n",
    "\n",
    "plot_learning_curves(log_his)"
   ]
  },
  {
   "cell_type": "code",
   "execution_count": 10,
   "metadata": {},
   "outputs": [
    {
     "name": "stdout",
     "output_type": "stream",
     "text": [
      "5160/5160 [==============================] - 0s 12us/sample - loss: 0.4228\n"
     ]
    },
    {
     "data": {
      "text/plain": [
       "0.4227642719135728"
      ]
     },
     "execution_count": 10,
     "metadata": {},
     "output_type": "execute_result"
    }
   ],
   "source": [
    "model.evaluate(X_test_scaled, y_test)"
   ]
  }
 ],
 "metadata": {
  "kernelspec": {
   "display_name": "Python 3",
   "language": "python",
   "name": "python3"
  },
  "language_info": {
   "codemirror_mode": {
    "name": "ipython",
    "version": 3
   },
   "file_extension": ".py",
   "mimetype": "text/x-python",
   "name": "python",
   "nbconvert_exporter": "python",
   "pygments_lexer": "ipython3",
   "version": "3.6.8"
  }
 },
 "nbformat": 4,
 "nbformat_minor": 2
}
