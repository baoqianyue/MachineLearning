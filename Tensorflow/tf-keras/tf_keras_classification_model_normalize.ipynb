{
 "cells": [
  {
   "cell_type": "markdown",
   "metadata": {},
   "source": [
    "## keras构建分类模型(对数据进行归一化)"
   ]
  },
  {
   "cell_type": "code",
   "execution_count": 1,
   "metadata": {},
   "outputs": [
    {
     "name": "stdout",
     "output_type": "stream",
     "text": [
      "2.0.0-alpha0\n",
      "sys.version_info(major=3, minor=6, micro=8, releaselevel='final', serial=0)\n",
      "matplotlib 3.1.0\n",
      "numpy 1.14.5\n",
      "pandas 0.24.2\n",
      "sklearn 0.21.2\n",
      "tensorflow 2.0.0-alpha0\n",
      "tensorflow.python.keras.api._v2.keras 2.2.4-tf\n"
     ]
    }
   ],
   "source": [
    "import matplotlib as mpl\n",
    "import matplotlib.pyplot as plt\n",
    "%matplotlib inline\n",
    "import numpy as np\n",
    "import sklearn\n",
    "import pandas as pd\n",
    "import os\n",
    "import sys\n",
    "import time\n",
    "import tensorflow as tf\n",
    "\n",
    "from tensorflow import keras\n",
    "\n",
    "print(tf.__version__)\n",
    "print(sys.version_info)\n",
    "for module in mpl, np, pd, sklearn, tf, keras:\n",
    "    print(module.__name__, module.__version__)"
   ]
  },
  {
   "cell_type": "code",
   "execution_count": 3,
   "metadata": {},
   "outputs": [
    {
     "name": "stdout",
     "output_type": "stream",
     "text": [
      "(5000, 28, 28) (5000,)\n",
      "(55000, 28, 28) (55000,)\n",
      "(10000, 28, 28) (10000,)\n"
     ]
    }
   ],
   "source": [
    "fashion_mnist = keras.datasets.fashion_mnist\n",
    "(X_train_all, y_train_all), (X_test, y_test) = fashion_mnist.load_data()\n",
    "X_valid, X_train = X_train_all[:5000], X_train_all[5000:]\n",
    "y_valid, y_train = y_train_all[:5000], y_train_all[5000:]\n",
    "\n",
    "print(X_valid.shape, y_valid.shape)\n",
    "print(X_train.shape, y_train.shape)\n",
    "print(X_test.shape, y_test.shape)"
   ]
  },
  {
   "cell_type": "code",
   "execution_count": 4,
   "metadata": {},
   "outputs": [
    {
     "name": "stdout",
     "output_type": "stream",
     "text": [
      "255 0\n"
     ]
    }
   ],
   "source": [
    "print(np.max(X_train), np.min(X_train))"
   ]
  },
  {
   "cell_type": "code",
   "execution_count": 7,
   "metadata": {},
   "outputs": [
    {
     "name": "stdout",
     "output_type": "stream",
     "text": [
      "2.0231433 -0.8105136\n"
     ]
    }
   ],
   "source": [
    "# 数据归一化,标准归一化 x = (x - u) / std\n",
    "from sklearn.preprocessing import StandardScaler\n",
    "\n",
    "scaler = StandardScaler()\n",
    "# 对于训练集使用fit_transform，该函数会在归一化结束后保存训练集中的均值方差，并使用这两个参数进行验证集和测试集的归一化\n",
    "# 归一化之前将数据转为浮点型，防止精度损失\n",
    "# 还有该函数接收的数据类型为二维数组，所以这里先reshape\n",
    "X_train_scaled = scaler.fit_transform(X_train.astype(np.float32).reshape(-1, 1)).reshape(-1, 28, 28)\n",
    "X_valid_scaled = scaler.transform(X_valid.astype(np.float32).reshape(-1, 1)).reshape(-1, 28, 28)\n",
    "X_test = scaler.transform(X_test.astype(np.float32).reshape(-1, 1)).reshape(-1, 28, 28)\n",
    "print(np.max(X_train_scaled), np.min(X_train_scaled))"
   ]
  },
  {
   "cell_type": "code",
   "execution_count": 9,
   "metadata": {},
   "outputs": [],
   "source": [
    "# 构建模型\n",
    "model = keras.models.Sequential([\n",
    "    keras.layers.Flatten(input_shape=[28, 28]),\n",
    "    keras.layers.Dense(300, activation='relu'),\n",
    "    keras.layers.Dense(200, activation='relu'),\n",
    "    keras.layers.Dense(10, activation='softmax')\n",
    "])\n",
    "\n",
    "model.compile(loss='sparse_categorical_crossentropy',\n",
    "             optimizer='sgd',\n",
    "             metrics=['accuracy'])"
   ]
  },
  {
   "cell_type": "code",
   "execution_count": 10,
   "metadata": {},
   "outputs": [
    {
     "name": "stdout",
     "output_type": "stream",
     "text": [
      "Train on 55000 samples, validate on 5000 samples\n",
      "Epoch 1/10\n",
      "55000/55000 [==============================] - 4s 74us/sample - loss: 0.9150 - accuracy: 0.7013 - val_loss: 0.6198 - val_accuracy: 0.7924\n",
      "Epoch 2/10\n",
      "55000/55000 [==============================] - 4s 67us/sample - loss: 0.5841 - accuracy: 0.7971 - val_loss: 0.5205 - val_accuracy: 0.8230\n",
      "Epoch 3/10\n",
      "55000/55000 [==============================] - 4s 72us/sample - loss: 0.5147 - accuracy: 0.8194 - val_loss: 0.4758 - val_accuracy: 0.8362\n",
      "Epoch 4/10\n",
      "55000/55000 [==============================] - 4s 71us/sample - loss: 0.4775 - accuracy: 0.8342 - val_loss: 0.4490 - val_accuracy: 0.8464\n",
      "Epoch 5/10\n",
      "55000/55000 [==============================] - 4s 71us/sample - loss: 0.4524 - accuracy: 0.8429 - val_loss: 0.4302 - val_accuracy: 0.8534\n",
      "Epoch 6/10\n",
      "55000/55000 [==============================] - 4s 71us/sample - loss: 0.4345 - accuracy: 0.8491 - val_loss: 0.4199 - val_accuracy: 0.8572\n",
      "Epoch 7/10\n",
      "55000/55000 [==============================] - 4s 71us/sample - loss: 0.4204 - accuracy: 0.8523 - val_loss: 0.4089 - val_accuracy: 0.8572\n",
      "Epoch 8/10\n",
      "55000/55000 [==============================] - 4s 72us/sample - loss: 0.4088 - accuracy: 0.8563 - val_loss: 0.3993 - val_accuracy: 0.8600\n",
      "Epoch 9/10\n",
      "55000/55000 [==============================] - 4s 70us/sample - loss: 0.3994 - accuracy: 0.8588 - val_loss: 0.3938 - val_accuracy: 0.8620\n",
      "Epoch 10/10\n",
      "55000/55000 [==============================] - 4s 70us/sample - loss: 0.3910 - accuracy: 0.8627 - val_loss: 0.3886 - val_accuracy: 0.8634\n"
     ]
    }
   ],
   "source": [
    "log_his = model.fit(X_train_scaled, y_train, epochs=10, validation_data=(X_valid_scaled, y_valid))"
   ]
  },
  {
   "cell_type": "code",
   "execution_count": 11,
   "metadata": {},
   "outputs": [
    {
     "data": {
      "image/png": "[encoded data removed]",
      "text/plain": [
       "<Figure size 576x360 with 1 Axes>"
      ]
     },
     "metadata": {
      "needs_background": "light"
     },
     "output_type": "display_data"
    }
   ],
   "source": [
    "def plot_learning_curves(history):\n",
    "    pd.DataFrame(history.history).plot(figsize=(8, 5))\n",
    "    plt.grid(True)\n",
    "    plt.gca().set_ylim(0, 1)\n",
    "    plt.show()\n",
    "    \n",
    "plot_learning_curves(log_his)"
   ]
  },
  {
   "cell_type": "code",
   "execution_count": 12,
   "metadata": {},
   "outputs": [
    {
     "name": "stdout",
     "output_type": "stream",
     "text": [
      "10000/10000 [==============================] - 0s 32us/sample - loss: 0.4294 - accuracy: 0.8459\n"
     ]
    },
    {
     "data": {
      "text/plain": [
       "[0.42939227635860444, 0.8459]"
      ]
     },
     "execution_count": 12,
     "metadata": {},
     "output_type": "execute_result"
    }
   ],
   "source": [
    "model.evaluate(X_test, y_test)"
   ]
  }
 ],
 "metadata": {
  "kernelspec": {
   "display_name": "Python 3",
   "language": "python",
   "name": "python3"
  },
  "language_info": {
   "codemirror_mode": {
    "name": "ipython",
    "version": 3
   },
   "file_extension": ".py",
   "mimetype": "text/x-python",
   "name": "python",
   "nbconvert_exporter": "python",
   "pygments_lexer": "ipython3",
   "version": "3.6.8"
  }
 },
 "nbformat": 4,
 "nbformat_minor": 2
}
