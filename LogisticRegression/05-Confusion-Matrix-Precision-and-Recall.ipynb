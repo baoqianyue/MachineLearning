{
 "cells": [
  {
   "cell_type": "markdown",
   "metadata": {},
   "source": [
    "## 分类问题的评价指标    "
   ]
  },
  {
   "cell_type": "markdown",
   "metadata": {},
   "source": [
    "### 分类准确率的风险"
   ]
  },
  {
   "cell_type": "markdown",
   "metadata": {},
   "source": [
    "假设现有一个癌症检测系统，输入体检信息，然后模块可以预测该用户是否患有癌症    \n",
    "\n",
    "* 假设当前模型的分类（预测）准确度为99.9%  \n",
    "* 如果癌症产生的概率只有0.01%     \n",
    "* 因为癌症发生的概率很小，所以我们可以让系统对每一个输入都判定为无癌症，这样导致这样的一个模型的分类准确度为99.99%    \n",
    "* 上面我们训练的一个机器学习模型的分类准确度为99.9%，该模型还没有我们直接将所有人都分类成无癌症的准确度高，这说明我们单单使用准确度来衡量一个分类算法是有问题的。    "
   ]
  },
  {
   "cell_type": "markdown",
   "metadata": {},
   "source": [
    "**对于极度偏斜（Skewed Data）的数据，只使用分类准确度是远远不够的**   "
   ]
  },
  {
   "cell_type": "markdown",
   "metadata": {},
   "source": [
    "###  引入混淆矩阵Confusion Matrix     \n",
    "\n",
    "![confusion matrix](./img/confusionmatrix.png)"
   ]
  },
  {
   "cell_type": "markdown",
   "metadata": {},
   "source": [
    "### 精准率（Precision）和召回率（Recall）      \n",
    "\n",
    "* 精准率Precision    \n",
    "\n",
    "    ![precision](./img/precision.png)       \n",
    "    \n",
    "    **精准率评估的是我们对一定数量的样本进行预测，然后预测成功的比例**       \n",
    "    上图得到的结果是40%，表明如果我们对100个样本进行预测，预测正确的比例是40%   "
   ]
  },
  {
   "cell_type": "markdown",
   "metadata": {},
   "source": [
    "* 召回率Recall     \n",
    "\n",
    "    ![recall](./img/recall.png)    \n",
    "    **召回率评估的是我们的模型可以从真实发生的一定事件中找出多少正确样本的比例**   x    \n",
    "    上图计算得到的结果可以这样解释，在10000个样本中，一共有10个样本患有癌症，我们的模型可以正确分类出8个样本    \n",
    "    也可以是如果有100个患病样本，我们的模型可以从中正确分类出80个        \n",
    "    \n",
    "* 二者的对比   \n",
    "\n",
    "![contrast](./img/precisionandrecall.png)   "
   ]
  },
  {
   "cell_type": "markdown",
   "metadata": {},
   "source": [
    "### demo    \n",
    "上面说到对于极度偏斜（skewed）的数据，不能只用准确度来评价，下面给一个实例，分别用acc和precision，recall计算一下    \n",
    "\n",
    "![demo](./img/demo.png)      \n",
    "\n",
    "可以看到我们的模型在精准率和召回率的评估下效果非常差，几乎没有效果    "
   ]
  },
  {
   "cell_type": "markdown",
   "metadata": {},
   "source": [
    "## 实现混淆矩阵，精准率和召回率    "
   ]
  },
  {
   "cell_type": "code",
   "execution_count": null,
   "metadata": {},
   "outputs": [],
   "source": []
  }
 ],
 "metadata": {
  "kernelspec": {
   "display_name": "Python [default]",
   "language": "python",
   "name": "python3"
  },
  "language_info": {
   "codemirror_mode": {
    "name": "ipython",
    "version": 3
   },
   "file_extension": ".py",
   "mimetype": "text/x-python",
   "name": "python",
   "nbconvert_exporter": "python",
   "pygments_lexer": "ipython3",
   "version": "3.6.2"
  }
 },
 "nbformat": 4,
 "nbformat_minor": 2
}
