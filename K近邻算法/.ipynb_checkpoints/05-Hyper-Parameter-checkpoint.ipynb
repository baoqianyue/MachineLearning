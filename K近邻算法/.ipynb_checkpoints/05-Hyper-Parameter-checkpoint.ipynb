{
 "cells": [
  {
   "cell_type": "markdown",
   "metadata": {},
   "source": [
    "# 超参数"
   ]
  },
  {
   "cell_type": "markdown",
   "metadata": {},
   "source": [
    "* 超参数\n",
    "    在算法运行之前就需要决定的参数\n",
    "    比如knn算法中的k值\n",
    "* 模型参数\n",
    "    在算法过程中学习的参数\n",
    "    knn算法中没有模型参数"
   ]
  },
  {
   "cell_type": "code",
   "execution_count": 12,
   "metadata": {},
   "outputs": [],
   "source": [
    "from sklearn import datasets\n",
    "import numpy as np"
   ]
  },
  {
   "cell_type": "code",
   "execution_count": 2,
   "metadata": {},
   "outputs": [],
   "source": [
    "digits = datasets.load_digits()\n",
    "X = digits.data\n",
    "y = digits.target"
   ]
  },
  {
   "cell_type": "code",
   "execution_count": 8,
   "metadata": {},
   "outputs": [],
   "source": [
    "from sklearn.model_selection import train_test_split\n",
    "X_train,X_test,y_train,y_test = train_test_split(X,y,test_size = 0.2, random_state = 666)"
   ]
  },
  {
   "cell_type": "code",
   "execution_count": 9,
   "metadata": {},
   "outputs": [],
   "source": [
    "from sklearn.neighbors import KNeighborsClassifier\n",
    "knn_classifier = KNeighborsClassifier(n_neighbors = 3)"
   ]
  },
  {
   "cell_type": "code",
   "execution_count": 10,
   "metadata": {},
   "outputs": [
    {
     "data": {
      "text/plain": [
       "KNeighborsClassifier(algorithm='auto', leaf_size=30, metric='minkowski',\n",
       "           metric_params=None, n_jobs=1, n_neighbors=3, p=2,\n",
       "           weights='uniform')"
      ]
     },
     "execution_count": 10,
     "metadata": {},
     "output_type": "execute_result"
    }
   ],
   "source": [
    "knn_classifier.fit(X_train,y_train)"
   ]
  },
  {
   "cell_type": "code",
   "execution_count": 13,
   "metadata": {},
   "outputs": [
    {
     "data": {
      "text/plain": [
       "0.9888888888888889"
      ]
     },
     "execution_count": 13,
     "metadata": {},
     "output_type": "execute_result"
    }
   ],
   "source": [
    "knn_classifier.score(X_test,y_test)"
   ]
  },
  {
   "cell_type": "markdown",
   "metadata": {},
   "source": [
    "## 寻找最好的k(调参)"
   ]
  },
  {
   "cell_type": "code",
   "execution_count": 14,
   "metadata": {},
   "outputs": [
    {
     "name": "stdout",
     "output_type": "stream",
     "text": [
      "best_k =  4\n",
      "best_score =  0.9916666666666667\n"
     ]
    }
   ],
   "source": [
    "#给定一个k的范围，然后循环比较出最优参数\n",
    "best_score = 0.0\n",
    "best_k = -1\n",
    "#给定k的值为1到10\n",
    "for k in range(1,11):\n",
    "    knn_classifier = KNeighborsClassifier(n_neighbors = k)\n",
    "    knn_classifier.fit(X_train,y_train)\n",
    "    score = knn_classifier.score(X_test,y_test)\n",
    "    if score > best_score:\n",
    "        best_k = k\n",
    "        best_score = score\n",
    "print(\"best_k = \",best_k)\n",
    "print(\"best_score = \",best_score)"
   ]
  },
  {
   "cell_type": "markdown",
   "metadata": {},
   "source": [
    "## 判断是否加入权重"
   ]
  },
  {
   "cell_type": "code",
   "execution_count": 16,
   "metadata": {},
   "outputs": [
    {
     "name": "stdout",
     "output_type": "stream",
     "text": [
      "best_method =  uniform\n",
      "best_k =  4\n",
      "best_score =  0.9916666666666667\n"
     ]
    }
   ],
   "source": [
    "best_method = \"\"\n",
    "best_score = 0.0\n",
    "best_k = -1\n",
    "#knn中的weights参数是指定是否考虑距离权重\n",
    "for method in [\"uniform\",\"distance\"]:\n",
    "    for k in range(1,11):\n",
    "        knn_clf = KNeighborsClassifier(n_neighbors = k,weights = method)\n",
    "        knn_clf.fit(X_train,y_train)\n",
    "        score = knn_clf.score(X_test,y_test)\n",
    "        if score > best_score:\n",
    "            best_k = k\n",
    "            best_score = score\n",
    "            best_method = method\n",
    "            \n",
    "print(\"best_method = \",best_method)\n",
    "print(\"best_k = \",best_k)\n",
    "print(\"best_score = \",best_score)"
   ]
  },
  {
   "cell_type": "markdown",
   "metadata": {},
   "source": [
    "### ps"
   ]
  },
  {
   "cell_type": "markdown",
   "metadata": {},
   "source": [
    "距离\n",
    "* 曼哈顿距离\n",
    "    就是指两个点在每个维度上的距离的绝对值的和"
   ]
  },
  {
   "cell_type": "markdown",
   "metadata": {},
   "source": [
    "![image.png](./image/Manhattan.png)"
   ]
  },
  {
   "cell_type": "markdown",
   "metadata": {},
   "source": [
    "上图中红蓝黄线都是这两个点的曼哈顿距离       \n",
    "中间的绿线是欧拉距离      \n",
    "在这个图中的两个点，他们的曼哈顿距离就是指他们在X轴上的距离加上在Y轴上的距离"
   ]
  },
  {
   "cell_type": "markdown",
   "metadata": {},
   "source": [
    "其实欧拉距离和曼哈顿距离在形式上是有一定的一致性的"
   ]
  },
  {
   "cell_type": "markdown",
   "metadata": {},
   "source": [
    "![image.png](./image/minkefu.png)"
   ]
  },
  {
   "cell_type": "markdown",
   "metadata": {},
   "source": [
    "**这就是明可夫斯基距离(Minkowski metric)**      \n",
    "也是一个新的超参数p  "
   ]
  },
  {
   "cell_type": "markdown",
   "metadata": {},
   "source": [
    "### 探索明可夫斯基距离相应的最优值p"
   ]
  },
  {
   "cell_type": "code",
   "execution_count": 21,
   "metadata": {},
   "outputs": [
    {
     "name": "stdout",
     "output_type": "stream",
     "text": [
      "best_p =  1\n",
      "best_k =  3\n",
      "best_score =  0.9888888888888889\n",
      "Wall time: 3.54 s\n"
     ]
    }
   ],
   "source": [
    "%%time\n",
    "best_p = -1\n",
    "best_k = -1\n",
    "best_score = 0.0\n",
    "for k in range(1,11):\n",
    "    for p in range(1,6):\n",
    "        knn_clf = KNeighborsClassifier(n_neighbors = k,weights=\"distance\")\n",
    "        knn_clf.fit(X_train,y_train)\n",
    "        score = knn_clf.score(X_test,y_test)\n",
    "        if score > best_score:\n",
    "            best_k = k\n",
    "            best_score = score\n",
    "            best_p = p\n",
    "            \n",
    "print(\"best_p = \",best_p)\n",
    "print(\"best_k = \",best_k)\n",
    "print(\"best_score = \",best_score)\n",
    "        "
   ]
  }
 ],
 "metadata": {
  "kernelspec": {
   "display_name": "Python 3",
   "language": "python",
   "name": "python3"
  },
  "language_info": {
   "codemirror_mode": {
    "name": "ipython",
    "version": 3
   },
   "file_extension": ".py",
   "mimetype": "text/x-python",
   "name": "python",
   "nbconvert_exporter": "python",
   "pygments_lexer": "ipython3",
   "version": "3.6.4"
  }
 },
 "nbformat": 4,
 "nbformat_minor": 2
}
