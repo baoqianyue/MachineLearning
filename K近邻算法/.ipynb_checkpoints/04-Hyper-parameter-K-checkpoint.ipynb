{
 "cells": [
  {
   "cell_type": "code",
   "execution_count": 1,
   "metadata": {},
   "outputs": [],
   "source": [
    "import numpy as np\n",
    "import matplotlib\n",
    "import matplotlib.pyplot as plt\n",
    "from sklearn import datasets\n"
   ]
  },
  {
   "cell_type": "code",
   "execution_count": 2,
   "metadata": {},
   "outputs": [],
   "source": [
    "digits = datasets.load_digits()"
   ]
  },
  {
   "cell_type": "code",
   "execution_count": 3,
   "metadata": {},
   "outputs": [
    {
     "data": {
      "text/plain": [
       "dict_keys(['data', 'target', 'target_names', 'images', 'DESCR'])"
      ]
     },
     "execution_count": 3,
     "metadata": {},
     "output_type": "execute_result"
    }
   ],
   "source": [
    "#digits可以看成是一个字典\n",
    "digits.keys()"
   ]
  },
  {
   "cell_type": "code",
   "execution_count": 4,
   "metadata": {},
   "outputs": [
    {
     "name": "stdout",
     "output_type": "stream",
     "text": [
      "Optical Recognition of Handwritten Digits Data Set\n",
      "===================================================\n",
      "\n",
      "Notes\n",
      "-----\n",
      "Data Set Characteristics:\n",
      "    :Number of Instances: 5620\n",
      "    :Number of Attributes: 64\n",
      "    :Attribute Information: 8x8 image of integer pixels in the range 0..16.\n",
      "    :Missing Attribute Values: None\n",
      "    :Creator: E. Alpaydin (alpaydin '@' boun.edu.tr)\n",
      "    :Date: July; 1998\n",
      "\n",
      "This is a copy of the test set of the UCI ML hand-written digits datasets\n",
      "http://archive.ics.uci.edu/ml/datasets/Optical+Recognition+of+Handwritten+Digits\n",
      "\n",
      "The data set contains images of hand-written digits: 10 classes where\n",
      "each class refers to a digit.\n",
      "\n",
      "Preprocessing programs made available by NIST were used to extract\n",
      "normalized bitmaps of handwritten digits from a preprinted form. From a\n",
      "total of 43 people, 30 contributed to the training set and different 13\n",
      "to the test set. 32x32 bitmaps are divided into nonoverlapping blocks of\n",
      "4x4 and the number of on pixels are counted in each block. This generates\n",
      "an input matrix of 8x8 where each element is an integer in the range\n",
      "0..16. This reduces dimensionality and gives invariance to small\n",
      "distortions.\n",
      "\n",
      "For info on NIST preprocessing routines, see M. D. Garris, J. L. Blue, G.\n",
      "T. Candela, D. L. Dimmick, J. Geist, P. J. Grother, S. A. Janet, and C.\n",
      "L. Wilson, NIST Form-Based Handprint Recognition System, NISTIR 5469,\n",
      "1994.\n",
      "\n",
      "References\n",
      "----------\n",
      "  - C. Kaynak (1995) Methods of Combining Multiple Classifiers and Their\n",
      "    Applications to Handwritten Digit Recognition, MSc Thesis, Institute of\n",
      "    Graduate Studies in Science and Engineering, Bogazici University.\n",
      "  - E. Alpaydin, C. Kaynak (1998) Cascading Classifiers, Kybernetika.\n",
      "  - Ken Tang and Ponnuthurai N. Suganthan and Xi Yao and A. Kai Qin.\n",
      "    Linear dimensionalityreduction using relevance weighted LDA. School of\n",
      "    Electrical and Electronic Engineering Nanyang Technological University.\n",
      "    2005.\n",
      "  - Claudio Gentile. A New Approximate Maximal Margin Classification\n",
      "    Algorithm. NIPS. 2000.\n",
      "\n"
     ]
    }
   ],
   "source": [
    "#查看这个数据集的大致描述\n",
    "print(digits.DESCR)"
   ]
  },
  {
   "cell_type": "markdown",
   "metadata": {},
   "source": [
    "数据集的特征矩阵"
   ]
  },
  {
   "cell_type": "code",
   "execution_count": 5,
   "metadata": {},
   "outputs": [],
   "source": [
    "X = digits.data"
   ]
  },
  {
   "cell_type": "code",
   "execution_count": 6,
   "metadata": {},
   "outputs": [
    {
     "name": "stdout",
     "output_type": "stream",
     "text": [
      "(1797, 64)\n"
     ]
    }
   ],
   "source": [
    "print(X.shape)\n",
    "#可以看出样本一共有1797个，每个样本有64个特征，因为每个图是8x8尺寸"
   ]
  },
  {
   "cell_type": "markdown",
   "metadata": {},
   "source": [
    "数据集的标签"
   ]
  },
  {
   "cell_type": "code",
   "execution_count": 7,
   "metadata": {},
   "outputs": [
    {
     "name": "stdout",
     "output_type": "stream",
     "text": [
      "(1797,)\n"
     ]
    }
   ],
   "source": [
    "y = digits.target\n",
    "print(y.shape)"
   ]
  },
  {
   "cell_type": "code",
   "execution_count": 8,
   "metadata": {},
   "outputs": [
    {
     "data": {
      "text/plain": [
       "array([0, 1, 2, 3, 4, 5, 6, 7, 8, 9])"
      ]
     },
     "execution_count": 8,
     "metadata": {},
     "output_type": "execute_result"
    }
   ],
   "source": [
    "digits.target_names"
   ]
  },
  {
   "cell_type": "markdown",
   "metadata": {},
   "source": [
    "具体查看一个样本的值"
   ]
  },
  {
   "cell_type": "code",
   "execution_count": 9,
   "metadata": {},
   "outputs": [],
   "source": [
    "some_digit = X[666]"
   ]
  },
  {
   "cell_type": "code",
   "execution_count": 10,
   "metadata": {},
   "outputs": [
    {
     "data": {
      "text/plain": [
       "0"
      ]
     },
     "execution_count": 10,
     "metadata": {},
     "output_type": "execute_result"
    }
   ],
   "source": [
    "y[666]"
   ]
  },
  {
   "cell_type": "markdown",
   "metadata": {},
   "source": [
    "对这个样本进行可视化，就是对这个图像可视化 "
   ]
  },
  {
   "cell_type": "code",
   "execution_count": 11,
   "metadata": {
    "scrolled": true
   },
   "outputs": [
    {
     "data": {
      "image/png": "[encoded data removed]",
      "text/plain": [
       "<Figure size 432x288 with 1 Axes>"
      ]
     },
     "metadata": {},
     "output_type": "display_data"
    }
   ],
   "source": [
    "#先将这个一维的数据转成8x8的格式\n",
    "some_digit_image = some_digit.reshape(8,8)\n",
    "plt.imshow(some_digit_image, cmap = matplotlib.cm.binary)\n",
    "plt.show()"
   ]
  },
  {
   "cell_type": "code",
   "execution_count": 12,
   "metadata": {},
   "outputs": [],
   "source": [
    "from playML.model_selection import train_test_split"
   ]
  },
  {
   "cell_type": "code",
   "execution_count": 13,
   "metadata": {},
   "outputs": [],
   "source": [
    "X_train,X_test,y_train,y_test = train_test_split(X,y,0.2)"
   ]
  },
  {
   "cell_type": "code",
   "execution_count": 16,
   "metadata": {},
   "outputs": [],
   "source": [
    "from playML.KNN import KnnClassifier"
   ]
  },
  {
   "cell_type": "code",
   "execution_count": 17,
   "metadata": {},
   "outputs": [],
   "source": [
    "my_knn_classifier = KnnClassifier(3)"
   ]
  },
  {
   "cell_type": "code",
   "execution_count": 18,
   "metadata": {},
   "outputs": [
    {
     "data": {
      "text/plain": [
       "Knn(k=3)"
      ]
     },
     "execution_count": 18,
     "metadata": {},
     "output_type": "execute_result"
    }
   ],
   "source": [
    "my_knn_classifier.fit(X_train,y_train)"
   ]
  },
  {
   "cell_type": "code",
   "execution_count": 19,
   "metadata": {},
   "outputs": [],
   "source": [
    "y_predict = my_knn_classifier.predict(X_test)"
   ]
  },
  {
   "cell_type": "code",
   "execution_count": 20,
   "metadata": {},
   "outputs": [
    {
     "data": {
      "text/plain": [
       "array([4, 1, 5, 6, 8, 0, 2, 8, 4, 5, 5, 8, 7, 1, 2, 3, 7, 2, 1, 9, 9, 4,\n",
       "       7, 6, 6, 0, 1, 4, 5, 2, 1, 5, 3, 7, 3, 8, 1, 2, 8, 8, 4, 6, 7, 6,\n",
       "       5, 0, 0, 9, 6, 3, 7, 1, 1, 2, 5, 2, 7, 0, 8, 7, 0, 2, 9, 6, 6, 4,\n",
       "       2, 9, 3, 1, 1, 4, 4, 7, 3, 3, 1, 0, 0, 7, 5, 0, 5, 5, 9, 8, 5, 6,\n",
       "       6, 9, 1, 9, 7, 3, 5, 8, 5, 8, 4, 4, 8, 4, 7, 9, 1, 7, 3, 1, 2, 6,\n",
       "       9, 9, 1, 4, 1, 5, 1, 1, 5, 8, 8, 7, 1, 0, 5, 8, 4, 9, 7, 1, 7, 9,\n",
       "       2, 8, 2, 6, 2, 5, 8, 9, 4, 3, 5, 9, 8, 3, 5, 4, 6, 1, 1, 3, 1, 7,\n",
       "       0, 0, 3, 4, 8, 7, 7, 8, 6, 6, 3, 5, 4, 9, 2, 8, 0, 5, 5, 2, 9, 8,\n",
       "       5, 9, 1, 0, 2, 1, 7, 7, 7, 6, 4, 9, 2, 7, 6, 9, 0, 2, 6, 3, 0, 1,\n",
       "       6, 4, 0, 5, 9, 3, 5, 8, 7, 2, 7, 7, 1, 0, 9, 9, 2, 1, 9, 4, 7, 1,\n",
       "       4, 2, 5, 9, 8, 4, 4, 7, 4, 3, 4, 1, 7, 1, 3, 3, 6, 2, 3, 3, 3, 0,\n",
       "       5, 3, 1, 7, 5, 5, 8, 0, 9, 9, 9, 1, 6, 7, 7, 5, 1, 3, 2, 7, 5, 4,\n",
       "       6, 3, 1, 5, 9, 2, 6, 6, 6, 7, 3, 6, 0, 3, 1, 4, 3, 6, 2, 4, 7, 4,\n",
       "       1, 2, 1, 9, 5, 4, 4, 3, 7, 3, 3, 6, 6, 7, 3, 3, 6, 9, 1, 9, 2, 6,\n",
       "       7, 4, 8, 0, 3, 7, 7, 9, 4, 3, 0, 4, 1, 4, 5, 7, 6, 3, 1, 6, 0, 9,\n",
       "       1, 4, 7, 9, 5, 6, 9, 8, 3, 5, 9, 4, 1, 0, 7, 3, 0, 9, 7, 2, 5, 6,\n",
       "       8, 3, 1, 8, 6, 8, 6])"
      ]
     },
     "execution_count": 20,
     "metadata": {},
     "output_type": "execute_result"
    }
   ],
   "source": [
    "y_predict"
   ]
  },
  {
   "cell_type": "code",
   "execution_count": 21,
   "metadata": {
    "scrolled": true
   },
   "outputs": [
    {
     "data": {
      "text/plain": [
       "array([4, 1, 5, 6, 8, 0, 2, 8, 4, 5, 5, 8, 7, 1, 2, 3, 7, 2, 1, 9, 9, 4,\n",
       "       7, 6, 6, 0, 1, 4, 5, 2, 1, 5, 3, 7, 3, 8, 1, 2, 8, 8, 4, 6, 7, 6,\n",
       "       5, 0, 0, 9, 6, 3, 7, 1, 1, 2, 5, 2, 7, 0, 8, 7, 0, 2, 9, 6, 6, 4,\n",
       "       2, 9, 3, 1, 1, 4, 4, 7, 3, 3, 1, 0, 0, 7, 5, 0, 5, 5, 9, 8, 5, 6,\n",
       "       6, 9, 1, 9, 7, 9, 5, 8, 5, 8, 4, 4, 8, 4, 7, 9, 1, 7, 3, 1, 2, 6,\n",
       "       9, 9, 1, 4, 8, 5, 1, 1, 5, 8, 8, 7, 1, 0, 5, 8, 4, 9, 7, 1, 7, 9,\n",
       "       2, 8, 2, 6, 2, 5, 8, 9, 4, 3, 5, 9, 8, 3, 5, 4, 6, 1, 1, 3, 1, 7,\n",
       "       0, 0, 3, 4, 8, 7, 7, 8, 6, 6, 3, 5, 4, 9, 2, 8, 0, 5, 5, 2, 9, 8,\n",
       "       5, 9, 1, 0, 2, 1, 7, 7, 7, 6, 4, 9, 2, 7, 6, 9, 0, 2, 6, 3, 0, 1,\n",
       "       6, 4, 0, 5, 9, 3, 5, 8, 7, 2, 7, 7, 1, 0, 9, 9, 2, 1, 9, 4, 7, 1,\n",
       "       4, 2, 5, 9, 8, 4, 4, 7, 4, 3, 4, 1, 7, 1, 3, 3, 6, 2, 3, 3, 3, 0,\n",
       "       5, 3, 1, 7, 5, 5, 8, 0, 9, 9, 9, 1, 6, 7, 7, 5, 1, 3, 2, 7, 5, 4,\n",
       "       6, 3, 1, 5, 9, 2, 6, 6, 6, 7, 3, 6, 0, 3, 1, 4, 3, 6, 2, 4, 7, 4,\n",
       "       1, 2, 1, 9, 5, 4, 4, 3, 7, 3, 3, 6, 6, 7, 9, 3, 6, 9, 1, 9, 2, 6,\n",
       "       7, 4, 8, 0, 3, 7, 7, 9, 4, 3, 0, 4, 1, 4, 5, 7, 6, 3, 1, 6, 0, 9,\n",
       "       1, 4, 7, 9, 5, 6, 9, 8, 3, 5, 9, 4, 1, 0, 7, 3, 0, 9, 7, 2, 5, 6,\n",
       "       8, 3, 1, 8, 6, 8, 6])"
      ]
     },
     "execution_count": 21,
     "metadata": {},
     "output_type": "execute_result"
    }
   ],
   "source": [
    "y_test"
   ]
  },
  {
   "cell_type": "code",
   "execution_count": 22,
   "metadata": {},
   "outputs": [
    {
     "data": {
      "text/plain": [
       "0.9916434540389972"
      ]
     },
     "execution_count": 22,
     "metadata": {},
     "output_type": "execute_result"
    }
   ],
   "source": [
    "sum(y_predict == y_test) / len(y_test)"
   ]
  },
  {
   "cell_type": "markdown",
   "metadata": {},
   "source": [
    "使用我们自己封装好的计算分类准确率的函数"
   ]
  },
  {
   "cell_type": "code",
   "execution_count": 23,
   "metadata": {},
   "outputs": [
    {
     "name": "stdout",
     "output_type": "stream",
     "text": [
      "0.9916434540389972\n"
     ]
    }
   ],
   "source": [
    "from playML.metrics import accuracy_score\n",
    "print(accuracy_score(y_test,y_predict))"
   ]
  },
  {
   "cell_type": "code",
   "execution_count": 24,
   "metadata": {},
   "outputs": [
    {
     "data": {
      "text/plain": [
       "0.9916434540389972"
      ]
     },
     "execution_count": 24,
     "metadata": {},
     "output_type": "execute_result"
    }
   ],
   "source": [
    "my_knn_classifier.score(X_test,y_test)"
   ]
  },
  {
   "cell_type": "markdown",
   "metadata": {},
   "source": [
    "使用sklearn中的accuracy_score"
   ]
  },
  {
   "cell_type": "code",
   "execution_count": 25,
   "metadata": {},
   "outputs": [],
   "source": [
    "from sklearn.model_selection import train_test_split "
   ]
  },
  {
   "cell_type": "code",
   "execution_count": 26,
   "metadata": {},
   "outputs": [],
   "source": [
    "#分离训练集和测试集\n",
    "X_train,X_test,y_train,y_test = train_test_split(X,y,test_size = 0.2)"
   ]
  },
  {
   "cell_type": "code",
   "execution_count": 27,
   "metadata": {},
   "outputs": [],
   "source": [
    "from sklearn.neighbors import KNeighborsClassifier\n",
    "#创建knn分类器\n",
    "knn_classifier = KNeighborsClassifier(n_neighbors = 3)"
   ]
  },
  {
   "cell_type": "code",
   "execution_count": 28,
   "metadata": {},
   "outputs": [
    {
     "data": {
      "text/plain": [
       "KNeighborsClassifier(algorithm='auto', leaf_size=30, metric='minkowski',\n",
       "           metric_params=None, n_jobs=1, n_neighbors=3, p=2,\n",
       "           weights='uniform')"
      ]
     },
     "execution_count": 28,
     "metadata": {},
     "output_type": "execute_result"
    }
   ],
   "source": [
    "knn_classifier.fit(X_train,y_train)"
   ]
  },
  {
   "cell_type": "code",
   "execution_count": 29,
   "metadata": {},
   "outputs": [],
   "source": [
    "y_predict = knn_classifier.predict(X_test)"
   ]
  },
  {
   "cell_type": "code",
   "execution_count": 30,
   "metadata": {},
   "outputs": [
    {
     "data": {
      "text/plain": [
       "0.9916666666666667"
      ]
     },
     "execution_count": 30,
     "metadata": {},
     "output_type": "execute_result"
    }
   ],
   "source": [
    "#使用sklearn中的accuracy_score计算分类准确率\n",
    "from sklearn.metrics import accuracy_score\n",
    "accuracy_score(y_test,y_predict)"
   ]
  },
  {
   "cell_type": "markdown",
   "metadata": {},
   "source": [
    "如果无需查看预测结果而只想知道当前的分类器的分类准确率，就可以直接调用分类器中的计算方法"
   ]
  },
  {
   "cell_type": "code",
   "execution_count": 32,
   "metadata": {},
   "outputs": [
    {
     "data": {
      "text/plain": [
       "0.9916666666666667"
      ]
     },
     "execution_count": 32,
     "metadata": {},
     "output_type": "execute_result"
    }
   ],
   "source": [
    "#这种情况就只需要训练集的训练数据和标签即可\n",
    "knn_classifier.score(X_test,y_test)"
   ]
  }
 ],
 "metadata": {
  "kernelspec": {
   "display_name": "Python 3",
   "language": "python",
   "name": "python3"
  },
  "language_info": {
   "codemirror_mode": {
    "name": "ipython",
    "version": 3
   },
   "file_extension": ".py",
   "mimetype": "text/x-python",
   "name": "python",
   "nbconvert_exporter": "python",
   "pygments_lexer": "ipython3",
   "version": "3.6.4"
  }
 },
 "nbformat": 4,
 "nbformat_minor": 2
}
